{
 "cells": [
  {
   "cell_type": "markdown",
   "metadata": {},
   "source": [
    "# [Product Recommendations for Online Retail Store](https://medium.com/@peggy1502/product-recommendations-for-online-retail-store-1d565e1607b7)\n",
    "### Build and Train a Personalized Recommender Engine with Amazon SageMaker Factorization Machines\n",
    "\n",
    "**This is `Notebook Part 2`**\n",
    "\n",
    "[Click here for `Notebook Part 1`](https://github.com/peggy1502/FM-Recommender-Engine/blob/main/rating/fm_v5_part1.ipynb)"
   ]
  },
  {
   "cell_type": "code",
   "execution_count": 2,
   "metadata": {
    "execution": {
     "iopub.execute_input": "2021-11-16T05:02:44.981596Z",
     "iopub.status.busy": "2021-11-16T05:02:44.981222Z",
     "iopub.status.idle": "2021-11-16T05:02:44.987659Z",
     "shell.execute_reply": "2021-11-16T05:02:44.986994Z",
     "shell.execute_reply.started": "2021-11-16T05:02:44.981548Z"
    }
   },
   "outputs": [],
   "source": [
    "import numpy as np \n",
    "import pandas as pd \n",
    "import time\n",
    "\n",
    "import boto3\n",
    "import sagemaker\n",
    "import sagemaker.amazon.common as smac\n",
    "\n",
    "from scipy.sparse import csr_matrix, hstack, save_npz, load_npz\n",
    "from sklearn.preprocessing import OneHotEncoder\n",
    "from sklearn.feature_extraction.text import TfidfVectorizer\n",
    "from sklearn.model_selection import train_test_split"
   ]
  },
  {
   "cell_type": "code",
   "execution_count": 3,
   "metadata": {
    "execution": {
     "iopub.execute_input": "2021-11-16T05:02:44.989632Z",
     "iopub.status.busy": "2021-11-16T05:02:44.988920Z",
     "iopub.status.idle": "2021-11-16T05:02:45.000986Z",
     "shell.execute_reply": "2021-11-16T05:02:45.000064Z",
     "shell.execute_reply.started": "2021-11-16T05:02:44.989588Z"
    }
   },
   "outputs": [
    {
     "name": "stdout",
     "output_type": "stream",
     "text": [
      "numpy version: 1.19.5\n",
      "pandas version: 1.1.5\n",
      "boto3 version: 1.19.3\n",
      "sagemaker version: 2.63.2\n"
     ]
    }
   ],
   "source": [
    "print(\"numpy version:\", np.__version__)\n",
    "print(\"pandas version:\", pd.__version__)\n",
    "print(\"boto3 version:\", boto3.__version__)\n",
    "print(\"sagemaker version:\", sagemaker.__version__)"
   ]
  },
  {
   "cell_type": "markdown",
   "metadata": {},
   "source": [
    "# Reading npz files"
   ]
  },
  {
   "cell_type": "code",
   "execution_count": 4,
   "metadata": {
    "execution": {
     "iopub.status.busy": "2021-11-16T05:02:45.126126Z",
     "iopub.status.idle": "2021-11-16T05:02:45.126530Z",
     "shell.execute_reply": "2021-11-16T05:02:45.126351Z",
     "shell.execute_reply.started": "2021-11-16T05:02:45.126326Z"
    }
   },
   "outputs": [],
   "source": [
    "# load array and sparse matrices.\n",
    "\n",
    "X_train = load_npz(\"X_train.npz\")\n",
    "X_test = load_npz(\"X_test.npz\")\n",
    "\n",
    "y_train = np.load(\"y_train.npz\")\n",
    "y_test = np.load(\"y_test.npz\")\n",
    "y_train = y_train.f.arr_0\n",
    "y_test = y_test.f.arr_0\n",
    "\n",
    "# Example of sparse matrix for X_test\n",
    "# pd.DataFrame(X_test.todense())"
   ]
  },
  {
   "cell_type": "code",
   "execution_count": 5,
   "metadata": {
    "execution": {
     "iopub.status.busy": "2021-11-16T05:02:45.127737Z",
     "iopub.status.idle": "2021-11-16T05:02:45.128078Z",
     "shell.execute_reply": "2021-11-16T05:02:45.127916Z",
     "shell.execute_reply.started": "2021-11-16T05:02:45.127898Z"
    }
   },
   "outputs": [
    {
     "data": {
      "text/plain": [
       "156638"
      ]
     },
     "execution_count": 5,
     "metadata": {},
     "output_type": "execute_result"
    }
   ],
   "source": [
    "feature_dim = 0\n",
    "\n",
    "# Read the saved feature dimension.\n",
    "with open(\"feature_dim.txt\", \"r\") as f:\n",
    "    feature_dim = int(f.read())\n",
    "    \n",
    "feature_dim"
   ]
  },
  {
   "cell_type": "markdown",
   "metadata": {},
   "source": [
    "# Creating Sparse RecordIO File\n",
    "\n",
    "https://docs.aws.amazon.com/sagemaker/latest/dg/fact-machines.html\n",
    "\n",
    "For **training**, the Factorization Machines algorithm currently supports only the `recordIO-protobuf` format with Float32 tensors.\n",
    "\n",
    "For **inference**, the Factorization Machines algorithm supports the `application/json` and `x-recordio-protobuf` formats."
   ]
  },
  {
   "cell_type": "code",
   "execution_count": 6,
   "metadata": {
    "execution": {
     "iopub.status.busy": "2021-11-16T05:02:45.129194Z",
     "iopub.status.idle": "2021-11-16T05:02:45.129579Z",
     "shell.execute_reply": "2021-11-16T05:02:45.129423Z",
     "shell.execute_reply.started": "2021-11-16T05:02:45.129404Z"
    }
   },
   "outputs": [],
   "source": [
    "# Function to create sparse RecordIO file.\n",
    "\n",
    "def write_sparse_recordio_file (filename, X, y=None):\n",
    "    with open(filename, 'wb') as f:\n",
    "        smac.write_spmatrix_to_sparse_tensor (f, X, y)"
   ]
  },
  {
   "cell_type": "code",
   "execution_count": 7,
   "metadata": {
    "execution": {
     "iopub.status.busy": "2021-11-16T05:02:45.130997Z",
     "iopub.status.idle": "2021-11-16T05:02:45.131370Z",
     "shell.execute_reply": "2021-11-16T05:02:45.131188Z",
     "shell.execute_reply.started": "2021-11-16T05:02:45.131163Z"
    }
   },
   "outputs": [],
   "source": [
    "# Function to upload file to S3.\n",
    "# https://boto3.amazonaws.com/v1/documentation/api/latest/guide/s3-uploading-files.html\n",
    "# https://boto3.amazonaws.com/v1/documentation/api/latest/reference/services/s3.html#S3.Client.upload_fileobj\n",
    "\n",
    "def upload_to_s3(filename, bucket, prefix, key):\n",
    "    with open(filename,'rb') as f: # Read in binary mode\n",
    "        boto3.Session().resource('s3').Bucket(bucket).Object(f\"{prefix}/{key}\").upload_fileobj(f)\n",
    "        return f\"s3://{bucket}/{prefix}/{key}\""
   ]
  },
  {
   "cell_type": "code",
   "execution_count": 8,
   "metadata": {
    "execution": {
     "iopub.status.busy": "2021-11-16T05:02:45.133394Z",
     "iopub.status.idle": "2021-11-16T05:02:45.133959Z",
     "shell.execute_reply": "2021-11-16T05:02:45.133764Z",
     "shell.execute_reply.started": "2021-11-16T05:02:45.133739Z"
    }
   },
   "outputs": [],
   "source": [
    "# Creating the train and test RecordIO files.\n",
    "\n",
    "write_sparse_recordio_file(\"fm_train.recordio\", X_train, y_train)\n",
    "write_sparse_recordio_file(\"fm_test.recordio\", X_test, y_test)"
   ]
  },
  {
   "cell_type": "code",
   "execution_count": 9,
   "metadata": {
    "execution": {
     "iopub.status.busy": "2021-11-16T05:02:45.137162Z",
     "iopub.status.idle": "2021-11-16T05:02:45.137990Z",
     "shell.execute_reply": "2021-11-16T05:02:45.137708Z",
     "shell.execute_reply.started": "2021-11-16T05:02:45.137677Z"
    }
   },
   "outputs": [
    {
     "name": "stdout",
     "output_type": "stream",
     "text": [
      "SageMaker version: 2.63.2\n",
      "Region: us-east-2\n",
      "Bucket: sagemaker-us-east-2-802795124455\n",
      "train file location: s3://sagemaker-us-east-2-802795124455/fm/fm_train.recordio\n",
      "test file location: s3://sagemaker-us-east-2-802795124455/fm/fm_test.recordio\n",
      "model output location: s3://sagemaker-us-east-2-802795124455/fm/output\n"
     ]
    }
   ],
   "source": [
    "# Uploading the train and test RecordIO files to S3.\n",
    "\n",
    "sess = sagemaker.Session()\n",
    "region = sess.boto_region_name\n",
    "bucket = sess.default_bucket()\n",
    "\n",
    "prefix = \"fm\"\n",
    "train_key = \"fm_train.recordio\"\n",
    "test_key = \"fm_test.recordio\"\n",
    "output_location = f\"s3://{bucket}/{prefix}/output\"\n",
    "\n",
    "train_file_location = upload_to_s3(\"fm_train.recordio\", bucket, prefix, train_key)\n",
    "test_file_location = upload_to_s3(\"fm_test.recordio\", bucket, prefix, test_key)\n",
    "\n",
    "print(\"SageMaker version:\", sagemaker.__version__)\n",
    "print(\"Region:\", region)\n",
    "print(\"Bucket:\", bucket)\n",
    "print(\"train file location:\", train_file_location)\n",
    "print(\"test file location:\", test_file_location)\n",
    "print(\"model output location:\", output_location)"
   ]
  },
  {
   "cell_type": "markdown",
   "metadata": {},
   "source": [
    "# Training Job & Hyperparameters"
   ]
  },
  {
   "cell_type": "code",
   "execution_count": 17,
   "metadata": {
    "execution": {
     "iopub.status.busy": "2021-11-16T05:02:45.139197Z",
     "iopub.status.idle": "2021-11-16T05:02:45.140368Z",
     "shell.execute_reply": "2021-11-16T05:02:45.140073Z",
     "shell.execute_reply.started": "2021-11-16T05:02:45.140041Z"
    }
   },
   "outputs": [
    {
     "data": {
      "text/plain": [
       "'fm-job-v5'"
      ]
     },
     "execution_count": 17,
     "metadata": {},
     "output_type": "execute_result"
    }
   ],
   "source": [
    "job_name = 'fm-job-v5'\n",
    "job_name"
   ]
  },
  {
   "cell_type": "code",
   "execution_count": 18,
   "metadata": {
    "execution": {
     "iopub.status.busy": "2021-11-16T05:02:45.141862Z",
     "iopub.status.idle": "2021-11-16T05:02:45.142361Z",
     "shell.execute_reply": "2021-11-16T05:02:45.142109Z",
     "shell.execute_reply.started": "2021-11-16T05:02:45.142082Z"
    }
   },
   "outputs": [
    {
     "name": "stdout",
     "output_type": "stream",
     "text": [
      "Checkpoint uri: None\n"
     ]
    }
   ],
   "source": [
    "# https://github.com/aws-samples/amazon-sagemaker-managed-spot-training/blob/main/xgboost_built_in_managed_spot_training_checkpointing/xgboost_built_in_managed_spot_training_checkpointing.ipynb\n",
    "    \n",
    "use_spot_instances = False\n",
    "max_run = 3600                                   # set to 60 mins\n",
    "max_wait = 3600 if use_spot_instances else None  # set to 60 mins (must be equal or greater than max_run)\n",
    "   \n",
    "checkpoint_s3_uri = (f\"s3://{bucket}/{prefix}/checkpoints/{job_name}\" if use_spot_instances\n",
    "                     else None)\n",
    "    \n",
    "print(f\"Checkpoint uri: {checkpoint_s3_uri}\")"
   ]
  },
  {
   "cell_type": "code",
   "execution_count": 19,
   "metadata": {
    "execution": {
     "iopub.status.busy": "2021-11-16T05:02:45.144055Z",
     "iopub.status.idle": "2021-11-16T05:02:45.144872Z",
     "shell.execute_reply": "2021-11-16T05:02:45.144644Z",
     "shell.execute_reply.started": "2021-11-16T05:02:45.144610Z"
    }
   },
   "outputs": [
    {
     "data": {
      "text/plain": [
       "'arn:aws:iam::802795124455:role/service-role/AmazonSageMaker-ExecutionRole-20211026T153321'"
      ]
     },
     "execution_count": 19,
     "metadata": {},
     "output_type": "execute_result"
    }
   ],
   "source": [
    "role = sagemaker.get_execution_role()\n",
    "role"
   ]
  },
  {
   "cell_type": "code",
   "execution_count": 20,
   "metadata": {
    "execution": {
     "iopub.status.busy": "2021-11-16T05:02:45.146043Z",
     "iopub.status.idle": "2021-11-16T05:02:45.147025Z",
     "shell.execute_reply": "2021-11-16T05:02:45.146747Z",
     "shell.execute_reply.started": "2021-11-16T05:02:45.146716Z"
    }
   },
   "outputs": [
    {
     "data": {
      "text/plain": [
       "'404615174143.dkr.ecr.us-east-2.amazonaws.com/factorization-machines:1'"
      ]
     },
     "execution_count": 20,
     "metadata": {},
     "output_type": "execute_result"
    }
   ],
   "source": [
    "container = sagemaker.image_uris.retrieve(\"factorization-machines\", region=region)\n",
    "container"
   ]
  },
  {
   "cell_type": "code",
   "execution_count": 21,
   "metadata": {
    "execution": {
     "iopub.status.busy": "2021-11-16T05:02:45.148316Z",
     "iopub.status.idle": "2021-11-16T05:02:45.148789Z",
     "shell.execute_reply": "2021-11-16T05:02:45.148555Z",
     "shell.execute_reply.started": "2021-11-16T05:02:45.148530Z"
    }
   },
   "outputs": [],
   "source": [
    "estimator = sagemaker.estimator.Estimator(    \n",
    "    container,\n",
    "    role,\n",
    "    instance_count = 1,\n",
    "    instance_type = \"ml.m4.xlarge\",   # Or \"ml.c5.xlarge\",\n",
    "    output_path = output_location,\n",
    "    sagemaker_session = sess,\n",
    "    base_job_name = job_name,\n",
    "    use_spot_instances = use_spot_instances,\n",
    "    max_run = max_run,\n",
    "    max_wait = max_wait,\n",
    "    checkpoint_s3_uri = checkpoint_s3_uri\n",
    ")"
   ]
  },
  {
   "cell_type": "code",
   "execution_count": 22,
   "metadata": {
    "execution": {
     "iopub.status.busy": "2021-11-16T05:02:45.150240Z",
     "iopub.status.idle": "2021-11-16T05:02:45.150736Z",
     "shell.execute_reply": "2021-11-16T05:02:45.150504Z",
     "shell.execute_reply.started": "2021-11-16T05:02:45.150479Z"
    }
   },
   "outputs": [
    {
     "data": {
      "text/plain": [
       "{'feature_dim': 156638,\n",
       " 'num_factors': 64,\n",
       " 'predictor_type': 'regressor',\n",
       " 'epochs': 83,\n",
       " 'mini_batch_size': 1000}"
      ]
     },
     "execution_count": 22,
     "metadata": {},
     "output_type": "execute_result"
    }
   ],
   "source": [
    "# https://docs.aws.amazon.com/sagemaker/latest/dg/fact-machines-hyperparameters.html\n",
    "\n",
    "estimator.set_hyperparameters(\n",
    "    feature_dim = feature_dim,\n",
    "    num_factors = 64,  \n",
    "    predictor_type = \"regressor\",\n",
    "    epochs = 83,      \n",
    "    mini_batch_size = 1000,  \n",
    ")\n",
    "\n",
    "estimator.hyperparameters()"
   ]
  },
  {
   "cell_type": "markdown",
   "metadata": {},
   "source": [
    "# Train Model"
   ]
  },
  {
   "cell_type": "code",
   "execution_count": 23,
   "metadata": {
    "execution": {
     "iopub.status.busy": "2021-11-16T05:02:45.151845Z",
     "iopub.status.idle": "2021-11-16T05:02:45.152342Z",
     "shell.execute_reply": "2021-11-16T05:02:45.152087Z",
     "shell.execute_reply.started": "2021-11-16T05:02:45.152062Z"
    }
   },
   "outputs": [
    {
     "name": "stdout",
     "output_type": "stream",
     "text": [
      "2021-11-16 06:52:20 Starting - Starting the training job...\n",
      "2021-11-16 06:52:44 Starting - Launching requested ML instancesProfilerReport-1637045540: InProgress\n",
      "......\n",
      "2021-11-16 06:53:44 Starting - Preparing the instances for training......\n",
      "2021-11-16 06:54:48 Downloading - Downloading input data...\n",
      "2021-11-16 06:55:04 Training - Downloading the training image..\u001b[34mDocker entrypoint called with argument(s): train\u001b[0m\n",
      "\u001b[34mRunning default environment configuration script\u001b[0m\n",
      "\u001b[34m/opt/amazon/lib/python3.7/site-packages/jsonref.py:8: DeprecationWarning: Using or importing the ABCs from 'collections' instead of from 'collections.abc' is deprecated since Python 3.3,and in 3.9 it will stop working\n",
      "  from collections import Mapping, MutableMapping, Sequence\u001b[0m\n",
      "\u001b[34m/opt/amazon/lib/python3.7/site-packages/algorithm/network_builder.py:87: DeprecationWarning: invalid escape sequence \\s\n",
      "  \"\"\"\u001b[0m\n",
      "\u001b[34m/opt/amazon/lib/python3.7/site-packages/algorithm/network_builder.py:120: DeprecationWarning: invalid escape sequence \\s\n",
      "  \"\"\"\u001b[0m\n",
      "\u001b[34m[11/16/2021 06:55:34 INFO 140589165307712] Reading default configuration from /opt/amazon/lib/python3.7/site-packages/algorithm/resources/default-conf.json: {'epochs': 1, 'mini_batch_size': '1000', 'use_bias': 'true', 'use_linear': 'true', 'bias_lr': '0.1', 'linear_lr': '0.001', 'factors_lr': '0.0001', 'bias_wd': '0.01', 'linear_wd': '0.001', 'factors_wd': '0.00001', 'bias_init_method': 'normal', 'bias_init_sigma': '0.01', 'linear_init_method': 'normal', 'linear_init_sigma': '0.01', 'factors_init_method': 'normal', 'factors_init_sigma': '0.001', 'batch_metrics_publish_interval': '500', '_data_format': 'record', '_kvstore': 'auto', '_learning_rate': '1.0', '_log_level': 'info', '_num_gpus': 'auto', '_num_kv_servers': 'auto', '_optimizer': 'adam', '_tuning_objective_metric': '', '_use_full_symbolic': 'true', '_wd': '1.0'}\u001b[0m\n",
      "\u001b[34m[11/16/2021 06:55:34 INFO 140589165307712] Merging with provided configuration from /opt/ml/input/config/hyperparameters.json: {'feature_dim': '156638', 'predictor_type': 'regressor', 'num_factors': '64', 'epochs': '83', 'mini_batch_size': '1000'}\u001b[0m\n",
      "\u001b[34m[11/16/2021 06:55:34 INFO 140589165307712] Final configuration: {'epochs': '83', 'mini_batch_size': '1000', 'use_bias': 'true', 'use_linear': 'true', 'bias_lr': '0.1', 'linear_lr': '0.001', 'factors_lr': '0.0001', 'bias_wd': '0.01', 'linear_wd': '0.001', 'factors_wd': '0.00001', 'bias_init_method': 'normal', 'bias_init_sigma': '0.01', 'linear_init_method': 'normal', 'linear_init_sigma': '0.01', 'factors_init_method': 'normal', 'factors_init_sigma': '0.001', 'batch_metrics_publish_interval': '500', '_data_format': 'record', '_kvstore': 'auto', '_learning_rate': '1.0', '_log_level': 'info', '_num_gpus': 'auto', '_num_kv_servers': 'auto', '_optimizer': 'adam', '_tuning_objective_metric': '', '_use_full_symbolic': 'true', '_wd': '1.0', 'feature_dim': '156638', 'predictor_type': 'regressor', 'num_factors': '64'}\u001b[0m\n",
      "\u001b[34m[11/16/2021 06:55:34 WARNING 140589165307712] Loggers have already been setup.\u001b[0m\n",
      "\u001b[34mProcess 1 is a worker.\u001b[0m\n",
      "\u001b[34m[11/16/2021 06:55:34 INFO 140589165307712] Using default worker.\u001b[0m\n",
      "\u001b[34m[11/16/2021 06:55:34 INFO 140589165307712] Checkpoint loading and saving are disabled.\u001b[0m\n",
      "\u001b[34m[2021-11-16 06:55:34.278] [tensorio] [warning] TensorIO is already initialized; ignoring the initialization routine.\u001b[0m\n",
      "\u001b[34m[2021-11-16 06:55:34.288] [tensorio] [info] epoch_stats={\"data_pipeline\": \"/opt/ml/input/data/train\", \"epoch\": 0, \"duration\": 15, \"num_examples\": 1, \"num_bytes\": 129188}\u001b[0m\n",
      "\u001b[34m[11/16/2021 06:55:34 INFO 140589165307712] nvidia-smi: took 0.030 seconds to run.\u001b[0m\n",
      "\u001b[34m[11/16/2021 06:55:34 INFO 140589165307712] nvidia-smi identified 0 GPUs.\u001b[0m\n",
      "\u001b[34m[11/16/2021 06:55:34 INFO 140589165307712] Number of GPUs being used: 0\u001b[0m\n",
      "\u001b[34m[11/16/2021 06:55:34 INFO 140589165307712] [Sparse network] Building a sparse network.\u001b[0m\n",
      "\u001b[34m[11/16/2021 06:55:34 INFO 140589165307712] Create Store: local\u001b[0m\n",
      "\u001b[34m#metrics {\"StartTime\": 1637045734.2730994, \"EndTime\": 1637045734.3254342, \"Dimensions\": {\"Algorithm\": \"factorization-machines\", \"Host\": \"algo-1\", \"Operation\": \"training\"}, \"Metrics\": {\"initialize.time\": {\"sum\": 40.59886932373047, \"count\": 1, \"min\": 40.59886932373047, \"max\": 40.59886932373047}}}\u001b[0m\n",
      "\u001b[34m#metrics {\"StartTime\": 1637045734.325637, \"EndTime\": 1637045734.3256757, \"Dimensions\": {\"Algorithm\": \"factorization-machines\", \"Host\": \"algo-1\", \"Operation\": \"training\", \"Meta\": \"init_train_data_iter\"}, \"Metrics\": {\"Total Records Seen\": {\"sum\": 1000.0, \"count\": 1, \"min\": 1000, \"max\": 1000}, \"Total Batches Seen\": {\"sum\": 1.0, \"count\": 1, \"min\": 1, \"max\": 1}, \"Max Records Seen Between Resets\": {\"sum\": 1000.0, \"count\": 1, \"min\": 1000, \"max\": 1000}, \"Max Batches Seen Between Resets\": {\"sum\": 1.0, \"count\": 1, \"min\": 1, \"max\": 1}, \"Reset Count\": {\"sum\": 1.0, \"count\": 1, \"min\": 1, \"max\": 1}, \"Number of Records Since Last Reset\": {\"sum\": 0.0, \"count\": 1, \"min\": 0, \"max\": 0}, \"Number of Batches Since Last Reset\": {\"sum\": 0.0, \"count\": 1, \"min\": 0, \"max\": 0}}}\u001b[0m\n",
      "\u001b[34m[06:55:34] /opt/brazil-pkg-cache/packages/AIAlgorithmsMXNet/AIAlgorithmsMXNet-1.1.x.204642.0/AL2_x86_64/generic-flavor/src/src/kvstore/./kvstore_local.h:280: Warning: non-default weights detected during kvstore pull. This call has been ignored. Please make sure to use row_sparse_pull with row_ids.\u001b[0m\n",
      "\u001b[34m[06:55:34] /opt/brazil-pkg-cache/packages/AIAlgorithmsMXNet/AIAlgorithmsMXNet-1.1.x.204642.0/AL2_x86_64/generic-flavor/src/src/kvstore/./kvstore_local.h:280: Warning: non-default weights detected during kvstore pull. This call has been ignored. Please make sure to use row_sparse_pull with row_ids.\u001b[0m\n",
      "\u001b[34m[11/16/2021 06:55:34 INFO 140589165307712] #quality_metric: host=algo-1, epoch=0, batch=0 train rmse <loss>=4.338763999905388\u001b[0m\n",
      "\u001b[34m[11/16/2021 06:55:34 INFO 140589165307712] #quality_metric: host=algo-1, epoch=0, batch=0 train mse <loss>=18.824873046875\u001b[0m\n",
      "\u001b[34m[11/16/2021 06:55:34 INFO 140589165307712] #quality_metric: host=algo-1, epoch=0, batch=0 train absolute_loss <loss>=4.1383154296875\u001b[0m\n",
      "\u001b[34m[2021-11-16 06:55:37.352] [tensorio] [info] epoch_stats={\"data_pipeline\": \"/opt/ml/input/data/train\", \"epoch\": 2, \"duration\": 2569, \"num_examples\": 106, \"num_bytes\": 13773364}\u001b[0m\n",
      "\u001b[34m[11/16/2021 06:55:37 INFO 140589165307712] #quality_metric: host=algo-1, epoch=0, train rmse <loss>=2.0424632856020044\u001b[0m\n",
      "\u001b[34m[11/16/2021 06:55:37 INFO 140589165307712] #quality_metric: host=algo-1, epoch=0, train mse <loss>=4.171656273032134\u001b[0m\n",
      "\u001b[34m[11/16/2021 06:55:37 INFO 140589165307712] #quality_metric: host=algo-1, epoch=0, train absolute_loss <loss>=1.6341426915582622\u001b[0m\n",
      "\u001b[34m#metrics {\"StartTime\": 1637045734.3255346, \"EndTime\": 1637045737.3532581, \"Dimensions\": {\"Algorithm\": \"factorization-machines\", \"Host\": \"algo-1\", \"Operation\": \"training\"}, \"Metrics\": {\"epochs\": {\"sum\": 83.0, \"count\": 1, \"min\": 83, \"max\": 83}, \"update.time\": {\"sum\": 3027.207851409912, \"count\": 1, \"min\": 3027.207851409912, \"max\": 3027.207851409912}}}\u001b[0m\n",
      "\u001b[34m[11/16/2021 06:55:37 INFO 140589165307712] #progress_metric: host=algo-1, completed 1.2048192771084338 % of epochs\u001b[0m\n",
      "\u001b[34m#metrics {\"StartTime\": 1637045734.3260176, \"EndTime\": 1637045737.3535385, \"Dimensions\": {\"Algorithm\": \"factorization-machines\", \"Host\": \"algo-1\", \"Operation\": \"training\", \"epoch\": 0, \"Meta\": \"training_data_iter\"}, \"Metrics\": {\"Total Records Seen\": {\"sum\": 106635.0, \"count\": 1, \"min\": 106635, \"max\": 106635}, \"Total Batches Seen\": {\"sum\": 107.0, \"count\": 1, \"min\": 107, \"max\": 107}, \"Max Records Seen Between Resets\": {\"sum\": 105635.0, \"count\": 1, \"min\": 105635, \"max\": 105635}, \"Max Batches Seen Between Resets\": {\"sum\": 106.0, \"count\": 1, \"min\": 106, \"max\": 106}, \"Reset Count\": {\"sum\": 2.0, \"count\": 1, \"min\": 2, \"max\": 2}, \"Number of Records Since Last Reset\": {\"sum\": 105635.0, \"count\": 1, \"min\": 105635, \"max\": 105635}, \"Number of Batches Since Last Reset\": {\"sum\": 106.0, \"count\": 1, \"min\": 106, \"max\": 106}}}\u001b[0m\n",
      "\u001b[34m[11/16/2021 06:55:37 INFO 140589165307712] #throughput_metric: host=algo-1, train throughput=34889.80643657488 records/second\u001b[0m\n",
      "\u001b[34m[11/16/2021 06:55:37 INFO 140589165307712] #quality_metric: host=algo-1, epoch=1, batch=0 train rmse <loss>=1.295848426526517\u001b[0m\n",
      "\u001b[34m[11/16/2021 06:55:37 INFO 140589165307712] #quality_metric: host=algo-1, epoch=1, batch=0 train mse <loss>=1.67922314453125\u001b[0m\n",
      "\u001b[34m[11/16/2021 06:55:37 INFO 140589165307712] #quality_metric: host=algo-1, epoch=1, batch=0 train absolute_loss <loss>=1.0385703125\u001b[0m\n"
     ]
    },
    {
     "name": "stdout",
     "output_type": "stream",
     "text": [
      "\n",
      "2021-11-16 06:55:45 Training - Training image download completed. Training in progress.\u001b[34m[2021-11-16 06:55:39.370] [tensorio] [info] epoch_stats={\"data_pipeline\": \"/opt/ml/input/data/train\", \"epoch\": 4, \"duration\": 2013, \"num_examples\": 106, \"num_bytes\": 13773364}\u001b[0m\n",
      "\u001b[34m[11/16/2021 06:55:39 INFO 140589165307712] #quality_metric: host=algo-1, epoch=1, train rmse <loss>=1.3420804018254218\u001b[0m\n",
      "\u001b[34m[11/16/2021 06:55:39 INFO 140589165307712] #quality_metric: host=algo-1, epoch=1, train mse <loss>=1.8011798049638856\u001b[0m\n",
      "\u001b[34m[11/16/2021 06:55:39 INFO 140589165307712] #quality_metric: host=algo-1, epoch=1, train absolute_loss <loss>=1.0714545524165315\u001b[0m\n",
      "\u001b[34m#metrics {\"StartTime\": 1637045737.3533494, \"EndTime\": 1637045739.371646, \"Dimensions\": {\"Algorithm\": \"factorization-machines\", \"Host\": \"algo-1\", \"Operation\": \"training\"}, \"Metrics\": {\"update.time\": {\"sum\": 2017.0040130615234, \"count\": 1, \"min\": 2017.0040130615234, \"max\": 2017.0040130615234}}}\u001b[0m\n",
      "\u001b[34m[11/16/2021 06:55:39 INFO 140589165307712] #progress_metric: host=algo-1, completed 2.4096385542168677 % of epochs\u001b[0m\n",
      "\u001b[34m#metrics {\"StartTime\": 1637045737.3546119, \"EndTime\": 1637045739.3720558, \"Dimensions\": {\"Algorithm\": \"factorization-machines\", \"Host\": \"algo-1\", \"Operation\": \"training\", \"epoch\": 1, \"Meta\": \"training_data_iter\"}, \"Metrics\": {\"Total Records Seen\": {\"sum\": 212270.0, \"count\": 1, \"min\": 212270, \"max\": 212270}, \"Total Batches Seen\": {\"sum\": 213.0, \"count\": 1, \"min\": 213, \"max\": 213}, \"Max Records Seen Between Resets\": {\"sum\": 105635.0, \"count\": 1, \"min\": 105635, \"max\": 105635}, \"Max Batches Seen Between Resets\": {\"sum\": 106.0, \"count\": 1, \"min\": 106, \"max\": 106}, \"Reset Count\": {\"sum\": 3.0, \"count\": 1, \"min\": 3, \"max\": 3}, \"Number of Records Since Last Reset\": {\"sum\": 105635.0, \"count\": 1, \"min\": 105635, \"max\": 105635}, \"Number of Batches Since Last Reset\": {\"sum\": 106.0, \"count\": 1, \"min\": 106, \"max\": 106}}}\u001b[0m\n",
      "\u001b[34m[11/16/2021 06:55:39 INFO 140589165307712] #throughput_metric: host=algo-1, train throughput=52356.4619905569 records/second\u001b[0m\n",
      "\u001b[34m[11/16/2021 06:55:39 INFO 140589165307712] #quality_metric: host=algo-1, epoch=2, batch=0 train rmse <loss>=1.2763337941547903\u001b[0m\n",
      "\u001b[34m[11/16/2021 06:55:39 INFO 140589165307712] #quality_metric: host=algo-1, epoch=2, batch=0 train mse <loss>=1.6290279541015624\u001b[0m\n",
      "\u001b[34m[11/16/2021 06:55:39 INFO 140589165307712] #quality_metric: host=algo-1, epoch=2, batch=0 train absolute_loss <loss>=1.0222332153320313\u001b[0m\n",
      "\u001b[34m[2021-11-16 06:55:41.343] [tensorio] [info] epoch_stats={\"data_pipeline\": \"/opt/ml/input/data/train\", \"epoch\": 6, \"duration\": 1968, \"num_examples\": 106, \"num_bytes\": 13773364}\u001b[0m\n",
      "\u001b[34m[11/16/2021 06:55:41 INFO 140589165307712] #quality_metric: host=algo-1, epoch=2, train rmse <loss>=1.321440293523597\u001b[0m\n",
      "\u001b[34m[11/16/2021 06:55:41 INFO 140589165307712] #quality_metric: host=algo-1, epoch=2, train mse <loss>=1.74620444934773\u001b[0m\n",
      "\u001b[34m[11/16/2021 06:55:41 INFO 140589165307712] #quality_metric: host=algo-1, epoch=2, train absolute_loss <loss>=1.054289608361586\u001b[0m\n",
      "\u001b[34m#metrics {\"StartTime\": 1637045739.371785, \"EndTime\": 1637045741.3446298, \"Dimensions\": {\"Algorithm\": \"factorization-machines\", \"Host\": \"algo-1\", \"Operation\": \"training\"}, \"Metrics\": {\"update.time\": {\"sum\": 1971.25244140625, \"count\": 1, \"min\": 1971.25244140625, \"max\": 1971.25244140625}}}\u001b[0m\n",
      "\u001b[34m[11/16/2021 06:55:41 INFO 140589165307712] #progress_metric: host=algo-1, completed 3.6144578313253013 % of epochs\u001b[0m\n",
      "\u001b[34m#metrics {\"StartTime\": 1637045739.3733432, \"EndTime\": 1637045741.344993, \"Dimensions\": {\"Algorithm\": \"factorization-machines\", \"Host\": \"algo-1\", \"Operation\": \"training\", \"epoch\": 2, \"Meta\": \"training_data_iter\"}, \"Metrics\": {\"Total Records Seen\": {\"sum\": 317905.0, \"count\": 1, \"min\": 317905, \"max\": 317905}, \"Total Batches Seen\": {\"sum\": 319.0, \"count\": 1, \"min\": 319, \"max\": 319}, \"Max Records Seen Between Resets\": {\"sum\": 105635.0, \"count\": 1, \"min\": 105635, \"max\": 105635}, \"Max Batches Seen Between Resets\": {\"sum\": 106.0, \"count\": 1, \"min\": 106, \"max\": 106}, \"Reset Count\": {\"sum\": 4.0, \"count\": 1, \"min\": 4, \"max\": 4}, \"Number of Records Since Last Reset\": {\"sum\": 105635.0, \"count\": 1, \"min\": 105635, \"max\": 105635}, \"Number of Batches Since Last Reset\": {\"sum\": 106.0, \"count\": 1, \"min\": 106, \"max\": 106}}}\u001b[0m\n",
      "\u001b[34m[11/16/2021 06:55:41 INFO 140589165307712] #throughput_metric: host=algo-1, train throughput=53572.09136624972 records/second\u001b[0m\n",
      "\u001b[34m[11/16/2021 06:55:41 INFO 140589165307712] #quality_metric: host=algo-1, epoch=3, batch=0 train rmse <loss>=1.2565645497838294\u001b[0m\n",
      "\u001b[34m[11/16/2021 06:55:41 INFO 140589165307712] #quality_metric: host=algo-1, epoch=3, batch=0 train mse <loss>=1.5789544677734375\u001b[0m\n",
      "\u001b[34m[11/16/2021 06:55:41 INFO 140589165307712] #quality_metric: host=algo-1, epoch=3, batch=0 train absolute_loss <loss>=1.00574365234375\u001b[0m\n",
      "\u001b[34m[2021-11-16 06:55:43.372] [tensorio] [info] epoch_stats={\"data_pipeline\": \"/opt/ml/input/data/train\", \"epoch\": 8, \"duration\": 2024, \"num_examples\": 106, \"num_bytes\": 13773364}\u001b[0m\n",
      "\u001b[34m[11/16/2021 06:55:43 INFO 140589165307712] #quality_metric: host=algo-1, epoch=3, train rmse <loss>=1.3022132244568003\u001b[0m\n",
      "\u001b[34m[11/16/2021 06:55:43 INFO 140589165307712] #quality_metric: host=algo-1, epoch=3, train mse <loss>=1.6957592819501768\u001b[0m\n",
      "\u001b[34m[11/16/2021 06:55:43 INFO 140589165307712] #quality_metric: host=algo-1, epoch=3, train absolute_loss <loss>=1.0380090049887603\u001b[0m\n",
      "\u001b[34m#metrics {\"StartTime\": 1637045741.3447251, \"EndTime\": 1637045743.373427, \"Dimensions\": {\"Algorithm\": \"factorization-machines\", \"Host\": \"algo-1\", \"Operation\": \"training\"}, \"Metrics\": {\"update.time\": {\"sum\": 2027.280330657959, \"count\": 1, \"min\": 2027.280330657959, \"max\": 2027.280330657959}}}\u001b[0m\n",
      "\u001b[34m[11/16/2021 06:55:43 INFO 140589165307712] #progress_metric: host=algo-1, completed 4.819277108433735 % of epochs\u001b[0m\n",
      "\u001b[34m#metrics {\"StartTime\": 1637045741.3461108, \"EndTime\": 1637045743.3737345, \"Dimensions\": {\"Algorithm\": \"factorization-machines\", \"Host\": \"algo-1\", \"Operation\": \"training\", \"epoch\": 3, \"Meta\": \"training_data_iter\"}, \"Metrics\": {\"Total Records Seen\": {\"sum\": 423540.0, \"count\": 1, \"min\": 423540, \"max\": 423540}, \"Total Batches Seen\": {\"sum\": 425.0, \"count\": 1, \"min\": 425, \"max\": 425}, \"Max Records Seen Between Resets\": {\"sum\": 105635.0, \"count\": 1, \"min\": 105635, \"max\": 105635}, \"Max Batches Seen Between Resets\": {\"sum\": 106.0, \"count\": 1, \"min\": 106, \"max\": 106}, \"Reset Count\": {\"sum\": 5.0, \"count\": 1, \"min\": 5, \"max\": 5}, \"Number of Records Since Last Reset\": {\"sum\": 105635.0, \"count\": 1, \"min\": 105635, \"max\": 105635}, \"Number of Batches Since Last Reset\": {\"sum\": 106.0, \"count\": 1, \"min\": 106, \"max\": 106}}}\u001b[0m\n",
      "\u001b[34m[11/16/2021 06:55:43 INFO 140589165307712] #throughput_metric: host=algo-1, train throughput=52093.11783678234 records/second\u001b[0m\n",
      "\u001b[34m[11/16/2021 06:55:43 INFO 140589165307712] #quality_metric: host=algo-1, epoch=4, batch=0 train rmse <loss>=1.2401702370226737\u001b[0m\n",
      "\u001b[34m[11/16/2021 06:55:43 INFO 140589165307712] #quality_metric: host=algo-1, epoch=4, batch=0 train mse <loss>=1.538022216796875\u001b[0m\n",
      "\u001b[34m[11/16/2021 06:55:43 INFO 140589165307712] #quality_metric: host=algo-1, epoch=4, batch=0 train absolute_loss <loss>=0.99232470703125\u001b[0m\n",
      "\u001b[34m[2021-11-16 06:55:45.479] [tensorio] [info] epoch_stats={\"data_pipeline\": \"/opt/ml/input/data/train\", \"epoch\": 10, \"duration\": 2102, \"num_examples\": 106, \"num_bytes\": 13773364}\u001b[0m\n",
      "\u001b[34m[11/16/2021 06:55:45 INFO 140589165307712] #quality_metric: host=algo-1, epoch=4, train rmse <loss>=1.2851461313904577\u001b[0m\n",
      "\u001b[34m[11/16/2021 06:55:45 INFO 140589165307712] #quality_metric: host=algo-1, epoch=4, train mse <loss>=1.6516005790278596\u001b[0m\n",
      "\u001b[34m[11/16/2021 06:55:45 INFO 140589165307712] #quality_metric: host=algo-1, epoch=4, train absolute_loss <loss>=1.0222412915499706\u001b[0m\n",
      "\u001b[34m#metrics {\"StartTime\": 1637045743.3735218, \"EndTime\": 1637045745.4804451, \"Dimensions\": {\"Algorithm\": \"factorization-machines\", \"Host\": \"algo-1\", \"Operation\": \"training\"}, \"Metrics\": {\"update.time\": {\"sum\": 2105.4635047912598, \"count\": 1, \"min\": 2105.4635047912598, \"max\": 2105.4635047912598}}}\u001b[0m\n",
      "\u001b[34m[11/16/2021 06:55:45 INFO 140589165307712] #progress_metric: host=algo-1, completed 6.024096385542169 % of epochs\u001b[0m\n",
      "\u001b[34m#metrics {\"StartTime\": 1637045743.3749468, \"EndTime\": 1637045745.480771, \"Dimensions\": {\"Algorithm\": \"factorization-machines\", \"Host\": \"algo-1\", \"Operation\": \"training\", \"epoch\": 4, \"Meta\": \"training_data_iter\"}, \"Metrics\": {\"Total Records Seen\": {\"sum\": 529175.0, \"count\": 1, \"min\": 529175, \"max\": 529175}, \"Total Batches Seen\": {\"sum\": 531.0, \"count\": 1, \"min\": 531, \"max\": 531}, \"Max Records Seen Between Resets\": {\"sum\": 105635.0, \"count\": 1, \"min\": 105635, \"max\": 105635}, \"Max Batches Seen Between Resets\": {\"sum\": 106.0, \"count\": 1, \"min\": 106, \"max\": 106}, \"Reset Count\": {\"sum\": 6.0, \"count\": 1, \"min\": 6, \"max\": 6}, \"Number of Records Since Last Reset\": {\"sum\": 105635.0, \"count\": 1, \"min\": 105635, \"max\": 105635}, \"Number of Batches Since Last Reset\": {\"sum\": 106.0, \"count\": 1, \"min\": 106, \"max\": 106}}}\u001b[0m\n",
      "\u001b[34m[11/16/2021 06:55:45 INFO 140589165307712] #throughput_metric: host=algo-1, train throughput=50159.53055787857 records/second\u001b[0m\n",
      "\u001b[34m[11/16/2021 06:55:45 INFO 140589165307712] #quality_metric: host=algo-1, epoch=5, batch=0 train rmse <loss>=1.2258179965811349\u001b[0m\n",
      "\u001b[34m[11/16/2021 06:55:45 INFO 140589165307712] #quality_metric: host=algo-1, epoch=5, batch=0 train mse <loss>=1.5026297607421875\u001b[0m\n",
      "\u001b[34m[11/16/2021 06:55:45 INFO 140589165307712] #quality_metric: host=algo-1, epoch=5, batch=0 train absolute_loss <loss>=0.9796325073242188\u001b[0m\n",
      "\u001b[34m[2021-11-16 06:55:47.441] [tensorio] [info] epoch_stats={\"data_pipeline\": \"/opt/ml/input/data/train\", \"epoch\": 12, \"duration\": 1957, \"num_examples\": 106, \"num_bytes\": 13773364}\u001b[0m\n",
      "\u001b[34m[11/16/2021 06:55:47 INFO 140589165307712] #quality_metric: host=algo-1, epoch=5, train rmse <loss>=1.269289855950737\u001b[0m\n",
      "\u001b[34m[11/16/2021 06:55:47 INFO 140589165307712] #quality_metric: host=algo-1, epoch=5, train mse <loss>=1.6110967384194428\u001b[0m\n",
      "\u001b[34m[11/16/2021 06:55:47 INFO 140589165307712] #quality_metric: host=algo-1, epoch=5, train absolute_loss <loss>=1.006458059058999\u001b[0m\n",
      "\u001b[34m#metrics {\"StartTime\": 1637045745.4805393, \"EndTime\": 1637045747.4426527, \"Dimensions\": {\"Algorithm\": \"factorization-machines\", \"Host\": \"algo-1\", \"Operation\": \"training\"}, \"Metrics\": {\"update.time\": {\"sum\": 1960.702896118164, \"count\": 1, \"min\": 1960.702896118164, \"max\": 1960.702896118164}}}\u001b[0m\n",
      "\u001b[34m[11/16/2021 06:55:47 INFO 140589165307712] #progress_metric: host=algo-1, completed 7.228915662650603 % of epochs\u001b[0m\n",
      "\u001b[34m#metrics {\"StartTime\": 1637045745.4819205, \"EndTime\": 1637045747.4428902, \"Dimensions\": {\"Algorithm\": \"factorization-machines\", \"Host\": \"algo-1\", \"Operation\": \"training\", \"epoch\": 5, \"Meta\": \"training_data_iter\"}, \"Metrics\": {\"Total Records Seen\": {\"sum\": 634810.0, \"count\": 1, \"min\": 634810, \"max\": 634810}, \"Total Batches Seen\": {\"sum\": 637.0, \"count\": 1, \"min\": 637, \"max\": 637}, \"Max Records Seen Between Resets\": {\"sum\": 105635.0, \"count\": 1, \"min\": 105635, \"max\": 105635}, \"Max Batches Seen Between Resets\": {\"sum\": 106.0, \"count\": 1, \"min\": 106, \"max\": 106}, \"Reset Count\": {\"sum\": 7.0, \"count\": 1, \"min\": 7, \"max\": 7}, \"Number of Records Since Last Reset\": {\"sum\": 105635.0, \"count\": 1, \"min\": 105635, \"max\": 105635}, \"Number of Batches Since Last Reset\": {\"sum\": 106.0, \"count\": 1, \"min\": 106, \"max\": 106}}}\u001b[0m\n",
      "\u001b[34m[11/16/2021 06:55:47 INFO 140589165307712] #throughput_metric: host=algo-1, train throughput=53865.13562773906 records/second\u001b[0m\n",
      "\u001b[34m[11/16/2021 06:55:47 INFO 140589165307712] #quality_metric: host=algo-1, epoch=6, batch=0 train rmse <loss>=1.2123931774786902\u001b[0m\n",
      "\u001b[34m[11/16/2021 06:55:47 INFO 140589165307712] #quality_metric: host=algo-1, epoch=6, batch=0 train mse <loss>=1.469897216796875\u001b[0m\n",
      "\u001b[34m[11/16/2021 06:55:47 INFO 140589165307712] #quality_metric: host=algo-1, epoch=6, batch=0 train absolute_loss <loss>=0.9668632202148437\u001b[0m\n",
      "\u001b[34m[2021-11-16 06:55:49.422] [tensorio] [info] epoch_stats={\"data_pipeline\": \"/opt/ml/input/data/train\", \"epoch\": 14, \"duration\": 1976, \"num_examples\": 106, \"num_bytes\": 13773364}\u001b[0m\n",
      "\u001b[34m[11/16/2021 06:55:49 INFO 140589165307712] #quality_metric: host=algo-1, epoch=6, train rmse <loss>=1.2539711678847043\u001b[0m\n",
      "\u001b[34m[11/16/2021 06:55:49 INFO 140589165307712] #quality_metric: host=algo-1, epoch=6, train mse <loss>=1.5724436898861291\u001b[0m\n",
      "\u001b[34m[11/16/2021 06:55:49 INFO 140589165307712] #quality_metric: host=algo-1, epoch=6, train absolute_loss <loss>=0.9904431653292673\u001b[0m\n",
      "\u001b[34m#metrics {\"StartTime\": 1637045747.442731, \"EndTime\": 1637045749.4230132, \"Dimensions\": {\"Algorithm\": \"factorization-machines\", \"Host\": \"algo-1\", \"Operation\": \"training\"}, \"Metrics\": {\"update.time\": {\"sum\": 1979.027509689331, \"count\": 1, \"min\": 1979.027509689331, \"max\": 1979.027509689331}}}\u001b[0m\n",
      "\u001b[34m[11/16/2021 06:55:49 INFO 140589165307712] #progress_metric: host=algo-1, completed 8.433734939759036 % of epochs\u001b[0m\n",
      "\u001b[34m#metrics {\"StartTime\": 1637045747.4439564, \"EndTime\": 1637045749.423249, \"Dimensions\": {\"Algorithm\": \"factorization-machines\", \"Host\": \"algo-1\", \"Operation\": \"training\", \"epoch\": 6, \"Meta\": \"training_data_iter\"}, \"Metrics\": {\"Total Records Seen\": {\"sum\": 740445.0, \"count\": 1, \"min\": 740445, \"max\": 740445}, \"Total Batches Seen\": {\"sum\": 743.0, \"count\": 1, \"min\": 743, \"max\": 743}, \"Max Records Seen Between Resets\": {\"sum\": 105635.0, \"count\": 1, \"min\": 105635, \"max\": 105635}, \"Max Batches Seen Between Resets\": {\"sum\": 106.0, \"count\": 1, \"min\": 106, \"max\": 106}, \"Reset Count\": {\"sum\": 8.0, \"count\": 1, \"min\": 8, \"max\": 8}, \"Number of Records Since Last Reset\": {\"sum\": 105635.0, \"count\": 1, \"min\": 105635, \"max\": 105635}, \"Number of Batches Since Last Reset\": {\"sum\": 106.0, \"count\": 1, \"min\": 106, \"max\": 106}}}\u001b[0m\n",
      "\u001b[34m[11/16/2021 06:55:49 INFO 140589165307712] #throughput_metric: host=algo-1, train throughput=53366.60562410755 records/second\u001b[0m\n",
      "\u001b[34m[11/16/2021 06:55:49 INFO 140589165307712] #quality_metric: host=algo-1, epoch=7, batch=0 train rmse <loss>=1.1993736158147301\u001b[0m\n",
      "\u001b[34m[11/16/2021 06:55:49 INFO 140589165307712] #quality_metric: host=algo-1, epoch=7, batch=0 train mse <loss>=1.4384970703125\u001b[0m\n",
      "\u001b[34m[11/16/2021 06:55:49 INFO 140589165307712] #quality_metric: host=algo-1, epoch=7, batch=0 train absolute_loss <loss>=0.9540350341796875\u001b[0m\n"
     ]
    },
    {
     "name": "stdout",
     "output_type": "stream",
     "text": [
      "\u001b[34m[2021-11-16 06:55:51.507] [tensorio] [info] epoch_stats={\"data_pipeline\": \"/opt/ml/input/data/train\", \"epoch\": 16, \"duration\": 2081, \"num_examples\": 106, \"num_bytes\": 13773364}\u001b[0m\n",
      "\u001b[34m[11/16/2021 06:55:51 INFO 140589165307712] #quality_metric: host=algo-1, epoch=7, train rmse <loss>=1.2387667379037761\u001b[0m\n",
      "\u001b[34m[11/16/2021 06:55:51 INFO 140589165307712] #quality_metric: host=algo-1, epoch=7, train mse <loss>=1.534543030936763\u001b[0m\n",
      "\u001b[34m[11/16/2021 06:55:51 INFO 140589165307712] #quality_metric: host=algo-1, epoch=7, train absolute_loss <loss>=0.974174281282245\u001b[0m\n",
      "\u001b[34m#metrics {\"StartTime\": 1637045749.4230914, \"EndTime\": 1637045751.5082593, \"Dimensions\": {\"Algorithm\": \"factorization-machines\", \"Host\": \"algo-1\", \"Operation\": \"training\"}, \"Metrics\": {\"update.time\": {\"sum\": 2083.857297897339, \"count\": 1, \"min\": 2083.857297897339, \"max\": 2083.857297897339}}}\u001b[0m\n",
      "\u001b[34m[11/16/2021 06:55:51 INFO 140589165307712] #progress_metric: host=algo-1, completed 9.63855421686747 % of epochs\u001b[0m\n",
      "\u001b[34m#metrics {\"StartTime\": 1637045749.4243555, \"EndTime\": 1637045751.5085342, \"Dimensions\": {\"Algorithm\": \"factorization-machines\", \"Host\": \"algo-1\", \"Operation\": \"training\", \"epoch\": 7, \"Meta\": \"training_data_iter\"}, \"Metrics\": {\"Total Records Seen\": {\"sum\": 846080.0, \"count\": 1, \"min\": 846080, \"max\": 846080}, \"Total Batches Seen\": {\"sum\": 849.0, \"count\": 1, \"min\": 849, \"max\": 849}, \"Max Records Seen Between Resets\": {\"sum\": 105635.0, \"count\": 1, \"min\": 105635, \"max\": 105635}, \"Max Batches Seen Between Resets\": {\"sum\": 106.0, \"count\": 1, \"min\": 106, \"max\": 106}, \"Reset Count\": {\"sum\": 9.0, \"count\": 1, \"min\": 9, \"max\": 9}, \"Number of Records Since Last Reset\": {\"sum\": 105635.0, \"count\": 1, \"min\": 105635, \"max\": 105635}, \"Number of Batches Since Last Reset\": {\"sum\": 106.0, \"count\": 1, \"min\": 106, \"max\": 106}}}\u001b[0m\n",
      "\u001b[34m[11/16/2021 06:55:51 INFO 140589165307712] #throughput_metric: host=algo-1, train throughput=50680.442284685334 records/second\u001b[0m\n",
      "\u001b[34m[11/16/2021 06:55:51 INFO 140589165307712] #quality_metric: host=algo-1, epoch=8, batch=0 train rmse <loss>=1.1864674273045541\u001b[0m\n",
      "\u001b[34m[11/16/2021 06:55:51 INFO 140589165307712] #quality_metric: host=algo-1, epoch=8, batch=0 train mse <loss>=1.4077049560546875\u001b[0m\n",
      "\u001b[34m[11/16/2021 06:55:51 INFO 140589165307712] #quality_metric: host=algo-1, epoch=8, batch=0 train absolute_loss <loss>=0.9406328735351562\u001b[0m\n",
      "\u001b[34m[2021-11-16 06:55:53.398] [tensorio] [info] epoch_stats={\"data_pipeline\": \"/opt/ml/input/data/train\", \"epoch\": 18, \"duration\": 1886, \"num_examples\": 106, \"num_bytes\": 13773364}\u001b[0m\n",
      "\u001b[34m[11/16/2021 06:55:53 INFO 140589165307712] #quality_metric: host=algo-1, epoch=8, train rmse <loss>=1.2234124511354736\u001b[0m\n",
      "\u001b[34m[11/16/2021 06:55:53 INFO 140589165307712] #quality_metric: host=algo-1, epoch=8, train mse <loss>=1.4967380255933078\u001b[0m\n",
      "\u001b[34m[11/16/2021 06:55:53 INFO 140589165307712] #quality_metric: host=algo-1, epoch=8, train absolute_loss <loss>=0.9575352881089696\u001b[0m\n",
      "\u001b[34m#metrics {\"StartTime\": 1637045751.5083396, \"EndTime\": 1637045753.3992074, \"Dimensions\": {\"Algorithm\": \"factorization-machines\", \"Host\": \"algo-1\", \"Operation\": \"training\"}, \"Metrics\": {\"update.time\": {\"sum\": 1889.5070552825928, \"count\": 1, \"min\": 1889.5070552825928, \"max\": 1889.5070552825928}}}\u001b[0m\n",
      "\u001b[34m[11/16/2021 06:55:53 INFO 140589165307712] #progress_metric: host=algo-1, completed 10.843373493975903 % of epochs\u001b[0m\n",
      "\u001b[34m#metrics {\"StartTime\": 1637045751.5096443, \"EndTime\": 1637045753.3995025, \"Dimensions\": {\"Algorithm\": \"factorization-machines\", \"Host\": \"algo-1\", \"Operation\": \"training\", \"epoch\": 8, \"Meta\": \"training_data_iter\"}, \"Metrics\": {\"Total Records Seen\": {\"sum\": 951715.0, \"count\": 1, \"min\": 951715, \"max\": 951715}, \"Total Batches Seen\": {\"sum\": 955.0, \"count\": 1, \"min\": 955, \"max\": 955}, \"Max Records Seen Between Resets\": {\"sum\": 105635.0, \"count\": 1, \"min\": 105635, \"max\": 105635}, \"Max Batches Seen Between Resets\": {\"sum\": 106.0, \"count\": 1, \"min\": 106, \"max\": 106}, \"Reset Count\": {\"sum\": 10.0, \"count\": 1, \"min\": 10, \"max\": 10}, \"Number of Records Since Last Reset\": {\"sum\": 105635.0, \"count\": 1, \"min\": 105635, \"max\": 105635}, \"Number of Batches Since Last Reset\": {\"sum\": 106.0, \"count\": 1, \"min\": 106, \"max\": 106}}}\u001b[0m\n",
      "\u001b[34m[11/16/2021 06:55:53 INFO 140589165307712] #throughput_metric: host=algo-1, train throughput=55890.84739228785 records/second\u001b[0m\n",
      "\u001b[34m[11/16/2021 06:55:53 INFO 140589165307712] #quality_metric: host=algo-1, epoch=9, batch=0 train rmse <loss>=1.173467251620172\u001b[0m\n",
      "\u001b[34m[11/16/2021 06:55:53 INFO 140589165307712] #quality_metric: host=algo-1, epoch=9, batch=0 train mse <loss>=1.377025390625\u001b[0m\n",
      "\u001b[34m[11/16/2021 06:55:53 INFO 140589165307712] #quality_metric: host=algo-1, epoch=9, batch=0 train absolute_loss <loss>=0.9269562377929688\u001b[0m\n",
      "\u001b[34m[2021-11-16 06:55:55.324] [tensorio] [info] epoch_stats={\"data_pipeline\": \"/opt/ml/input/data/train\", \"epoch\": 20, \"duration\": 1922, \"num_examples\": 106, \"num_bytes\": 13773364}\u001b[0m\n",
      "\u001b[34m[11/16/2021 06:55:55 INFO 140589165307712] #quality_metric: host=algo-1, epoch=9, train rmse <loss>=1.207741942019505\u001b[0m\n",
      "\u001b[34m[11/16/2021 06:55:55 INFO 140589165307712] #quality_metric: host=algo-1, epoch=9, train mse <loss>=1.4586405985130455\u001b[0m\n",
      "\u001b[34m[11/16/2021 06:55:55 INFO 140589165307712] #quality_metric: host=algo-1, epoch=9, train absolute_loss <loss>=0.940509598066222\u001b[0m\n",
      "\u001b[34m#metrics {\"StartTime\": 1637045753.3992958, \"EndTime\": 1637045755.3260567, \"Dimensions\": {\"Algorithm\": \"factorization-machines\", \"Host\": \"algo-1\", \"Operation\": \"training\"}, \"Metrics\": {\"update.time\": {\"sum\": 1925.3883361816406, \"count\": 1, \"min\": 1925.3883361816406, \"max\": 1925.3883361816406}}}\u001b[0m\n",
      "\u001b[34m[11/16/2021 06:55:55 INFO 140589165307712] #progress_metric: host=algo-1, completed 12.048192771084338 % of epochs\u001b[0m\n",
      "\u001b[34m#metrics {\"StartTime\": 1637045753.4006128, \"EndTime\": 1637045755.32637, \"Dimensions\": {\"Algorithm\": \"factorization-machines\", \"Host\": \"algo-1\", \"Operation\": \"training\", \"epoch\": 9, \"Meta\": \"training_data_iter\"}, \"Metrics\": {\"Total Records Seen\": {\"sum\": 1057350.0, \"count\": 1, \"min\": 1057350, \"max\": 1057350}, \"Total Batches Seen\": {\"sum\": 1061.0, \"count\": 1, \"min\": 1061, \"max\": 1061}, \"Max Records Seen Between Resets\": {\"sum\": 105635.0, \"count\": 1, \"min\": 105635, \"max\": 105635}, \"Max Batches Seen Between Resets\": {\"sum\": 106.0, \"count\": 1, \"min\": 106, \"max\": 106}, \"Reset Count\": {\"sum\": 11.0, \"count\": 1, \"min\": 11, \"max\": 11}, \"Number of Records Since Last Reset\": {\"sum\": 105635.0, \"count\": 1, \"min\": 105635, \"max\": 105635}, \"Number of Batches Since Last Reset\": {\"sum\": 106.0, \"count\": 1, \"min\": 106, \"max\": 106}}}\u001b[0m\n",
      "\u001b[34m[11/16/2021 06:55:55 INFO 140589165307712] #throughput_metric: host=algo-1, train throughput=54849.219441046276 records/second\u001b[0m\n",
      "\u001b[34m[11/16/2021 06:55:55 INFO 140589165307712] #quality_metric: host=algo-1, epoch=10, batch=0 train rmse <loss>=1.1602219573143644\u001b[0m\n",
      "\u001b[34m[11/16/2021 06:55:55 INFO 140589165307712] #quality_metric: host=algo-1, epoch=10, batch=0 train mse <loss>=1.346114990234375\u001b[0m\n",
      "\u001b[34m[11/16/2021 06:55:55 INFO 140589165307712] #quality_metric: host=algo-1, epoch=10, batch=0 train absolute_loss <loss>=0.9125493774414063\u001b[0m\n",
      "\u001b[34m[2021-11-16 06:55:57.293] [tensorio] [info] epoch_stats={\"data_pipeline\": \"/opt/ml/input/data/train\", \"epoch\": 22, \"duration\": 1957, \"num_examples\": 106, \"num_bytes\": 13773364}\u001b[0m\n",
      "\u001b[34m[11/16/2021 06:55:57 INFO 140589165307712] #quality_metric: host=algo-1, epoch=10, train rmse <loss>=1.1916515227541427\u001b[0m\n",
      "\u001b[34m[11/16/2021 06:55:57 INFO 140589165307712] #quality_metric: host=algo-1, epoch=10, train mse <loss>=1.4200333516822672\u001b[0m\n",
      "\u001b[34m[11/16/2021 06:55:57 INFO 140589165307712] #quality_metric: host=algo-1, epoch=10, train absolute_loss <loss>=0.9230324718547317\u001b[0m\n",
      "\u001b[34m#metrics {\"StartTime\": 1637045755.3261466, \"EndTime\": 1637045757.2944424, \"Dimensions\": {\"Algorithm\": \"factorization-machines\", \"Host\": \"algo-1\", \"Operation\": \"training\"}, \"Metrics\": {\"update.time\": {\"sum\": 1965.3704166412354, \"count\": 1, \"min\": 1965.3704166412354, \"max\": 1965.3704166412354}}}\u001b[0m\n",
      "\u001b[34m[11/16/2021 06:55:57 INFO 140589165307712] #progress_metric: host=algo-1, completed 13.25301204819277 % of epochs\u001b[0m\n",
      "\u001b[34m#metrics {\"StartTime\": 1637045755.3290207, \"EndTime\": 1637045757.2946968, \"Dimensions\": {\"Algorithm\": \"factorization-machines\", \"Host\": \"algo-1\", \"Operation\": \"training\", \"epoch\": 10, \"Meta\": \"training_data_iter\"}, \"Metrics\": {\"Total Records Seen\": {\"sum\": 1162985.0, \"count\": 1, \"min\": 1162985, \"max\": 1162985}, \"Total Batches Seen\": {\"sum\": 1167.0, \"count\": 1, \"min\": 1167, \"max\": 1167}, \"Max Records Seen Between Resets\": {\"sum\": 105635.0, \"count\": 1, \"min\": 105635, \"max\": 105635}, \"Max Batches Seen Between Resets\": {\"sum\": 106.0, \"count\": 1, \"min\": 106, \"max\": 106}, \"Reset Count\": {\"sum\": 12.0, \"count\": 1, \"min\": 12, \"max\": 12}, \"Number of Records Since Last Reset\": {\"sum\": 105635.0, \"count\": 1, \"min\": 105635, \"max\": 105635}, \"Number of Batches Since Last Reset\": {\"sum\": 106.0, \"count\": 1, \"min\": 106, \"max\": 106}}}\u001b[0m\n",
      "\u001b[34m[11/16/2021 06:55:57 INFO 140589165307712] #throughput_metric: host=algo-1, train throughput=53735.89571387803 records/second\u001b[0m\n",
      "\u001b[34m[11/16/2021 06:55:57 INFO 140589165307712] #quality_metric: host=algo-1, epoch=11, batch=0 train rmse <loss>=1.1466248982237228\u001b[0m\n",
      "\u001b[34m[11/16/2021 06:55:57 INFO 140589165307712] #quality_metric: host=algo-1, epoch=11, batch=0 train mse <loss>=1.3147486572265625\u001b[0m\n",
      "\u001b[34m[11/16/2021 06:55:57 INFO 140589165307712] #quality_metric: host=algo-1, epoch=11, batch=0 train absolute_loss <loss>=0.8977232666015625\u001b[0m\n",
      "\u001b[34m[2021-11-16 06:55:59.148] [tensorio] [info] epoch_stats={\"data_pipeline\": \"/opt/ml/input/data/train\", \"epoch\": 24, \"duration\": 1850, \"num_examples\": 106, \"num_bytes\": 13773364}\u001b[0m\n",
      "\u001b[34m[11/16/2021 06:55:59 INFO 140589165307712] #quality_metric: host=algo-1, epoch=11, train rmse <loss>=1.1750805690344648\u001b[0m\n",
      "\u001b[34m[11/16/2021 06:55:59 INFO 140589165307712] #quality_metric: host=algo-1, epoch=11, train mse <loss>=1.3808143437223614\u001b[0m\n",
      "\u001b[34m[11/16/2021 06:55:59 INFO 140589165307712] #quality_metric: host=algo-1, epoch=11, train absolute_loss <loss>=0.905044385802071\u001b[0m\n",
      "\u001b[34m#metrics {\"StartTime\": 1637045757.2945254, \"EndTime\": 1637045759.1489892, \"Dimensions\": {\"Algorithm\": \"factorization-machines\", \"Host\": \"algo-1\", \"Operation\": \"training\"}, \"Metrics\": {\"update.time\": {\"sum\": 1853.1415462493896, \"count\": 1, \"min\": 1853.1415462493896, \"max\": 1853.1415462493896}}}\u001b[0m\n",
      "\u001b[34m[11/16/2021 06:55:59 INFO 140589165307712] #progress_metric: host=algo-1, completed 14.457831325301205 % of epochs\u001b[0m\n",
      "\u001b[34m#metrics {\"StartTime\": 1637045757.2958171, \"EndTime\": 1637045759.1492314, \"Dimensions\": {\"Algorithm\": \"factorization-machines\", \"Host\": \"algo-1\", \"Operation\": \"training\", \"epoch\": 11, \"Meta\": \"training_data_iter\"}, \"Metrics\": {\"Total Records Seen\": {\"sum\": 1268620.0, \"count\": 1, \"min\": 1268620, \"max\": 1268620}, \"Total Batches Seen\": {\"sum\": 1273.0, \"count\": 1, \"min\": 1273, \"max\": 1273}, \"Max Records Seen Between Resets\": {\"sum\": 105635.0, \"count\": 1, \"min\": 105635, \"max\": 105635}, \"Max Batches Seen Between Resets\": {\"sum\": 106.0, \"count\": 1, \"min\": 106, \"max\": 106}, \"Reset Count\": {\"sum\": 13.0, \"count\": 1, \"min\": 13, \"max\": 13}, \"Number of Records Since Last Reset\": {\"sum\": 105635.0, \"count\": 1, \"min\": 105635, \"max\": 105635}, \"Number of Batches Since Last Reset\": {\"sum\": 106.0, \"count\": 1, \"min\": 106, \"max\": 106}}}\u001b[0m\n",
      "\u001b[34m[11/16/2021 06:55:59 INFO 140589165307712] #throughput_metric: host=algo-1, train throughput=56990.934122530714 records/second\u001b[0m\n",
      "\u001b[34m[11/16/2021 06:55:59 INFO 140589165307712] #quality_metric: host=algo-1, epoch=12, batch=0 train rmse <loss>=1.1326009500743741\u001b[0m\n",
      "\u001b[34m[11/16/2021 06:55:59 INFO 140589165307712] #quality_metric: host=algo-1, epoch=12, batch=0 train mse <loss>=1.282784912109375\u001b[0m\n",
      "\u001b[34m[11/16/2021 06:55:59 INFO 140589165307712] #quality_metric: host=algo-1, epoch=12, batch=0 train absolute_loss <loss>=0.8822588500976563\u001b[0m\n",
      "\u001b[34m[2021-11-16 06:56:01.257] [tensorio] [info] epoch_stats={\"data_pipeline\": \"/opt/ml/input/data/train\", \"epoch\": 26, \"duration\": 2104, \"num_examples\": 106, \"num_bytes\": 13773364}\u001b[0m\n",
      "\u001b[34m[11/16/2021 06:56:01 INFO 140589165307712] #quality_metric: host=algo-1, epoch=12, train rmse <loss>=1.1579991729272932\u001b[0m\n",
      "\u001b[34m[11/16/2021 06:56:01 INFO 140589165307712] #quality_metric: host=algo-1, epoch=12, train mse <loss>=1.3409620845002947\u001b[0m\n",
      "\u001b[34m[11/16/2021 06:56:01 INFO 140589165307712] #quality_metric: host=algo-1, epoch=12, train absolute_loss <loss>=0.8865593526588296\u001b[0m\n",
      "\u001b[34m#metrics {\"StartTime\": 1637045759.1490657, \"EndTime\": 1637045761.2585742, \"Dimensions\": {\"Algorithm\": \"factorization-machines\", \"Host\": \"algo-1\", \"Operation\": \"training\"}, \"Metrics\": {\"update.time\": {\"sum\": 2108.152389526367, \"count\": 1, \"min\": 2108.152389526367, \"max\": 2108.152389526367}}}\u001b[0m\n",
      "\u001b[34m[11/16/2021 06:56:01 INFO 140589165307712] #progress_metric: host=algo-1, completed 15.662650602409638 % of epochs\u001b[0m\n",
      "\u001b[34m#metrics {\"StartTime\": 1637045759.1503847, \"EndTime\": 1637045761.2589765, \"Dimensions\": {\"Algorithm\": \"factorization-machines\", \"Host\": \"algo-1\", \"Operation\": \"training\", \"epoch\": 12, \"Meta\": \"training_data_iter\"}, \"Metrics\": {\"Total Records Seen\": {\"sum\": 1374255.0, \"count\": 1, \"min\": 1374255, \"max\": 1374255}, \"Total Batches Seen\": {\"sum\": 1379.0, \"count\": 1, \"min\": 1379, \"max\": 1379}, \"Max Records Seen Between Resets\": {\"sum\": 105635.0, \"count\": 1, \"min\": 105635, \"max\": 105635}, \"Max Batches Seen Between Resets\": {\"sum\": 106.0, \"count\": 1, \"min\": 106, \"max\": 106}, \"Reset Count\": {\"sum\": 14.0, \"count\": 1, \"min\": 14, \"max\": 14}, \"Number of Records Since Last Reset\": {\"sum\": 105635.0, \"count\": 1, \"min\": 105635, \"max\": 105635}, \"Number of Batches Since Last Reset\": {\"sum\": 106.0, \"count\": 1, \"min\": 106, \"max\": 106}}}\u001b[0m\n",
      "\u001b[34m[11/16/2021 06:56:01 INFO 140589165307712] #throughput_metric: host=algo-1, train throughput=50093.73984309742 records/second\u001b[0m\n",
      "\u001b[34m[11/16/2021 06:56:01 INFO 140589165307712] #quality_metric: host=algo-1, epoch=13, batch=0 train rmse <loss>=1.1180969309815283\u001b[0m\n",
      "\u001b[34m[11/16/2021 06:56:01 INFO 140589165307712] #quality_metric: host=algo-1, epoch=13, batch=0 train mse <loss>=1.2501407470703125\u001b[0m\n",
      "\u001b[34m[11/16/2021 06:56:01 INFO 140589165307712] #quality_metric: host=algo-1, epoch=13, batch=0 train absolute_loss <loss>=0.86619677734375\u001b[0m\n"
     ]
    },
    {
     "name": "stdout",
     "output_type": "stream",
     "text": [
      "\u001b[34m[2021-11-16 06:56:03.277] [tensorio] [info] epoch_stats={\"data_pipeline\": \"/opt/ml/input/data/train\", \"epoch\": 28, \"duration\": 2010, \"num_examples\": 106, \"num_bytes\": 13773364}\u001b[0m\n",
      "\u001b[34m[11/16/2021 06:56:03 INFO 140589165307712] #quality_metric: host=algo-1, epoch=13, train rmse <loss>=1.140399518231467\u001b[0m\n",
      "\u001b[34m[11/16/2021 06:56:03 INFO 140589165307712] #quality_metric: host=algo-1, epoch=13, train mse <loss>=1.3005110611825619\u001b[0m\n",
      "\u001b[34m[11/16/2021 06:56:03 INFO 140589165307712] #quality_metric: host=algo-1, epoch=13, train absolute_loss <loss>=0.8675872917895047\u001b[0m\n",
      "\u001b[34m#metrics {\"StartTime\": 1637045761.2587187, \"EndTime\": 1637045763.2783256, \"Dimensions\": {\"Algorithm\": \"factorization-machines\", \"Host\": \"algo-1\", \"Operation\": \"training\"}, \"Metrics\": {\"update.time\": {\"sum\": 2018.157720565796, \"count\": 1, \"min\": 2018.157720565796, \"max\": 2018.157720565796}}}\u001b[0m\n",
      "\u001b[34m[11/16/2021 06:56:03 INFO 140589165307712] #progress_metric: host=algo-1, completed 16.867469879518072 % of epochs\u001b[0m\n",
      "\u001b[34m#metrics {\"StartTime\": 1637045761.2601333, \"EndTime\": 1637045763.2786012, \"Dimensions\": {\"Algorithm\": \"factorization-machines\", \"Host\": \"algo-1\", \"Operation\": \"training\", \"epoch\": 13, \"Meta\": \"training_data_iter\"}, \"Metrics\": {\"Total Records Seen\": {\"sum\": 1479890.0, \"count\": 1, \"min\": 1479890, \"max\": 1479890}, \"Total Batches Seen\": {\"sum\": 1485.0, \"count\": 1, \"min\": 1485, \"max\": 1485}, \"Max Records Seen Between Resets\": {\"sum\": 105635.0, \"count\": 1, \"min\": 105635, \"max\": 105635}, \"Max Batches Seen Between Resets\": {\"sum\": 106.0, \"count\": 1, \"min\": 106, \"max\": 106}, \"Reset Count\": {\"sum\": 15.0, \"count\": 1, \"min\": 15, \"max\": 15}, \"Number of Records Since Last Reset\": {\"sum\": 105635.0, \"count\": 1, \"min\": 105635, \"max\": 105635}, \"Number of Batches Since Last Reset\": {\"sum\": 106.0, \"count\": 1, \"min\": 106, \"max\": 106}}}\u001b[0m\n",
      "\u001b[34m[11/16/2021 06:56:03 INFO 140589165307712] #throughput_metric: host=algo-1, train throughput=52330.36012036335 records/second\u001b[0m\n",
      "\u001b[34m[11/16/2021 06:56:03 INFO 140589165307712] #quality_metric: host=algo-1, epoch=14, batch=0 train rmse <loss>=1.1030780797386919\u001b[0m\n",
      "\u001b[34m[11/16/2021 06:56:03 INFO 140589165307712] #quality_metric: host=algo-1, epoch=14, batch=0 train mse <loss>=1.21678125\u001b[0m\n",
      "\u001b[34m[11/16/2021 06:56:03 INFO 140589165307712] #quality_metric: host=algo-1, epoch=14, batch=0 train absolute_loss <loss>=0.8495618286132812\u001b[0m\n",
      "\u001b[34m[2021-11-16 06:56:05.551] [tensorio] [info] epoch_stats={\"data_pipeline\": \"/opt/ml/input/data/train\", \"epoch\": 30, \"duration\": 2269, \"num_examples\": 106, \"num_bytes\": 13773364}\u001b[0m\n",
      "\u001b[34m[11/16/2021 06:56:05 INFO 140589165307712] #quality_metric: host=algo-1, epoch=14, train rmse <loss>=1.1222898266141\u001b[0m\n",
      "\u001b[34m[11/16/2021 06:56:05 INFO 140589165307712] #quality_metric: host=algo-1, epoch=14, train mse <loss>=1.2595344549215064\u001b[0m\n",
      "\u001b[34m[11/16/2021 06:56:05 INFO 140589165307712] #quality_metric: host=algo-1, epoch=14, train absolute_loss <loss>=0.8481489499649911\u001b[0m\n",
      "\u001b[34m#metrics {\"StartTime\": 1637045763.2784243, \"EndTime\": 1637045765.5526354, \"Dimensions\": {\"Algorithm\": \"factorization-machines\", \"Host\": \"algo-1\", \"Operation\": \"training\"}, \"Metrics\": {\"update.time\": {\"sum\": 2272.8817462921143, \"count\": 1, \"min\": 2272.8817462921143, \"max\": 2272.8817462921143}}}\u001b[0m\n",
      "\u001b[34m[11/16/2021 06:56:05 INFO 140589165307712] #progress_metric: host=algo-1, completed 18.072289156626507 % of epochs\u001b[0m\n",
      "\u001b[34m#metrics {\"StartTime\": 1637045763.2797234, \"EndTime\": 1637045765.5528698, \"Dimensions\": {\"Algorithm\": \"factorization-machines\", \"Host\": \"algo-1\", \"Operation\": \"training\", \"epoch\": 14, \"Meta\": \"training_data_iter\"}, \"Metrics\": {\"Total Records Seen\": {\"sum\": 1585525.0, \"count\": 1, \"min\": 1585525, \"max\": 1585525}, \"Total Batches Seen\": {\"sum\": 1591.0, \"count\": 1, \"min\": 1591, \"max\": 1591}, \"Max Records Seen Between Resets\": {\"sum\": 105635.0, \"count\": 1, \"min\": 105635, \"max\": 105635}, \"Max Batches Seen Between Resets\": {\"sum\": 106.0, \"count\": 1, \"min\": 106, \"max\": 106}, \"Reset Count\": {\"sum\": 16.0, \"count\": 1, \"min\": 16, \"max\": 16}, \"Number of Records Since Last Reset\": {\"sum\": 105635.0, \"count\": 1, \"min\": 105635, \"max\": 105635}, \"Number of Batches Since Last Reset\": {\"sum\": 106.0, \"count\": 1, \"min\": 106, \"max\": 106}}}\u001b[0m\n",
      "\u001b[34m[11/16/2021 06:56:05 INFO 140589165307712] #throughput_metric: host=algo-1, train throughput=46468.115514245466 records/second\u001b[0m\n",
      "\u001b[34m[11/16/2021 06:56:05 INFO 140589165307712] #quality_metric: host=algo-1, epoch=15, batch=0 train rmse <loss>=1.0875277811645492\u001b[0m\n",
      "\u001b[34m[11/16/2021 06:56:05 INFO 140589165307712] #quality_metric: host=algo-1, epoch=15, batch=0 train mse <loss>=1.1827166748046876\u001b[0m\n",
      "\u001b[34m[11/16/2021 06:56:05 INFO 140589165307712] #quality_metric: host=algo-1, epoch=15, batch=0 train absolute_loss <loss>=0.8321102905273438\u001b[0m\n",
      "\u001b[34m[2021-11-16 06:56:07.954] [tensorio] [info] epoch_stats={\"data_pipeline\": \"/opt/ml/input/data/train\", \"epoch\": 32, \"duration\": 2398, \"num_examples\": 106, \"num_bytes\": 13773364}\u001b[0m\n",
      "\u001b[34m[11/16/2021 06:56:07 INFO 140589165307712] #quality_metric: host=algo-1, epoch=15, train rmse <loss>=1.1036902738423244\u001b[0m\n",
      "\u001b[34m[11/16/2021 06:56:07 INFO 140589165307712] #quality_metric: host=algo-1, epoch=15, train mse <loss>=1.218132220574145\u001b[0m\n",
      "\u001b[34m[11/16/2021 06:56:07 INFO 140589165307712] #quality_metric: host=algo-1, epoch=15, train absolute_loss <loss>=0.8282620227741745\u001b[0m\n",
      "\u001b[34m#metrics {\"StartTime\": 1637045765.552711, \"EndTime\": 1637045767.9555936, \"Dimensions\": {\"Algorithm\": \"factorization-machines\", \"Host\": \"algo-1\", \"Operation\": \"training\"}, \"Metrics\": {\"update.time\": {\"sum\": 2401.6003608703613, \"count\": 1, \"min\": 2401.6003608703613, \"max\": 2401.6003608703613}}}\u001b[0m\n",
      "\u001b[34m[11/16/2021 06:56:07 INFO 140589165307712] #progress_metric: host=algo-1, completed 19.27710843373494 % of epochs\u001b[0m\n",
      "\u001b[34m#metrics {\"StartTime\": 1637045765.5539582, \"EndTime\": 1637045767.95588, \"Dimensions\": {\"Algorithm\": \"factorization-machines\", \"Host\": \"algo-1\", \"Operation\": \"training\", \"epoch\": 15, \"Meta\": \"training_data_iter\"}, \"Metrics\": {\"Total Records Seen\": {\"sum\": 1691160.0, \"count\": 1, \"min\": 1691160, \"max\": 1691160}, \"Total Batches Seen\": {\"sum\": 1697.0, \"count\": 1, \"min\": 1697, \"max\": 1697}, \"Max Records Seen Between Resets\": {\"sum\": 105635.0, \"count\": 1, \"min\": 105635, \"max\": 105635}, \"Max Batches Seen Between Resets\": {\"sum\": 106.0, \"count\": 1, \"min\": 106, \"max\": 106}, \"Reset Count\": {\"sum\": 17.0, \"count\": 1, \"min\": 17, \"max\": 17}, \"Number of Records Since Last Reset\": {\"sum\": 105635.0, \"count\": 1, \"min\": 105635, \"max\": 105635}, \"Number of Batches Since Last Reset\": {\"sum\": 106.0, \"count\": 1, \"min\": 106, \"max\": 106}}}\u001b[0m\n",
      "\u001b[34m[11/16/2021 06:56:07 INFO 140589165307712] #throughput_metric: host=algo-1, train throughput=43975.906248055246 records/second\u001b[0m\n",
      "\u001b[34m[11/16/2021 06:56:07 INFO 140589165307712] #quality_metric: host=algo-1, epoch=16, batch=0 train rmse <loss>=1.0714474479828968\u001b[0m\n",
      "\u001b[34m[11/16/2021 06:56:07 INFO 140589165307712] #quality_metric: host=algo-1, epoch=16, batch=0 train mse <loss>=1.1479996337890626\u001b[0m\n",
      "\u001b[34m[11/16/2021 06:56:07 INFO 140589165307712] #quality_metric: host=algo-1, epoch=16, batch=0 train absolute_loss <loss>=0.813912841796875\u001b[0m\n",
      "\u001b[34m[2021-11-16 06:56:09.873] [tensorio] [info] epoch_stats={\"data_pipeline\": \"/opt/ml/input/data/train\", \"epoch\": 34, \"duration\": 1913, \"num_examples\": 106, \"num_bytes\": 13773364}\u001b[0m\n",
      "\u001b[34m[11/16/2021 06:56:09 INFO 140589165307712] #quality_metric: host=algo-1, epoch=16, train rmse <loss>=1.0846302921106394\u001b[0m\n",
      "\u001b[34m[11/16/2021 06:56:09 INFO 140589165307712] #quality_metric: host=algo-1, epoch=16, train mse <loss>=1.176422870564011\u001b[0m\n",
      "\u001b[34m[11/16/2021 06:56:09 INFO 140589165307712] #quality_metric: host=algo-1, epoch=16, train absolute_loss <loss>=0.8079337532475309\u001b[0m\n",
      "\u001b[34m#metrics {\"StartTime\": 1637045767.9556816, \"EndTime\": 1637045769.8739045, \"Dimensions\": {\"Algorithm\": \"factorization-machines\", \"Host\": \"algo-1\", \"Operation\": \"training\"}, \"Metrics\": {\"update.time\": {\"sum\": 1916.780948638916, \"count\": 1, \"min\": 1916.780948638916, \"max\": 1916.780948638916}}}\u001b[0m\n",
      "\u001b[34m[11/16/2021 06:56:09 INFO 140589165307712] #progress_metric: host=algo-1, completed 20.481927710843372 % of epochs\u001b[0m\n",
      "\u001b[34m#metrics {\"StartTime\": 1637045767.9570878, \"EndTime\": 1637045769.874205, \"Dimensions\": {\"Algorithm\": \"factorization-machines\", \"Host\": \"algo-1\", \"Operation\": \"training\", \"epoch\": 16, \"Meta\": \"training_data_iter\"}, \"Metrics\": {\"Total Records Seen\": {\"sum\": 1796795.0, \"count\": 1, \"min\": 1796795, \"max\": 1796795}, \"Total Batches Seen\": {\"sum\": 1803.0, \"count\": 1, \"min\": 1803, \"max\": 1803}, \"Max Records Seen Between Resets\": {\"sum\": 105635.0, \"count\": 1, \"min\": 105635, \"max\": 105635}, \"Max Batches Seen Between Resets\": {\"sum\": 106.0, \"count\": 1, \"min\": 106, \"max\": 106}, \"Reset Count\": {\"sum\": 18.0, \"count\": 1, \"min\": 18, \"max\": 18}, \"Number of Records Since Last Reset\": {\"sum\": 105635.0, \"count\": 1, \"min\": 105635, \"max\": 105635}, \"Number of Batches Since Last Reset\": {\"sum\": 106.0, \"count\": 1, \"min\": 106, \"max\": 106}}}\u001b[0m\n",
      "\u001b[34m[11/16/2021 06:56:09 INFO 140589165307712] #throughput_metric: host=algo-1, train throughput=55096.42044683699 records/second\u001b[0m\n",
      "\u001b[34m[11/16/2021 06:56:09 INFO 140589165307712] #quality_metric: host=algo-1, epoch=17, batch=0 train rmse <loss>=1.0548531698586954\u001b[0m\n",
      "\u001b[34m[11/16/2021 06:56:09 INFO 140589165307712] #quality_metric: host=algo-1, epoch=17, batch=0 train mse <loss>=1.1127152099609374\u001b[0m\n",
      "\u001b[34m[11/16/2021 06:56:09 INFO 140589165307712] #quality_metric: host=algo-1, epoch=17, batch=0 train absolute_loss <loss>=0.7952140502929688\u001b[0m\n",
      "\u001b[34m[2021-11-16 06:56:11.882] [tensorio] [info] epoch_stats={\"data_pipeline\": \"/opt/ml/input/data/train\", \"epoch\": 36, \"duration\": 2005, \"num_examples\": 106, \"num_bytes\": 13773364}\u001b[0m\n",
      "\u001b[34m[11/16/2021 06:56:11 INFO 140589165307712] #quality_metric: host=algo-1, epoch=17, train rmse <loss>=1.0651462474183575\u001b[0m\n",
      "\u001b[34m[11/16/2021 06:56:11 INFO 140589165307712] #quality_metric: host=algo-1, epoch=17, train mse <loss>=1.1345365283894089\u001b[0m\n",
      "\u001b[34m[11/16/2021 06:56:11 INFO 140589165307712] #quality_metric: host=algo-1, epoch=17, train absolute_loss <loss>=0.7873220520019532\u001b[0m\n",
      "\u001b[34m#metrics {\"StartTime\": 1637045769.873995, \"EndTime\": 1637045771.8837903, \"Dimensions\": {\"Algorithm\": \"factorization-machines\", \"Host\": \"algo-1\", \"Operation\": \"training\"}, \"Metrics\": {\"update.time\": {\"sum\": 2008.4669589996338, \"count\": 1, \"min\": 2008.4669589996338, \"max\": 2008.4669589996338}}}\u001b[0m\n",
      "\u001b[34m[11/16/2021 06:56:11 INFO 140589165307712] #progress_metric: host=algo-1, completed 21.686746987951807 % of epochs\u001b[0m\n",
      "\u001b[34m#metrics {\"StartTime\": 1637045769.875294, \"EndTime\": 1637045771.8840432, \"Dimensions\": {\"Algorithm\": \"factorization-machines\", \"Host\": \"algo-1\", \"Operation\": \"training\", \"epoch\": 17, \"Meta\": \"training_data_iter\"}, \"Metrics\": {\"Total Records Seen\": {\"sum\": 1902430.0, \"count\": 1, \"min\": 1902430, \"max\": 1902430}, \"Total Batches Seen\": {\"sum\": 1909.0, \"count\": 1, \"min\": 1909, \"max\": 1909}, \"Max Records Seen Between Resets\": {\"sum\": 105635.0, \"count\": 1, \"min\": 105635, \"max\": 105635}, \"Max Batches Seen Between Resets\": {\"sum\": 106.0, \"count\": 1, \"min\": 106, \"max\": 106}, \"Reset Count\": {\"sum\": 19.0, \"count\": 1, \"min\": 19, \"max\": 19}, \"Number of Records Since Last Reset\": {\"sum\": 105635.0, \"count\": 1, \"min\": 105635, \"max\": 105635}, \"Number of Batches Since Last Reset\": {\"sum\": 106.0, \"count\": 1, \"min\": 106, \"max\": 106}}}\u001b[0m\n",
      "\u001b[34m[11/16/2021 06:56:11 INFO 140589165307712] #throughput_metric: host=algo-1, train throughput=52584.26044907698 records/second\u001b[0m\n",
      "\u001b[34m[11/16/2021 06:56:11 INFO 140589165307712] #quality_metric: host=algo-1, epoch=18, batch=0 train rmse <loss>=1.0377726957136375\u001b[0m\n",
      "\u001b[34m[11/16/2021 06:56:11 INFO 140589165307712] #quality_metric: host=algo-1, epoch=18, batch=0 train mse <loss>=1.07697216796875\u001b[0m\n",
      "\u001b[34m[11/16/2021 06:56:11 INFO 140589165307712] #quality_metric: host=algo-1, epoch=18, batch=0 train absolute_loss <loss>=0.7761281127929688\u001b[0m\n",
      "\u001b[34m[2021-11-16 06:56:13.734] [tensorio] [info] epoch_stats={\"data_pipeline\": \"/opt/ml/input/data/train\", \"epoch\": 38, \"duration\": 1847, \"num_examples\": 106, \"num_bytes\": 13773364}\u001b[0m\n",
      "\u001b[34m[11/16/2021 06:56:13 INFO 140589165307712] #quality_metric: host=algo-1, epoch=18, train rmse <loss>=1.0452796507714153\u001b[0m\n",
      "\u001b[34m[11/16/2021 06:56:13 INFO 140589165307712] #quality_metric: host=algo-1, epoch=18, train mse <loss>=1.0926095483168117\u001b[0m\n",
      "\u001b[34m[11/16/2021 06:56:13 INFO 140589165307712] #quality_metric: host=algo-1, epoch=18, train absolute_loss <loss>=0.7664943381255528\u001b[0m\n",
      "\u001b[34m#metrics {\"StartTime\": 1637045771.883876, \"EndTime\": 1637045773.7355897, \"Dimensions\": {\"Algorithm\": \"factorization-machines\", \"Host\": \"algo-1\", \"Operation\": \"training\"}, \"Metrics\": {\"update.time\": {\"sum\": 1850.409984588623, \"count\": 1, \"min\": 1850.409984588623, \"max\": 1850.409984588623}}}\u001b[0m\n",
      "\u001b[34m[11/16/2021 06:56:13 INFO 140589165307712] #progress_metric: host=algo-1, completed 22.89156626506024 % of epochs\u001b[0m\n",
      "\u001b[34m#metrics {\"StartTime\": 1637045771.8851445, \"EndTime\": 1637045773.7358844, \"Dimensions\": {\"Algorithm\": \"factorization-machines\", \"Host\": \"algo-1\", \"Operation\": \"training\", \"epoch\": 18, \"Meta\": \"training_data_iter\"}, \"Metrics\": {\"Total Records Seen\": {\"sum\": 2008065.0, \"count\": 1, \"min\": 2008065, \"max\": 2008065}, \"Total Batches Seen\": {\"sum\": 2015.0, \"count\": 1, \"min\": 2015, \"max\": 2015}, \"Max Records Seen Between Resets\": {\"sum\": 105635.0, \"count\": 1, \"min\": 105635, \"max\": 105635}, \"Max Batches Seen Between Resets\": {\"sum\": 106.0, \"count\": 1, \"min\": 106, \"max\": 106}, \"Reset Count\": {\"sum\": 20.0, \"count\": 1, \"min\": 20, \"max\": 20}, \"Number of Records Since Last Reset\": {\"sum\": 105635.0, \"count\": 1, \"min\": 105635, \"max\": 105635}, \"Number of Batches Since Last Reset\": {\"sum\": 106.0, \"count\": 1, \"min\": 106, \"max\": 106}}}\u001b[0m\n",
      "\u001b[34m[11/16/2021 06:56:13 INFO 140589165307712] #throughput_metric: host=algo-1, train throughput=57073.20021651128 records/second\u001b[0m\n",
      "\u001b[34m[11/16/2021 06:56:13 INFO 140589165307712] #quality_metric: host=algo-1, epoch=19, batch=0 train rmse <loss>=1.0202400553339457\u001b[0m\n",
      "\u001b[34m[11/16/2021 06:56:13 INFO 140589165307712] #quality_metric: host=algo-1, epoch=19, batch=0 train mse <loss>=1.0408897705078124\u001b[0m\n",
      "\u001b[34m[11/16/2021 06:56:13 INFO 140589165307712] #quality_metric: host=algo-1, epoch=19, batch=0 train absolute_loss <loss>=0.7570299682617188\u001b[0m\n",
      "\u001b[34m[2021-11-16 06:56:15.887] [tensorio] [info] epoch_stats={\"data_pipeline\": \"/opt/ml/input/data/train\", \"epoch\": 40, \"duration\": 2148, \"num_examples\": 106, \"num_bytes\": 13773364}\u001b[0m\n",
      "\u001b[34m[11/16/2021 06:56:15 INFO 140589165307712] #quality_metric: host=algo-1, epoch=19, train rmse <loss>=1.0250756515904755\u001b[0m\n",
      "\u001b[34m[11/16/2021 06:56:15 INFO 140589165307712] #quality_metric: host=algo-1, epoch=19, train mse <loss>=1.050780091483638\u001b[0m\n",
      "\u001b[34m[11/16/2021 06:56:15 INFO 140589165307712] #quality_metric: host=algo-1, epoch=19, train absolute_loss <loss>=0.7454909414615272\u001b[0m\n",
      "\u001b[34m#metrics {\"StartTime\": 1637045773.7357082, \"EndTime\": 1637045775.8885367, \"Dimensions\": {\"Algorithm\": \"factorization-machines\", \"Host\": \"algo-1\", \"Operation\": \"training\"}, \"Metrics\": {\"update.time\": {\"sum\": 2151.350259780884, \"count\": 1, \"min\": 2151.350259780884, \"max\": 2151.350259780884}}}\u001b[0m\n",
      "\u001b[34m[11/16/2021 06:56:15 INFO 140589165307712] #progress_metric: host=algo-1, completed 24.096385542168676 % of epochs\u001b[0m\n",
      "\u001b[34m#metrics {\"StartTime\": 1637045773.7371562, \"EndTime\": 1637045775.888785, \"Dimensions\": {\"Algorithm\": \"factorization-machines\", \"Host\": \"algo-1\", \"Operation\": \"training\", \"epoch\": 19, \"Meta\": \"training_data_iter\"}, \"Metrics\": {\"Total Records Seen\": {\"sum\": 2113700.0, \"count\": 1, \"min\": 2113700, \"max\": 2113700}, \"Total Batches Seen\": {\"sum\": 2121.0, \"count\": 1, \"min\": 2121, \"max\": 2121}, \"Max Records Seen Between Resets\": {\"sum\": 105635.0, \"count\": 1, \"min\": 105635, \"max\": 105635}, \"Max Batches Seen Between Resets\": {\"sum\": 106.0, \"count\": 1, \"min\": 106, \"max\": 106}, \"Reset Count\": {\"sum\": 21.0, \"count\": 1, \"min\": 21, \"max\": 21}, \"Number of Records Since Last Reset\": {\"sum\": 105635.0, \"count\": 1, \"min\": 105635, \"max\": 105635}, \"Number of Batches Since Last Reset\": {\"sum\": 106.0, \"count\": 1, \"min\": 106, \"max\": 106}}}\u001b[0m\n",
      "\u001b[34m[11/16/2021 06:56:15 INFO 140589165307712] #throughput_metric: host=algo-1, train throughput=49092.18364197018 records/second\u001b[0m\n",
      "\u001b[34m[11/16/2021 06:56:15 INFO 140589165307712] #quality_metric: host=algo-1, epoch=20, batch=0 train rmse <loss>=1.0022922032244546\u001b[0m\n",
      "\u001b[34m[11/16/2021 06:56:15 INFO 140589165307712] #quality_metric: host=algo-1, epoch=20, batch=0 train mse <loss>=1.0045896606445313\u001b[0m\n",
      "\u001b[34m[11/16/2021 06:56:15 INFO 140589165307712] #quality_metric: host=algo-1, epoch=20, batch=0 train absolute_loss <loss>=0.737694580078125\u001b[0m\n",
      "\u001b[34m[2021-11-16 06:56:17.856] [tensorio] [info] epoch_stats={\"data_pipeline\": \"/opt/ml/input/data/train\", \"epoch\": 42, \"duration\": 1964, \"num_examples\": 106, \"num_bytes\": 13773364}\u001b[0m\n",
      "\u001b[34m[11/16/2021 06:56:17 INFO 140589165307712] #quality_metric: host=algo-1, epoch=20, train rmse <loss>=1.004581765835032\u001b[0m\n",
      "\u001b[34m[11/16/2021 06:56:17 INFO 140589165307712] #quality_metric: host=algo-1, epoch=20, train mse <loss>=1.0091845242482311\u001b[0m\n",
      "\u001b[34m[11/16/2021 06:56:17 INFO 140589165307712] #quality_metric: host=algo-1, epoch=20, train absolute_loss <loss>=0.7243830266988502\u001b[0m\n",
      "\u001b[34m#metrics {\"StartTime\": 1637045775.8886223, \"EndTime\": 1637045777.857255, \"Dimensions\": {\"Algorithm\": \"factorization-machines\", \"Host\": \"algo-1\", \"Operation\": \"training\"}, \"Metrics\": {\"update.time\": {\"sum\": 1967.3173427581787, \"count\": 1, \"min\": 1967.3173427581787, \"max\": 1967.3173427581787}}}\u001b[0m\n",
      "\u001b[34m[11/16/2021 06:56:17 INFO 140589165307712] #progress_metric: host=algo-1, completed 25.301204819277107 % of epochs\u001b[0m\n",
      "\u001b[34m#metrics {\"StartTime\": 1637045775.8899088, \"EndTime\": 1637045777.8576033, \"Dimensions\": {\"Algorithm\": \"factorization-machines\", \"Host\": \"algo-1\", \"Operation\": \"training\", \"epoch\": 20, \"Meta\": \"training_data_iter\"}, \"Metrics\": {\"Total Records Seen\": {\"sum\": 2219335.0, \"count\": 1, \"min\": 2219335, \"max\": 2219335}, \"Total Batches Seen\": {\"sum\": 2227.0, \"count\": 1, \"min\": 2227, \"max\": 2227}, \"Max Records Seen Between Resets\": {\"sum\": 105635.0, \"count\": 1, \"min\": 105635, \"max\": 105635}, \"Max Batches Seen Between Resets\": {\"sum\": 106.0, \"count\": 1, \"min\": 106, \"max\": 106}, \"Reset Count\": {\"sum\": 22.0, \"count\": 1, \"min\": 22, \"max\": 22}, \"Number of Records Since Last Reset\": {\"sum\": 105635.0, \"count\": 1, \"min\": 105635, \"max\": 105635}, \"Number of Batches Since Last Reset\": {\"sum\": 106.0, \"count\": 1, \"min\": 106, \"max\": 106}}}\u001b[0m\n",
      "\u001b[34m[11/16/2021 06:56:17 INFO 140589165307712] #throughput_metric: host=algo-1, train throughput=53680.537026720725 records/second\u001b[0m\n",
      "\u001b[34m[11/16/2021 06:56:17 INFO 140589165307712] #quality_metric: host=algo-1, epoch=21, batch=0 train rmse <loss>=0.9839663400242822\u001b[0m\n",
      "\u001b[34m[11/16/2021 06:56:17 INFO 140589165307712] #quality_metric: host=algo-1, epoch=21, batch=0 train mse <loss>=0.9681897583007812\u001b[0m\n",
      "\u001b[34m[11/16/2021 06:56:17 INFO 140589165307712] #quality_metric: host=algo-1, epoch=21, batch=0 train absolute_loss <loss>=0.7182720336914062\u001b[0m\n"
     ]
    },
    {
     "name": "stdout",
     "output_type": "stream",
     "text": [
      "\u001b[34m[2021-11-16 06:56:19.741] [tensorio] [info] epoch_stats={\"data_pipeline\": \"/opt/ml/input/data/train\", \"epoch\": 44, \"duration\": 1879, \"num_examples\": 106, \"num_bytes\": 13773364}\u001b[0m\n",
      "\u001b[34m[11/16/2021 06:56:19 INFO 140589165307712] #quality_metric: host=algo-1, epoch=21, train rmse <loss>=0.9838468436318113\u001b[0m\n",
      "\u001b[34m[11/16/2021 06:56:19 INFO 140589165307712] #quality_metric: host=algo-1, epoch=21, train mse <loss>=0.9679546117242777\u001b[0m\n",
      "\u001b[34m[11/16/2021 06:56:19 INFO 140589165307712] #quality_metric: host=algo-1, epoch=21, train absolute_loss <loss>=0.7033089582335275\u001b[0m\n",
      "\u001b[34m#metrics {\"StartTime\": 1637045777.8573508, \"EndTime\": 1637045779.741952, \"Dimensions\": {\"Algorithm\": \"factorization-machines\", \"Host\": \"algo-1\", \"Operation\": \"training\"}, \"Metrics\": {\"update.time\": {\"sum\": 1883.1729888916016, \"count\": 1, \"min\": 1883.1729888916016, \"max\": 1883.1729888916016}}}\u001b[0m\n",
      "\u001b[34m[11/16/2021 06:56:19 INFO 140589165307712] #progress_metric: host=algo-1, completed 26.50602409638554 % of epochs\u001b[0m\n",
      "\u001b[34m#metrics {\"StartTime\": 1637045777.8587446, \"EndTime\": 1637045779.7422621, \"Dimensions\": {\"Algorithm\": \"factorization-machines\", \"Host\": \"algo-1\", \"Operation\": \"training\", \"epoch\": 21, \"Meta\": \"training_data_iter\"}, \"Metrics\": {\"Total Records Seen\": {\"sum\": 2324970.0, \"count\": 1, \"min\": 2324970, \"max\": 2324970}, \"Total Batches Seen\": {\"sum\": 2333.0, \"count\": 1, \"min\": 2333, \"max\": 2333}, \"Max Records Seen Between Resets\": {\"sum\": 105635.0, \"count\": 1, \"min\": 105635, \"max\": 105635}, \"Max Batches Seen Between Resets\": {\"sum\": 106.0, \"count\": 1, \"min\": 106, \"max\": 106}, \"Reset Count\": {\"sum\": 23.0, \"count\": 1, \"min\": 23, \"max\": 23}, \"Number of Records Since Last Reset\": {\"sum\": 105635.0, \"count\": 1, \"min\": 105635, \"max\": 105635}, \"Number of Batches Since Last Reset\": {\"sum\": 106.0, \"count\": 1, \"min\": 106, \"max\": 106}}}\u001b[0m\n",
      "\u001b[34m[11/16/2021 06:56:19 INFO 140589165307712] #throughput_metric: host=algo-1, train throughput=56079.55174360816 records/second\u001b[0m\n",
      "\u001b[34m[11/16/2021 06:56:19 INFO 140589165307712] #quality_metric: host=algo-1, epoch=22, batch=0 train rmse <loss>=0.965299361050919\u001b[0m\n",
      "\u001b[34m[11/16/2021 06:56:19 INFO 140589165307712] #quality_metric: host=algo-1, epoch=22, batch=0 train mse <loss>=0.9318028564453125\u001b[0m\n",
      "\u001b[34m[11/16/2021 06:56:19 INFO 140589165307712] #quality_metric: host=algo-1, epoch=22, batch=0 train absolute_loss <loss>=0.6988323974609375\u001b[0m\n",
      "\u001b[34m[2021-11-16 06:56:21.683] [tensorio] [info] epoch_stats={\"data_pipeline\": \"/opt/ml/input/data/train\", \"epoch\": 46, \"duration\": 1938, \"num_examples\": 106, \"num_bytes\": 13773364}\u001b[0m\n",
      "\u001b[34m[11/16/2021 06:56:21 INFO 140589165307712] #quality_metric: host=algo-1, epoch=22, train rmse <loss>=0.9629201496320265\u001b[0m\n",
      "\u001b[34m[11/16/2021 06:56:21 INFO 140589165307712] #quality_metric: host=algo-1, epoch=22, train mse <loss>=0.9272152145673643\u001b[0m\n",
      "\u001b[34m[11/16/2021 06:56:21 INFO 140589165307712] #quality_metric: host=algo-1, epoch=22, train absolute_loss <loss>=0.6823155932156545\u001b[0m\n",
      "\u001b[34m#metrics {\"StartTime\": 1637045779.7420459, \"EndTime\": 1637045781.6840122, \"Dimensions\": {\"Algorithm\": \"factorization-machines\", \"Host\": \"algo-1\", \"Operation\": \"training\"}, \"Metrics\": {\"update.time\": {\"sum\": 1940.5968189239502, \"count\": 1, \"min\": 1940.5968189239502, \"max\": 1940.5968189239502}}}\u001b[0m\n",
      "\u001b[34m[11/16/2021 06:56:21 INFO 140589165307712] #progress_metric: host=algo-1, completed 27.710843373493976 % of epochs\u001b[0m\n",
      "\u001b[34m#metrics {\"StartTime\": 1637045779.7433856, \"EndTime\": 1637045781.6843705, \"Dimensions\": {\"Algorithm\": \"factorization-machines\", \"Host\": \"algo-1\", \"Operation\": \"training\", \"epoch\": 22, \"Meta\": \"training_data_iter\"}, \"Metrics\": {\"Total Records Seen\": {\"sum\": 2430605.0, \"count\": 1, \"min\": 2430605, \"max\": 2430605}, \"Total Batches Seen\": {\"sum\": 2439.0, \"count\": 1, \"min\": 2439, \"max\": 2439}, \"Max Records Seen Between Resets\": {\"sum\": 105635.0, \"count\": 1, \"min\": 105635, \"max\": 105635}, \"Max Batches Seen Between Resets\": {\"sum\": 106.0, \"count\": 1, \"min\": 106, \"max\": 106}, \"Reset Count\": {\"sum\": 24.0, \"count\": 1, \"min\": 24, \"max\": 24}, \"Number of Records Since Last Reset\": {\"sum\": 105635.0, \"count\": 1, \"min\": 105635, \"max\": 105635}, \"Number of Batches Since Last Reset\": {\"sum\": 106.0, \"count\": 1, \"min\": 106, \"max\": 106}}}\u001b[0m\n",
      "\u001b[34m[11/16/2021 06:56:21 INFO 140589165307712] #throughput_metric: host=algo-1, train throughput=54419.78306534005 records/second\u001b[0m\n",
      "\u001b[34m[11/16/2021 06:56:21 INFO 140589165307712] #quality_metric: host=algo-1, epoch=23, batch=0 train rmse <loss>=0.9463279347343572\u001b[0m\n",
      "\u001b[34m[11/16/2021 06:56:21 INFO 140589165307712] #quality_metric: host=algo-1, epoch=23, batch=0 train mse <loss>=0.8955365600585937\u001b[0m\n",
      "\u001b[34m[11/16/2021 06:56:21 INFO 140589165307712] #quality_metric: host=algo-1, epoch=23, batch=0 train absolute_loss <loss>=0.6794741821289062\u001b[0m\n",
      "\u001b[34m[2021-11-16 06:56:23.646] [tensorio] [info] epoch_stats={\"data_pipeline\": \"/opt/ml/input/data/train\", \"epoch\": 48, \"duration\": 1959, \"num_examples\": 106, \"num_bytes\": 13773364}\u001b[0m\n",
      "\u001b[34m[11/16/2021 06:56:23 INFO 140589165307712] #quality_metric: host=algo-1, epoch=23, train rmse <loss>=0.94185055945516\u001b[0m\n",
      "\u001b[34m[11/16/2021 06:56:23 INFO 140589165307712] #quality_metric: host=algo-1, epoch=23, train mse <loss>=0.8870824763459979\u001b[0m\n",
      "\u001b[34m[11/16/2021 06:56:23 INFO 140589165307712] #quality_metric: host=algo-1, epoch=23, train absolute_loss <loss>=0.6614689693810805\u001b[0m\n",
      "\u001b[34m#metrics {\"StartTime\": 1637045781.6841397, \"EndTime\": 1637045783.647504, \"Dimensions\": {\"Algorithm\": \"factorization-machines\", \"Host\": \"algo-1\", \"Operation\": \"training\"}, \"Metrics\": {\"update.time\": {\"sum\": 1961.956262588501, \"count\": 1, \"min\": 1961.956262588501, \"max\": 1961.956262588501}}}\u001b[0m\n",
      "\u001b[34m[11/16/2021 06:56:23 INFO 140589165307712] #progress_metric: host=algo-1, completed 28.91566265060241 % of epochs\u001b[0m\n",
      "\u001b[34m#metrics {\"StartTime\": 1637045781.6855125, \"EndTime\": 1637045783.6480224, \"Dimensions\": {\"Algorithm\": \"factorization-machines\", \"Host\": \"algo-1\", \"Operation\": \"training\", \"epoch\": 23, \"Meta\": \"training_data_iter\"}, \"Metrics\": {\"Total Records Seen\": {\"sum\": 2536240.0, \"count\": 1, \"min\": 2536240, \"max\": 2536240}, \"Total Batches Seen\": {\"sum\": 2545.0, \"count\": 1, \"min\": 2545, \"max\": 2545}, \"Max Records Seen Between Resets\": {\"sum\": 105635.0, \"count\": 1, \"min\": 105635, \"max\": 105635}, \"Max Batches Seen Between Resets\": {\"sum\": 106.0, \"count\": 1, \"min\": 106, \"max\": 106}, \"Reset Count\": {\"sum\": 25.0, \"count\": 1, \"min\": 25, \"max\": 25}, \"Number of Records Since Last Reset\": {\"sum\": 105635.0, \"count\": 1, \"min\": 105635, \"max\": 105635}, \"Number of Batches Since Last Reset\": {\"sum\": 106.0, \"count\": 1, \"min\": 106, \"max\": 106}}}\u001b[0m\n",
      "\u001b[34m[11/16/2021 06:56:23 INFO 140589165307712] #throughput_metric: host=algo-1, train throughput=53818.83763585735 records/second\u001b[0m\n",
      "\u001b[34m[11/16/2021 06:56:23 INFO 140589165307712] #quality_metric: host=algo-1, epoch=24, batch=0 train rmse <loss>=0.9270888708284997\u001b[0m\n",
      "\u001b[34m[11/16/2021 06:56:23 INFO 140589165307712] #quality_metric: host=algo-1, epoch=24, batch=0 train mse <loss>=0.8594937744140625\u001b[0m\n",
      "\u001b[34m[11/16/2021 06:56:23 INFO 140589165307712] #quality_metric: host=algo-1, epoch=24, batch=0 train absolute_loss <loss>=0.6600861206054688\u001b[0m\n",
      "\u001b[34m[2021-11-16 06:56:25.542] [tensorio] [info] epoch_stats={\"data_pipeline\": \"/opt/ml/input/data/train\", \"epoch\": 50, \"duration\": 1890, \"num_examples\": 106, \"num_bytes\": 13773364}\u001b[0m\n",
      "\u001b[34m[11/16/2021 06:56:25 INFO 140589165307712] #quality_metric: host=algo-1, epoch=24, train rmse <loss>=0.9206858670563377\u001b[0m\n",
      "\u001b[34m[11/16/2021 06:56:25 INFO 140589165307712] #quality_metric: host=algo-1, epoch=24, train mse <loss>=0.8476624657972803\u001b[0m\n",
      "\u001b[34m[11/16/2021 06:56:25 INFO 140589165307712] #quality_metric: host=algo-1, epoch=24, train absolute_loss <loss>=0.6408322765422317\u001b[0m\n",
      "\u001b[34m#metrics {\"StartTime\": 1637045783.6477215, \"EndTime\": 1637045785.543501, \"Dimensions\": {\"Algorithm\": \"factorization-machines\", \"Host\": \"algo-1\", \"Operation\": \"training\"}, \"Metrics\": {\"update.time\": {\"sum\": 1894.0577507019043, \"count\": 1, \"min\": 1894.0577507019043, \"max\": 1894.0577507019043}}}\u001b[0m\n",
      "\u001b[34m[11/16/2021 06:56:25 INFO 140589165307712] #progress_metric: host=algo-1, completed 30.120481927710845 % of epochs\u001b[0m\n",
      "\u001b[34m#metrics {\"StartTime\": 1637045783.6494129, \"EndTime\": 1637045785.5437558, \"Dimensions\": {\"Algorithm\": \"factorization-machines\", \"Host\": \"algo-1\", \"Operation\": \"training\", \"epoch\": 24, \"Meta\": \"training_data_iter\"}, \"Metrics\": {\"Total Records Seen\": {\"sum\": 2641875.0, \"count\": 1, \"min\": 2641875, \"max\": 2641875}, \"Total Batches Seen\": {\"sum\": 2651.0, \"count\": 1, \"min\": 2651, \"max\": 2651}, \"Max Records Seen Between Resets\": {\"sum\": 105635.0, \"count\": 1, \"min\": 105635, \"max\": 105635}, \"Max Batches Seen Between Resets\": {\"sum\": 106.0, \"count\": 1, \"min\": 106, \"max\": 106}, \"Reset Count\": {\"sum\": 26.0, \"count\": 1, \"min\": 26, \"max\": 26}, \"Number of Records Since Last Reset\": {\"sum\": 105635.0, \"count\": 1, \"min\": 105635, \"max\": 105635}, \"Number of Batches Since Last Reset\": {\"sum\": 106.0, \"count\": 1, \"min\": 106, \"max\": 106}}}\u001b[0m\n",
      "\u001b[34m[11/16/2021 06:56:25 INFO 140589165307712] #throughput_metric: host=algo-1, train throughput=55759.652050645964 records/second\u001b[0m\n",
      "\u001b[34m[11/16/2021 06:56:25 INFO 140589165307712] #quality_metric: host=algo-1, epoch=25, batch=0 train rmse <loss>=0.907619990883609\u001b[0m\n",
      "\u001b[34m[11/16/2021 06:56:25 INFO 140589165307712] #quality_metric: host=algo-1, epoch=25, batch=0 train mse <loss>=0.8237740478515625\u001b[0m\n",
      "\u001b[34m[11/16/2021 06:56:25 INFO 140589165307712] #quality_metric: host=algo-1, epoch=25, batch=0 train absolute_loss <loss>=0.640400634765625\u001b[0m\n",
      "\u001b[34m[2021-11-16 06:56:27.535] [tensorio] [info] epoch_stats={\"data_pipeline\": \"/opt/ml/input/data/train\", \"epoch\": 52, \"duration\": 1988, \"num_examples\": 106, \"num_bytes\": 13773364}\u001b[0m\n",
      "\u001b[34m[11/16/2021 06:56:27 INFO 140589165307712] #quality_metric: host=algo-1, epoch=25, train rmse <loss>=0.8994722772892136\u001b[0m\n",
      "\u001b[34m[11/16/2021 06:56:27 INFO 140589165307712] #quality_metric: host=algo-1, epoch=25, train mse <loss>=0.8090503776118441\u001b[0m\n",
      "\u001b[34m[11/16/2021 06:56:27 INFO 140589165307712] #quality_metric: host=algo-1, epoch=25, train absolute_loss <loss>=0.620428926287957\u001b[0m\n",
      "\u001b[34m#metrics {\"StartTime\": 1637045785.5435863, \"EndTime\": 1637045787.535743, \"Dimensions\": {\"Algorithm\": \"factorization-machines\", \"Host\": \"algo-1\", \"Operation\": \"training\"}, \"Metrics\": {\"update.time\": {\"sum\": 1990.7963275909424, \"count\": 1, \"min\": 1990.7963275909424, \"max\": 1990.7963275909424}}}\u001b[0m\n",
      "\u001b[34m[11/16/2021 06:56:27 INFO 140589165307712] #progress_metric: host=algo-1, completed 31.325301204819276 % of epochs\u001b[0m\n",
      "\u001b[34m#metrics {\"StartTime\": 1637045785.544917, \"EndTime\": 1637045787.5359757, \"Dimensions\": {\"Algorithm\": \"factorization-machines\", \"Host\": \"algo-1\", \"Operation\": \"training\", \"epoch\": 25, \"Meta\": \"training_data_iter\"}, \"Metrics\": {\"Total Records Seen\": {\"sum\": 2747510.0, \"count\": 1, \"min\": 2747510, \"max\": 2747510}, \"Total Batches Seen\": {\"sum\": 2757.0, \"count\": 1, \"min\": 2757, \"max\": 2757}, \"Max Records Seen Between Resets\": {\"sum\": 105635.0, \"count\": 1, \"min\": 105635, \"max\": 105635}, \"Max Batches Seen Between Resets\": {\"sum\": 106.0, \"count\": 1, \"min\": 106, \"max\": 106}, \"Reset Count\": {\"sum\": 27.0, \"count\": 1, \"min\": 27, \"max\": 27}, \"Number of Records Since Last Reset\": {\"sum\": 105635.0, \"count\": 1, \"min\": 105635, \"max\": 105635}, \"Number of Batches Since Last Reset\": {\"sum\": 106.0, \"count\": 1, \"min\": 106, \"max\": 106}}}\u001b[0m\n",
      "\u001b[34m[11/16/2021 06:56:27 INFO 140589165307712] #throughput_metric: host=algo-1, train throughput=53051.42668026403 records/second\u001b[0m\n",
      "\u001b[34m[11/16/2021 06:56:27 INFO 140589165307712] #quality_metric: host=algo-1, epoch=26, batch=0 train rmse <loss>=0.8879600686382771\u001b[0m\n",
      "\u001b[34m[11/16/2021 06:56:27 INFO 140589165307712] #quality_metric: host=algo-1, epoch=26, batch=0 train mse <loss>=0.7884730834960938\u001b[0m\n",
      "\u001b[34m[11/16/2021 06:56:27 INFO 140589165307712] #quality_metric: host=algo-1, epoch=26, batch=0 train absolute_loss <loss>=0.620820556640625\u001b[0m\n",
      "\u001b[34m[2021-11-16 06:56:29.398] [tensorio] [info] epoch_stats={\"data_pipeline\": \"/opt/ml/input/data/train\", \"epoch\": 54, \"duration\": 1859, \"num_examples\": 106, \"num_bytes\": 13773364}\u001b[0m\n",
      "\u001b[34m[11/16/2021 06:56:29 INFO 140589165307712] #quality_metric: host=algo-1, epoch=26, train rmse <loss>=0.8782539419622696\u001b[0m\n",
      "\u001b[34m[11/16/2021 06:56:29 INFO 140589165307712] #quality_metric: host=algo-1, epoch=26, train mse <loss>=0.7713299865722656\u001b[0m\n",
      "\u001b[34m[11/16/2021 06:56:29 INFO 140589165307712] #quality_metric: host=algo-1, epoch=26, train absolute_loss <loss>=0.6003818267246462\u001b[0m\n",
      "\u001b[34m#metrics {\"StartTime\": 1637045787.5358193, \"EndTime\": 1637045789.3996928, \"Dimensions\": {\"Algorithm\": \"factorization-machines\", \"Host\": \"algo-1\", \"Operation\": \"training\"}, \"Metrics\": {\"update.time\": {\"sum\": 1862.4982833862305, \"count\": 1, \"min\": 1862.4982833862305, \"max\": 1862.4982833862305}}}\u001b[0m\n",
      "\u001b[34m[11/16/2021 06:56:29 INFO 140589165307712] #progress_metric: host=algo-1, completed 32.53012048192771 % of epochs\u001b[0m\n",
      "\u001b[34m#metrics {\"StartTime\": 1637045787.5371597, \"EndTime\": 1637045789.4000325, \"Dimensions\": {\"Algorithm\": \"factorization-machines\", \"Host\": \"algo-1\", \"Operation\": \"training\", \"epoch\": 26, \"Meta\": \"training_data_iter\"}, \"Metrics\": {\"Total Records Seen\": {\"sum\": 2853145.0, \"count\": 1, \"min\": 2853145, \"max\": 2853145}, \"Total Batches Seen\": {\"sum\": 2863.0, \"count\": 1, \"min\": 2863, \"max\": 2863}, \"Max Records Seen Between Resets\": {\"sum\": 105635.0, \"count\": 1, \"min\": 105635, \"max\": 105635}, \"Max Batches Seen Between Resets\": {\"sum\": 106.0, \"count\": 1, \"min\": 106, \"max\": 106}, \"Reset Count\": {\"sum\": 28.0, \"count\": 1, \"min\": 28, \"max\": 28}, \"Number of Records Since Last Reset\": {\"sum\": 105635.0, \"count\": 1, \"min\": 105635, \"max\": 105635}, \"Number of Batches Since Last Reset\": {\"sum\": 106.0, \"count\": 1, \"min\": 106, \"max\": 106}}}\u001b[0m\n",
      "\u001b[34m[11/16/2021 06:56:29 INFO 140589165307712] #throughput_metric: host=algo-1, train throughput=56700.71745141861 records/second\u001b[0m\n",
      "\u001b[34m[11/16/2021 06:56:29 INFO 140589165307712] #quality_metric: host=algo-1, epoch=27, batch=0 train rmse <loss>=0.8681482923553621\u001b[0m\n",
      "\u001b[34m[11/16/2021 06:56:29 INFO 140589165307712] #quality_metric: host=algo-1, epoch=27, batch=0 train mse <loss>=0.7536814575195312\u001b[0m\n",
      "\u001b[34m[11/16/2021 06:56:29 INFO 140589165307712] #quality_metric: host=algo-1, epoch=27, batch=0 train absolute_loss <loss>=0.60142578125\u001b[0m\n"
     ]
    },
    {
     "name": "stdout",
     "output_type": "stream",
     "text": [
      "\u001b[34m[2021-11-16 06:56:31.349] [tensorio] [info] epoch_stats={\"data_pipeline\": \"/opt/ml/input/data/train\", \"epoch\": 56, \"duration\": 1946, \"num_examples\": 106, \"num_bytes\": 13773364}\u001b[0m\n",
      "\u001b[34m[11/16/2021 06:56:31 INFO 140589165307712] #quality_metric: host=algo-1, epoch=27, train rmse <loss>=0.8570726509098127\u001b[0m\n",
      "\u001b[34m[11/16/2021 06:56:31 INFO 140589165307712] #quality_metric: host=algo-1, epoch=27, train mse <loss>=0.7345735289375737\u001b[0m\n",
      "\u001b[34m[11/16/2021 06:56:31 INFO 140589165307712] #quality_metric: host=algo-1, epoch=27, train absolute_loss <loss>=0.5807626486724278\u001b[0m\n",
      "\u001b[34m#metrics {\"StartTime\": 1637045789.3998144, \"EndTime\": 1637045791.350267, \"Dimensions\": {\"Algorithm\": \"factorization-machines\", \"Host\": \"algo-1\", \"Operation\": \"training\"}, \"Metrics\": {\"update.time\": {\"sum\": 1948.9123821258545, \"count\": 1, \"min\": 1948.9123821258545, \"max\": 1948.9123821258545}}}\u001b[0m\n",
      "\u001b[34m[11/16/2021 06:56:31 INFO 140589165307712] #progress_metric: host=algo-1, completed 33.734939759036145 % of epochs\u001b[0m\n",
      "\u001b[34m#metrics {\"StartTime\": 1637045789.4013212, \"EndTime\": 1637045791.3505151, \"Dimensions\": {\"Algorithm\": \"factorization-machines\", \"Host\": \"algo-1\", \"Operation\": \"training\", \"epoch\": 27, \"Meta\": \"training_data_iter\"}, \"Metrics\": {\"Total Records Seen\": {\"sum\": 2958780.0, \"count\": 1, \"min\": 2958780, \"max\": 2958780}, \"Total Batches Seen\": {\"sum\": 2969.0, \"count\": 1, \"min\": 2969, \"max\": 2969}, \"Max Records Seen Between Resets\": {\"sum\": 105635.0, \"count\": 1, \"min\": 105635, \"max\": 105635}, \"Max Batches Seen Between Resets\": {\"sum\": 106.0, \"count\": 1, \"min\": 106, \"max\": 106}, \"Reset Count\": {\"sum\": 29.0, \"count\": 1, \"min\": 29, \"max\": 29}, \"Number of Records Since Last Reset\": {\"sum\": 105635.0, \"count\": 1, \"min\": 105635, \"max\": 105635}, \"Number of Batches Since Last Reset\": {\"sum\": 106.0, \"count\": 1, \"min\": 106, \"max\": 106}}}\u001b[0m\n",
      "\u001b[34m[11/16/2021 06:56:31 INFO 140589165307712] #throughput_metric: host=algo-1, train throughput=54188.217847090425 records/second\u001b[0m\n",
      "\u001b[34m[11/16/2021 06:56:31 INFO 140589165307712] #quality_metric: host=algo-1, epoch=28, batch=0 train rmse <loss>=0.848223204693475\u001b[0m\n",
      "\u001b[34m[11/16/2021 06:56:31 INFO 140589165307712] #quality_metric: host=algo-1, epoch=28, batch=0 train mse <loss>=0.7194826049804688\u001b[0m\n",
      "\u001b[34m[11/16/2021 06:56:31 INFO 140589165307712] #quality_metric: host=algo-1, epoch=28, batch=0 train absolute_loss <loss>=0.58234521484375\u001b[0m\n",
      "\u001b[34m[2021-11-16 06:56:33.240] [tensorio] [info] epoch_stats={\"data_pipeline\": \"/opt/ml/input/data/train\", \"epoch\": 58, \"duration\": 1887, \"num_examples\": 106, \"num_bytes\": 13773364}\u001b[0m\n",
      "\u001b[34m[11/16/2021 06:56:33 INFO 140589165307712] #quality_metric: host=algo-1, epoch=28, train rmse <loss>=0.8359674093821619\u001b[0m\n",
      "\u001b[34m[11/16/2021 06:56:33 INFO 140589165307712] #quality_metric: host=algo-1, epoch=28, train mse <loss>=0.6988415095491229\u001b[0m\n",
      "\u001b[34m[11/16/2021 06:56:33 INFO 140589165307712] #quality_metric: host=algo-1, epoch=28, train absolute_loss <loss>=0.5615854022907761\u001b[0m\n",
      "\u001b[34m#metrics {\"StartTime\": 1637045791.3503504, \"EndTime\": 1637045793.2415366, \"Dimensions\": {\"Algorithm\": \"factorization-machines\", \"Host\": \"algo-1\", \"Operation\": \"training\"}, \"Metrics\": {\"update.time\": {\"sum\": 1889.7790908813477, \"count\": 1, \"min\": 1889.7790908813477, \"max\": 1889.7790908813477}}}\u001b[0m\n",
      "\u001b[34m[11/16/2021 06:56:33 INFO 140589165307712] #progress_metric: host=algo-1, completed 34.93975903614458 % of epochs\u001b[0m\n",
      "\u001b[34m#metrics {\"StartTime\": 1637045791.3517246, \"EndTime\": 1637045793.2417808, \"Dimensions\": {\"Algorithm\": \"factorization-machines\", \"Host\": \"algo-1\", \"Operation\": \"training\", \"epoch\": 28, \"Meta\": \"training_data_iter\"}, \"Metrics\": {\"Total Records Seen\": {\"sum\": 3064415.0, \"count\": 1, \"min\": 3064415, \"max\": 3064415}, \"Total Batches Seen\": {\"sum\": 3075.0, \"count\": 1, \"min\": 3075, \"max\": 3075}, \"Max Records Seen Between Resets\": {\"sum\": 105635.0, \"count\": 1, \"min\": 105635, \"max\": 105635}, \"Max Batches Seen Between Resets\": {\"sum\": 106.0, \"count\": 1, \"min\": 106, \"max\": 106}, \"Reset Count\": {\"sum\": 30.0, \"count\": 1, \"min\": 30, \"max\": 30}, \"Number of Records Since Last Reset\": {\"sum\": 105635.0, \"count\": 1, \"min\": 105635, \"max\": 105635}, \"Number of Batches Since Last Reset\": {\"sum\": 106.0, \"count\": 1, \"min\": 106, \"max\": 106}}}\u001b[0m\n",
      "\u001b[34m[11/16/2021 06:56:33 INFO 140589165307712] #throughput_metric: host=algo-1, train throughput=55886.26500917888 records/second\u001b[0m\n",
      "\u001b[34m[11/16/2021 06:56:33 INFO 140589165307712] #quality_metric: host=algo-1, epoch=29, batch=0 train rmse <loss>=0.8282226504926453\u001b[0m\n",
      "\u001b[34m[11/16/2021 06:56:33 INFO 140589165307712] #quality_metric: host=algo-1, epoch=29, batch=0 train mse <loss>=0.6859527587890625\u001b[0m\n",
      "\u001b[34m[11/16/2021 06:56:33 INFO 140589165307712] #quality_metric: host=algo-1, epoch=29, batch=0 train absolute_loss <loss>=0.563627685546875\u001b[0m\n",
      "\u001b[34m[2021-11-16 06:56:35.122] [tensorio] [info] epoch_stats={\"data_pipeline\": \"/opt/ml/input/data/train\", \"epoch\": 60, \"duration\": 1877, \"num_examples\": 106, \"num_bytes\": 13773364}\u001b[0m\n",
      "\u001b[34m[11/16/2021 06:56:35 INFO 140589165307712] #quality_metric: host=algo-1, epoch=29, train rmse <loss>=0.8149742878901512\u001b[0m\n",
      "\u001b[34m[11/16/2021 06:56:35 INFO 140589165307712] #quality_metric: host=algo-1, epoch=29, train mse <loss>=0.6641830899220592\u001b[0m\n",
      "\u001b[34m[11/16/2021 06:56:35 INFO 140589165307712] #quality_metric: host=algo-1, epoch=29, train absolute_loss <loss>=0.5428786551997347\u001b[0m\n",
      "\u001b[34m#metrics {\"StartTime\": 1637045793.2416172, \"EndTime\": 1637045795.1230278, \"Dimensions\": {\"Algorithm\": \"factorization-machines\", \"Host\": \"algo-1\", \"Operation\": \"training\"}, \"Metrics\": {\"update.time\": {\"sum\": 1879.988670349121, \"count\": 1, \"min\": 1879.988670349121, \"max\": 1879.988670349121}}}\u001b[0m\n",
      "\u001b[34m[11/16/2021 06:56:35 INFO 140589165307712] #progress_metric: host=algo-1, completed 36.144578313253014 % of epochs\u001b[0m\n",
      "\u001b[34m#metrics {\"StartTime\": 1637045793.2429588, \"EndTime\": 1637045795.1233451, \"Dimensions\": {\"Algorithm\": \"factorization-machines\", \"Host\": \"algo-1\", \"Operation\": \"training\", \"epoch\": 29, \"Meta\": \"training_data_iter\"}, \"Metrics\": {\"Total Records Seen\": {\"sum\": 3170050.0, \"count\": 1, \"min\": 3170050, \"max\": 3170050}, \"Total Batches Seen\": {\"sum\": 3181.0, \"count\": 1, \"min\": 3181, \"max\": 3181}, \"Max Records Seen Between Resets\": {\"sum\": 105635.0, \"count\": 1, \"min\": 105635, \"max\": 105635}, \"Max Batches Seen Between Resets\": {\"sum\": 106.0, \"count\": 1, \"min\": 106, \"max\": 106}, \"Reset Count\": {\"sum\": 31.0, \"count\": 1, \"min\": 31, \"max\": 31}, \"Number of Records Since Last Reset\": {\"sum\": 105635.0, \"count\": 1, \"min\": 105635, \"max\": 105635}, \"Number of Batches Since Last Reset\": {\"sum\": 106.0, \"count\": 1, \"min\": 106, \"max\": 106}}}\u001b[0m\n",
      "\u001b[34m[11/16/2021 06:56:35 INFO 140589165307712] #throughput_metric: host=algo-1, train throughput=56172.82643075698 records/second\u001b[0m\n",
      "\u001b[34m[11/16/2021 06:56:35 INFO 140589165307712] #quality_metric: host=algo-1, epoch=30, batch=0 train rmse <loss>=0.8081834330310051\u001b[0m\n",
      "\u001b[34m[11/16/2021 06:56:35 INFO 140589165307712] #quality_metric: host=algo-1, epoch=30, batch=0 train mse <loss>=0.6531604614257812\u001b[0m\n",
      "\u001b[34m[11/16/2021 06:56:35 INFO 140589165307712] #quality_metric: host=algo-1, epoch=30, batch=0 train absolute_loss <loss>=0.5452449340820312\u001b[0m\n",
      "\u001b[34m[2021-11-16 06:56:37.053] [tensorio] [info] epoch_stats={\"data_pipeline\": \"/opt/ml/input/data/train\", \"epoch\": 62, \"duration\": 1926, \"num_examples\": 106, \"num_bytes\": 13773364}\u001b[0m\n",
      "\u001b[34m[11/16/2021 06:56:37 INFO 140589165307712] #quality_metric: host=algo-1, epoch=30, train rmse <loss>=0.7941262591624921\u001b[0m\n",
      "\u001b[34m[11/16/2021 06:56:37 INFO 140589165307712] #quality_metric: host=algo-1, epoch=30, train mse <loss>=0.6306365154914136\u001b[0m\n",
      "\u001b[34m[11/16/2021 06:56:37 INFO 140589165307712] #quality_metric: host=algo-1, epoch=30, train absolute_loss <loss>=0.5246520120872642\u001b[0m\n",
      "\u001b[34m#metrics {\"StartTime\": 1637045795.1231284, \"EndTime\": 1637045797.0544522, \"Dimensions\": {\"Algorithm\": \"factorization-machines\", \"Host\": \"algo-1\", \"Operation\": \"training\"}, \"Metrics\": {\"update.time\": {\"sum\": 1929.5194149017334, \"count\": 1, \"min\": 1929.5194149017334, \"max\": 1929.5194149017334}}}\u001b[0m\n",
      "\u001b[34m[11/16/2021 06:56:37 INFO 140589165307712] #progress_metric: host=algo-1, completed 37.34939759036145 % of epochs\u001b[0m\n",
      "\u001b[34m#metrics {\"StartTime\": 1637045795.1249008, \"EndTime\": 1637045797.0546901, \"Dimensions\": {\"Algorithm\": \"factorization-machines\", \"Host\": \"algo-1\", \"Operation\": \"training\", \"epoch\": 30, \"Meta\": \"training_data_iter\"}, \"Metrics\": {\"Total Records Seen\": {\"sum\": 3275685.0, \"count\": 1, \"min\": 3275685, \"max\": 3275685}, \"Total Batches Seen\": {\"sum\": 3287.0, \"count\": 1, \"min\": 3287, \"max\": 3287}, \"Max Records Seen Between Resets\": {\"sum\": 105635.0, \"count\": 1, \"min\": 105635, \"max\": 105635}, \"Max Batches Seen Between Resets\": {\"sum\": 106.0, \"count\": 1, \"min\": 106, \"max\": 106}, \"Reset Count\": {\"sum\": 32.0, \"count\": 1, \"min\": 32, \"max\": 32}, \"Number of Records Since Last Reset\": {\"sum\": 105635.0, \"count\": 1, \"min\": 105635, \"max\": 105635}, \"Number of Batches Since Last Reset\": {\"sum\": 106.0, \"count\": 1, \"min\": 106, \"max\": 106}}}\u001b[0m\n",
      "\u001b[34m[11/16/2021 06:56:37 INFO 140589165307712] #throughput_metric: host=algo-1, train throughput=54735.19396998483 records/second\u001b[0m\n",
      "\u001b[34m[11/16/2021 06:56:37 INFO 140589165307712] #quality_metric: host=algo-1, epoch=31, batch=0 train rmse <loss>=0.7881411313153843\u001b[0m\n",
      "\u001b[34m[11/16/2021 06:56:37 INFO 140589165307712] #quality_metric: host=algo-1, epoch=31, batch=0 train mse <loss>=0.6211664428710938\u001b[0m\n",
      "\u001b[34m[11/16/2021 06:56:37 INFO 140589165307712] #quality_metric: host=algo-1, epoch=31, batch=0 train absolute_loss <loss>=0.5272838134765625\u001b[0m\n",
      "\u001b[34m[2021-11-16 06:56:38.920] [tensorio] [info] epoch_stats={\"data_pipeline\": \"/opt/ml/input/data/train\", \"epoch\": 64, \"duration\": 1862, \"num_examples\": 106, \"num_bytes\": 13773364}\u001b[0m\n",
      "\u001b[34m[11/16/2021 06:56:38 INFO 140589165307712] #quality_metric: host=algo-1, epoch=31, train rmse <loss>=0.7734531642984476\u001b[0m\n",
      "\u001b[34m[11/16/2021 06:56:38 INFO 140589165307712] #quality_metric: host=algo-1, epoch=31, train mse <loss>=0.5982297973632813\u001b[0m\n",
      "\u001b[34m[11/16/2021 06:56:38 INFO 140589165307712] #quality_metric: host=algo-1, epoch=31, train absolute_loss <loss>=0.5069001352562095\u001b[0m\n",
      "\u001b[34m#metrics {\"StartTime\": 1637045797.054529, \"EndTime\": 1637045798.9207683, \"Dimensions\": {\"Algorithm\": \"factorization-machines\", \"Host\": \"algo-1\", \"Operation\": \"training\"}, \"Metrics\": {\"update.time\": {\"sum\": 1864.84956741333, \"count\": 1, \"min\": 1864.84956741333, \"max\": 1864.84956741333}}}\u001b[0m\n",
      "\u001b[34m[11/16/2021 06:56:38 INFO 140589165307712] #progress_metric: host=algo-1, completed 38.55421686746988 % of epochs\u001b[0m\n",
      "\u001b[34m#metrics {\"StartTime\": 1637045797.05589, \"EndTime\": 1637045798.921046, \"Dimensions\": {\"Algorithm\": \"factorization-machines\", \"Host\": \"algo-1\", \"Operation\": \"training\", \"epoch\": 31, \"Meta\": \"training_data_iter\"}, \"Metrics\": {\"Total Records Seen\": {\"sum\": 3381320.0, \"count\": 1, \"min\": 3381320, \"max\": 3381320}, \"Total Batches Seen\": {\"sum\": 3393.0, \"count\": 1, \"min\": 3393, \"max\": 3393}, \"Max Records Seen Between Resets\": {\"sum\": 105635.0, \"count\": 1, \"min\": 105635, \"max\": 105635}, \"Max Batches Seen Between Resets\": {\"sum\": 106.0, \"count\": 1, \"min\": 106, \"max\": 106}, \"Reset Count\": {\"sum\": 33.0, \"count\": 1, \"min\": 33, \"max\": 33}, \"Number of Records Since Last Reset\": {\"sum\": 105635.0, \"count\": 1, \"min\": 105635, \"max\": 105635}, \"Number of Batches Since Last Reset\": {\"sum\": 106.0, \"count\": 1, \"min\": 106, \"max\": 106}}}\u001b[0m\n",
      "\u001b[34m[11/16/2021 06:56:38 INFO 140589165307712] #throughput_metric: host=algo-1, train throughput=56632.30879411029 records/second\u001b[0m\n",
      "\u001b[34m[11/16/2021 06:56:38 INFO 140589165307712] #quality_metric: host=algo-1, epoch=32, batch=0 train rmse <loss>=0.7681308243905501\u001b[0m\n",
      "\u001b[34m[11/16/2021 06:56:38 INFO 140589165307712] #quality_metric: host=algo-1, epoch=32, batch=0 train mse <loss>=0.5900249633789062\u001b[0m\n",
      "\u001b[34m[11/16/2021 06:56:38 INFO 140589165307712] #quality_metric: host=algo-1, epoch=32, batch=0 train absolute_loss <loss>=0.5098653869628906\u001b[0m\n",
      "\u001b[34m[2021-11-16 06:56:40.825] [tensorio] [info] epoch_stats={\"data_pipeline\": \"/opt/ml/input/data/train\", \"epoch\": 66, \"duration\": 1901, \"num_examples\": 106, \"num_bytes\": 13773364}\u001b[0m\n",
      "\u001b[34m[11/16/2021 06:56:40 INFO 140589165307712] #quality_metric: host=algo-1, epoch=32, train rmse <loss>=0.75298180812721\u001b[0m\n",
      "\u001b[34m[11/16/2021 06:56:40 INFO 140589165307712] #quality_metric: host=algo-1, epoch=32, train mse <loss>=0.5669816033705225\u001b[0m\n",
      "\u001b[34m[11/16/2021 06:56:40 INFO 140589165307712] #quality_metric: host=algo-1, epoch=32, train absolute_loss <loss>=0.48962477284557415\u001b[0m\n",
      "\u001b[34m#metrics {\"StartTime\": 1637045798.9208589, \"EndTime\": 1637045800.8265808, \"Dimensions\": {\"Algorithm\": \"factorization-machines\", \"Host\": \"algo-1\", \"Operation\": \"training\"}, \"Metrics\": {\"update.time\": {\"sum\": 1904.4122695922852, \"count\": 1, \"min\": 1904.4122695922852, \"max\": 1904.4122695922852}}}\u001b[0m\n",
      "\u001b[34m[11/16/2021 06:56:40 INFO 140589165307712] #progress_metric: host=algo-1, completed 39.75903614457831 % of epochs\u001b[0m\n",
      "\u001b[34m#metrics {\"StartTime\": 1637045798.9221346, \"EndTime\": 1637045800.8269024, \"Dimensions\": {\"Algorithm\": \"factorization-machines\", \"Host\": \"algo-1\", \"Operation\": \"training\", \"epoch\": 32, \"Meta\": \"training_data_iter\"}, \"Metrics\": {\"Total Records Seen\": {\"sum\": 3486955.0, \"count\": 1, \"min\": 3486955, \"max\": 3486955}, \"Total Batches Seen\": {\"sum\": 3499.0, \"count\": 1, \"min\": 3499, \"max\": 3499}, \"Max Records Seen Between Resets\": {\"sum\": 105635.0, \"count\": 1, \"min\": 105635, \"max\": 105635}, \"Max Batches Seen Between Resets\": {\"sum\": 106.0, \"count\": 1, \"min\": 106, \"max\": 106}, \"Reset Count\": {\"sum\": 34.0, \"count\": 1, \"min\": 34, \"max\": 34}, \"Number of Records Since Last Reset\": {\"sum\": 105635.0, \"count\": 1, \"min\": 105635, \"max\": 105635}, \"Number of Batches Since Last Reset\": {\"sum\": 106.0, \"count\": 1, \"min\": 106, \"max\": 106}}}\u001b[0m\n",
      "\u001b[34m[11/16/2021 06:56:40 INFO 140589165307712] #throughput_metric: host=algo-1, train throughput=55453.873500447255 records/second\u001b[0m\n",
      "\u001b[34m[11/16/2021 06:56:40 INFO 140589165307712] #quality_metric: host=algo-1, epoch=33, batch=0 train rmse <loss>=0.7481871808693247\u001b[0m\n",
      "\u001b[34m[11/16/2021 06:56:40 INFO 140589165307712] #quality_metric: host=algo-1, epoch=33, batch=0 train mse <loss>=0.5597840576171875\u001b[0m\n",
      "\u001b[34m[11/16/2021 06:56:40 INFO 140589165307712] #quality_metric: host=algo-1, epoch=33, batch=0 train absolute_loss <loss>=0.4926874084472656\u001b[0m\n"
     ]
    },
    {
     "name": "stdout",
     "output_type": "stream",
     "text": [
      "\u001b[34m[2021-11-16 06:56:42.781] [tensorio] [info] epoch_stats={\"data_pipeline\": \"/opt/ml/input/data/train\", \"epoch\": 68, \"duration\": 1951, \"num_examples\": 106, \"num_bytes\": 13773364}\u001b[0m\n",
      "\u001b[34m[11/16/2021 06:56:42 INFO 140589165307712] #quality_metric: host=algo-1, epoch=33, train rmse <loss>=0.7327361523055643\u001b[0m\n",
      "\u001b[34m[11/16/2021 06:56:42 INFO 140589165307712] #quality_metric: host=algo-1, epoch=33, train mse <loss>=0.5369022688955631\u001b[0m\n",
      "\u001b[34m[11/16/2021 06:56:42 INFO 140589165307712] #quality_metric: host=algo-1, epoch=33, train absolute_loss <loss>=0.47280185541116965\u001b[0m\n",
      "\u001b[34m#metrics {\"StartTime\": 1637045800.8266811, \"EndTime\": 1637045802.7822502, \"Dimensions\": {\"Algorithm\": \"factorization-machines\", \"Host\": \"algo-1\", \"Operation\": \"training\"}, \"Metrics\": {\"update.time\": {\"sum\": 1954.1685581207275, \"count\": 1, \"min\": 1954.1685581207275, \"max\": 1954.1685581207275}}}\u001b[0m\n",
      "\u001b[34m[11/16/2021 06:56:42 INFO 140589165307712] #progress_metric: host=algo-1, completed 40.963855421686745 % of epochs\u001b[0m\n",
      "\u001b[34m#metrics {\"StartTime\": 1637045800.8280542, \"EndTime\": 1637045802.7825086, \"Dimensions\": {\"Algorithm\": \"factorization-machines\", \"Host\": \"algo-1\", \"Operation\": \"training\", \"epoch\": 33, \"Meta\": \"training_data_iter\"}, \"Metrics\": {\"Total Records Seen\": {\"sum\": 3592590.0, \"count\": 1, \"min\": 3592590, \"max\": 3592590}, \"Total Batches Seen\": {\"sum\": 3605.0, \"count\": 1, \"min\": 3605, \"max\": 3605}, \"Max Records Seen Between Resets\": {\"sum\": 105635.0, \"count\": 1, \"min\": 105635, \"max\": 105635}, \"Max Batches Seen Between Resets\": {\"sum\": 106.0, \"count\": 1, \"min\": 106, \"max\": 106}, \"Reset Count\": {\"sum\": 35.0, \"count\": 1, \"min\": 35, \"max\": 35}, \"Number of Records Since Last Reset\": {\"sum\": 105635.0, \"count\": 1, \"min\": 105635, \"max\": 105635}, \"Number of Batches Since Last Reset\": {\"sum\": 106.0, \"count\": 1, \"min\": 106, \"max\": 106}}}\u001b[0m\n",
      "\u001b[34m[11/16/2021 06:56:42 INFO 140589165307712] #throughput_metric: host=algo-1, train throughput=54043.97348356726 records/second\u001b[0m\n",
      "\u001b[34m[11/16/2021 06:56:42 INFO 140589165307712] #quality_metric: host=algo-1, epoch=34, batch=0 train rmse <loss>=0.7283441696699353\u001b[0m\n",
      "\u001b[34m[11/16/2021 06:56:42 INFO 140589165307712] #quality_metric: host=algo-1, epoch=34, batch=0 train mse <loss>=0.5304852294921875\u001b[0m\n",
      "\u001b[34m[11/16/2021 06:56:42 INFO 140589165307712] #quality_metric: host=algo-1, epoch=34, batch=0 train absolute_loss <loss>=0.47587582397460937\u001b[0m\n",
      "\u001b[34m[2021-11-16 06:56:44.701] [tensorio] [info] epoch_stats={\"data_pipeline\": \"/opt/ml/input/data/train\", \"epoch\": 70, \"duration\": 1915, \"num_examples\": 106, \"num_bytes\": 13773364}\u001b[0m\n",
      "\u001b[34m[11/16/2021 06:56:44 INFO 140589165307712] #quality_metric: host=algo-1, epoch=34, train rmse <loss>=0.7127375548462965\u001b[0m\n",
      "\u001b[34m[11/16/2021 06:56:44 INFO 140589165307712] #quality_metric: host=algo-1, epoch=34, train mse <loss>=0.5079948220882776\u001b[0m\n",
      "\u001b[34m[11/16/2021 06:56:44 INFO 140589165307712] #quality_metric: host=algo-1, epoch=34, train absolute_loss <loss>=0.4563879719860149\u001b[0m\n",
      "\u001b[34m#metrics {\"StartTime\": 1637045802.7823231, \"EndTime\": 1637045804.7023468, \"Dimensions\": {\"Algorithm\": \"factorization-machines\", \"Host\": \"algo-1\", \"Operation\": \"training\"}, \"Metrics\": {\"update.time\": {\"sum\": 1918.691635131836, \"count\": 1, \"min\": 1918.691635131836, \"max\": 1918.691635131836}}}\u001b[0m\n",
      "\u001b[34m[11/16/2021 06:56:44 INFO 140589165307712] #progress_metric: host=algo-1, completed 42.16867469879518 % of epochs\u001b[0m\n",
      "\u001b[34m#metrics {\"StartTime\": 1637045802.7836251, \"EndTime\": 1637045804.7025943, \"Dimensions\": {\"Algorithm\": \"factorization-machines\", \"Host\": \"algo-1\", \"Operation\": \"training\", \"epoch\": 34, \"Meta\": \"training_data_iter\"}, \"Metrics\": {\"Total Records Seen\": {\"sum\": 3698225.0, \"count\": 1, \"min\": 3698225, \"max\": 3698225}, \"Total Batches Seen\": {\"sum\": 3711.0, \"count\": 1, \"min\": 3711, \"max\": 3711}, \"Max Records Seen Between Resets\": {\"sum\": 105635.0, \"count\": 1, \"min\": 105635, \"max\": 105635}, \"Max Batches Seen Between Resets\": {\"sum\": 106.0, \"count\": 1, \"min\": 106, \"max\": 106}, \"Reset Count\": {\"sum\": 36.0, \"count\": 1, \"min\": 36, \"max\": 36}, \"Number of Records Since Last Reset\": {\"sum\": 105635.0, \"count\": 1, \"min\": 105635, \"max\": 105635}, \"Number of Batches Since Last Reset\": {\"sum\": 106.0, \"count\": 1, \"min\": 106, \"max\": 106}}}\u001b[0m\n",
      "\u001b[34m[11/16/2021 06:56:44 INFO 140589165307712] #throughput_metric: host=algo-1, train throughput=55044.296430102186 records/second\u001b[0m\n",
      "\u001b[34m[11/16/2021 06:56:44 INFO 140589165307712] #quality_metric: host=algo-1, epoch=35, batch=0 train rmse <loss>=0.7086342971792093\u001b[0m\n",
      "\u001b[34m[11/16/2021 06:56:44 INFO 140589165307712] #quality_metric: host=algo-1, epoch=35, batch=0 train mse <loss>=0.5021625671386719\u001b[0m\n",
      "\u001b[34m[11/16/2021 06:56:44 INFO 140589165307712] #quality_metric: host=algo-1, epoch=35, batch=0 train absolute_loss <loss>=0.45961572265625\u001b[0m\n",
      "\u001b[34m[2021-11-16 06:56:46.820] [tensorio] [info] epoch_stats={\"data_pipeline\": \"/opt/ml/input/data/train\", \"epoch\": 72, \"duration\": 2114, \"num_examples\": 106, \"num_bytes\": 13773364}\u001b[0m\n",
      "\u001b[34m[11/16/2021 06:56:46 INFO 140589165307712] #quality_metric: host=algo-1, epoch=35, train rmse <loss>=0.693005078435755\u001b[0m\n",
      "\u001b[34m[11/16/2021 06:56:46 INFO 140589165307712] #quality_metric: host=algo-1, epoch=35, train mse <loss>=0.4802560387377469\u001b[0m\n",
      "\u001b[34m[11/16/2021 06:56:46 INFO 140589165307712] #quality_metric: host=algo-1, epoch=35, train absolute_loss <loss>=0.4404059442484154\u001b[0m\n",
      "\u001b[34m#metrics {\"StartTime\": 1637045804.7024252, \"EndTime\": 1637045806.821587, \"Dimensions\": {\"Algorithm\": \"factorization-machines\", \"Host\": \"algo-1\", \"Operation\": \"training\"}, \"Metrics\": {\"update.time\": {\"sum\": 2117.767333984375, \"count\": 1, \"min\": 2117.767333984375, \"max\": 2117.767333984375}}}\u001b[0m\n",
      "\u001b[34m[11/16/2021 06:56:46 INFO 140589165307712] #progress_metric: host=algo-1, completed 43.373493975903614 % of epochs\u001b[0m\n",
      "\u001b[34m#metrics {\"StartTime\": 1637045804.7037845, \"EndTime\": 1637045806.821882, \"Dimensions\": {\"Algorithm\": \"factorization-machines\", \"Host\": \"algo-1\", \"Operation\": \"training\", \"epoch\": 35, \"Meta\": \"training_data_iter\"}, \"Metrics\": {\"Total Records Seen\": {\"sum\": 3803860.0, \"count\": 1, \"min\": 3803860, \"max\": 3803860}, \"Total Batches Seen\": {\"sum\": 3817.0, \"count\": 1, \"min\": 3817, \"max\": 3817}, \"Max Records Seen Between Resets\": {\"sum\": 105635.0, \"count\": 1, \"min\": 105635, \"max\": 105635}, \"Max Batches Seen Between Resets\": {\"sum\": 106.0, \"count\": 1, \"min\": 106, \"max\": 106}, \"Reset Count\": {\"sum\": 37.0, \"count\": 1, \"min\": 37, \"max\": 37}, \"Number of Records Since Last Reset\": {\"sum\": 105635.0, \"count\": 1, \"min\": 105635, \"max\": 105635}, \"Number of Batches Since Last Reset\": {\"sum\": 106.0, \"count\": 1, \"min\": 106, \"max\": 106}}}\u001b[0m\n",
      "\u001b[34m[11/16/2021 06:56:46 INFO 140589165307712] #throughput_metric: host=algo-1, train throughput=49868.88588844252 records/second\u001b[0m\n",
      "\u001b[34m[11/16/2021 06:56:46 INFO 140589165307712] #quality_metric: host=algo-1, epoch=36, batch=0 train rmse <loss>=0.6890880983056974\u001b[0m\n",
      "\u001b[34m[11/16/2021 06:56:46 INFO 140589165307712] #quality_metric: host=algo-1, epoch=36, batch=0 train mse <loss>=0.4748424072265625\u001b[0m\n",
      "\u001b[34m[11/16/2021 06:56:46 INFO 140589165307712] #quality_metric: host=algo-1, epoch=36, batch=0 train absolute_loss <loss>=0.44397052001953125\u001b[0m\n",
      "\u001b[34m[2021-11-16 06:56:48.672] [tensorio] [info] epoch_stats={\"data_pipeline\": \"/opt/ml/input/data/train\", \"epoch\": 74, \"duration\": 1847, \"num_examples\": 106, \"num_bytes\": 13773364}\u001b[0m\n",
      "\u001b[34m[11/16/2021 06:56:48 INFO 140589165307712] #quality_metric: host=algo-1, epoch=36, train rmse <loss>=0.6735558433507061\u001b[0m\n",
      "\u001b[34m[11/16/2021 06:56:48 INFO 140589165307712] #quality_metric: host=algo-1, epoch=36, train mse <loss>=0.4536774741118809\u001b[0m\n",
      "\u001b[34m[11/16/2021 06:56:48 INFO 140589165307712] #quality_metric: host=algo-1, epoch=36, train absolute_loss <loss>=0.42487723642025355\u001b[0m\n",
      "\u001b[34m#metrics {\"StartTime\": 1637045806.8216753, \"EndTime\": 1637045808.6730917, \"Dimensions\": {\"Algorithm\": \"factorization-machines\", \"Host\": \"algo-1\", \"Operation\": \"training\"}, \"Metrics\": {\"update.time\": {\"sum\": 1850.0323295593262, \"count\": 1, \"min\": 1850.0323295593262, \"max\": 1850.0323295593262}}}\u001b[0m\n",
      "\u001b[34m[11/16/2021 06:56:48 INFO 140589165307712] #progress_metric: host=algo-1, completed 44.57831325301205 % of epochs\u001b[0m\n",
      "\u001b[34m#metrics {\"StartTime\": 1637045806.8230293, \"EndTime\": 1637045808.6733758, \"Dimensions\": {\"Algorithm\": \"factorization-machines\", \"Host\": \"algo-1\", \"Operation\": \"training\", \"epoch\": 36, \"Meta\": \"training_data_iter\"}, \"Metrics\": {\"Total Records Seen\": {\"sum\": 3909495.0, \"count\": 1, \"min\": 3909495, \"max\": 3909495}, \"Total Batches Seen\": {\"sum\": 3923.0, \"count\": 1, \"min\": 3923, \"max\": 3923}, \"Max Records Seen Between Resets\": {\"sum\": 105635.0, \"count\": 1, \"min\": 105635, \"max\": 105635}, \"Max Batches Seen Between Resets\": {\"sum\": 106.0, \"count\": 1, \"min\": 106, \"max\": 106}, \"Reset Count\": {\"sum\": 38.0, \"count\": 1, \"min\": 38, \"max\": 38}, \"Number of Records Since Last Reset\": {\"sum\": 105635.0, \"count\": 1, \"min\": 105635, \"max\": 105635}, \"Number of Batches Since Last Reset\": {\"sum\": 106.0, \"count\": 1, \"min\": 106, \"max\": 106}}}\u001b[0m\n",
      "\u001b[34m[11/16/2021 06:56:48 INFO 140589165307712] #throughput_metric: host=algo-1, train throughput=57084.55373286975 records/second\u001b[0m\n",
      "\u001b[34m[11/16/2021 06:56:48 INFO 140589165307712] #quality_metric: host=algo-1, epoch=37, batch=0 train rmse <loss>=0.6697335741193914\u001b[0m\n",
      "\u001b[34m[11/16/2021 06:56:48 INFO 140589165307712] #quality_metric: host=algo-1, epoch=37, batch=0 train mse <loss>=0.4485430603027344\u001b[0m\n",
      "\u001b[34m[11/16/2021 06:56:48 INFO 140589165307712] #quality_metric: host=algo-1, epoch=37, batch=0 train absolute_loss <loss>=0.4285799560546875\u001b[0m\n",
      "\u001b[34m[2021-11-16 06:56:50.617] [tensorio] [info] epoch_stats={\"data_pipeline\": \"/opt/ml/input/data/train\", \"epoch\": 76, \"duration\": 1940, \"num_examples\": 106, \"num_bytes\": 13773364}\u001b[0m\n",
      "\u001b[34m[11/16/2021 06:56:50 INFO 140589165307712] #quality_metric: host=algo-1, epoch=37, train rmse <loss>=0.6544052476868479\u001b[0m\n",
      "\u001b[34m[11/16/2021 06:56:50 INFO 140589165307712] #quality_metric: host=algo-1, epoch=37, train mse <loss>=0.42824622820008473\u001b[0m\n",
      "\u001b[34m[11/16/2021 06:56:50 INFO 140589165307712] #quality_metric: host=algo-1, epoch=37, train absolute_loss <loss>=0.40979666425596994\u001b[0m\n",
      "\u001b[34m#metrics {\"StartTime\": 1637045808.6731777, \"EndTime\": 1637045810.6178331, \"Dimensions\": {\"Algorithm\": \"factorization-machines\", \"Host\": \"algo-1\", \"Operation\": \"training\"}, \"Metrics\": {\"update.time\": {\"sum\": 1943.1486129760742, \"count\": 1, \"min\": 1943.1486129760742, \"max\": 1943.1486129760742}}}\u001b[0m\n",
      "\u001b[34m[11/16/2021 06:56:50 INFO 140589165307712] #progress_metric: host=algo-1, completed 45.78313253012048 % of epochs\u001b[0m\n",
      "\u001b[34m#metrics {\"StartTime\": 1637045808.6746383, \"EndTime\": 1637045810.6181228, \"Dimensions\": {\"Algorithm\": \"factorization-machines\", \"Host\": \"algo-1\", \"Operation\": \"training\", \"epoch\": 37, \"Meta\": \"training_data_iter\"}, \"Metrics\": {\"Total Records Seen\": {\"sum\": 4015130.0, \"count\": 1, \"min\": 4015130, \"max\": 4015130}, \"Total Batches Seen\": {\"sum\": 4029.0, \"count\": 1, \"min\": 4029, \"max\": 4029}, \"Max Records Seen Between Resets\": {\"sum\": 105635.0, \"count\": 1, \"min\": 105635, \"max\": 105635}, \"Max Batches Seen Between Resets\": {\"sum\": 106.0, \"count\": 1, \"min\": 106, \"max\": 106}, \"Reset Count\": {\"sum\": 39.0, \"count\": 1, \"min\": 39, \"max\": 39}, \"Number of Records Since Last Reset\": {\"sum\": 105635.0, \"count\": 1, \"min\": 105635, \"max\": 105635}, \"Number of Batches Since Last Reset\": {\"sum\": 106.0, \"count\": 1, \"min\": 106, \"max\": 106}}}\u001b[0m\n",
      "\u001b[34m[11/16/2021 06:56:50 INFO 140589165307712] #throughput_metric: host=algo-1, train throughput=54349.23659041313 records/second\u001b[0m\n",
      "\u001b[34m[11/16/2021 06:56:50 INFO 140589165307712] #quality_metric: host=algo-1, epoch=38, batch=0 train rmse <loss>=0.6505966734422646\u001b[0m\n",
      "\u001b[34m[11/16/2021 06:56:50 INFO 140589165307712] #quality_metric: host=algo-1, epoch=38, batch=0 train mse <loss>=0.4232760314941406\u001b[0m\n",
      "\u001b[34m[11/16/2021 06:56:50 INFO 140589165307712] #quality_metric: host=algo-1, epoch=38, batch=0 train absolute_loss <loss>=0.4135675659179687\u001b[0m\n",
      "\u001b[34m[2021-11-16 06:56:52.569] [tensorio] [info] epoch_stats={\"data_pipeline\": \"/opt/ml/input/data/train\", \"epoch\": 78, \"duration\": 1948, \"num_examples\": 106, \"num_bytes\": 13773364}\u001b[0m\n",
      "\u001b[34m[11/16/2021 06:56:52 INFO 140589165307712] #quality_metric: host=algo-1, epoch=38, train rmse <loss>=0.635567105810443\u001b[0m\n",
      "\u001b[34m[11/16/2021 06:56:52 INFO 140589165307712] #quality_metric: host=algo-1, epoch=38, train mse <loss>=0.4039455459882628\u001b[0m\n",
      "\u001b[34m[11/16/2021 06:56:52 INFO 140589165307712] #quality_metric: host=algo-1, epoch=38, train absolute_loss <loss>=0.3951142854510613\u001b[0m\n",
      "\u001b[34m#metrics {\"StartTime\": 1637045810.6179283, \"EndTime\": 1637045812.5704346, \"Dimensions\": {\"Algorithm\": \"factorization-machines\", \"Host\": \"algo-1\", \"Operation\": \"training\"}, \"Metrics\": {\"update.time\": {\"sum\": 1951.1306285858154, \"count\": 1, \"min\": 1951.1306285858154, \"max\": 1951.1306285858154}}}\u001b[0m\n",
      "\u001b[34m[11/16/2021 06:56:52 INFO 140589165307712] #progress_metric: host=algo-1, completed 46.98795180722892 % of epochs\u001b[0m\n",
      "\u001b[34m#metrics {\"StartTime\": 1637045810.619269, \"EndTime\": 1637045812.5707312, \"Dimensions\": {\"Algorithm\": \"factorization-machines\", \"Host\": \"algo-1\", \"Operation\": \"training\", \"epoch\": 38, \"Meta\": \"training_data_iter\"}, \"Metrics\": {\"Total Records Seen\": {\"sum\": 4120765.0, \"count\": 1, \"min\": 4120765, \"max\": 4120765}, \"Total Batches Seen\": {\"sum\": 4135.0, \"count\": 1, \"min\": 4135, \"max\": 4135}, \"Max Records Seen Between Resets\": {\"sum\": 105635.0, \"count\": 1, \"min\": 105635, \"max\": 105635}, \"Max Batches Seen Between Resets\": {\"sum\": 106.0, \"count\": 1, \"min\": 106, \"max\": 106}, \"Reset Count\": {\"sum\": 40.0, \"count\": 1, \"min\": 40, \"max\": 40}, \"Number of Records Since Last Reset\": {\"sum\": 105635.0, \"count\": 1, \"min\": 105635, \"max\": 105635}, \"Number of Batches Since Last Reset\": {\"sum\": 106.0, \"count\": 1, \"min\": 106, \"max\": 106}}}\u001b[0m\n",
      "\u001b[34m[11/16/2021 06:56:52 INFO 140589165307712] #throughput_metric: host=algo-1, train throughput=54127.446711869656 records/second\u001b[0m\n",
      "\u001b[34m[11/16/2021 06:56:52 INFO 140589165307712] #quality_metric: host=algo-1, epoch=39, batch=0 train rmse <loss>=0.631701909325984\u001b[0m\n",
      "\u001b[34m[11/16/2021 06:56:52 INFO 140589165307712] #quality_metric: host=algo-1, epoch=39, batch=0 train mse <loss>=0.39904730224609375\u001b[0m\n",
      "\u001b[34m[11/16/2021 06:56:52 INFO 140589165307712] #quality_metric: host=algo-1, epoch=39, batch=0 train absolute_loss <loss>=0.3988416748046875\u001b[0m\n",
      "\u001b[34m[2021-11-16 06:56:54.443] [tensorio] [info] epoch_stats={\"data_pipeline\": \"/opt/ml/input/data/train\", \"epoch\": 80, \"duration\": 1868, \"num_examples\": 106, \"num_bytes\": 13773364}\u001b[0m\n",
      "\u001b[34m[11/16/2021 06:56:54 INFO 140589165307712] #quality_metric: host=algo-1, epoch=39, train rmse <loss>=0.6170536511757309\u001b[0m\n",
      "\u001b[34m[11/16/2021 06:56:54 INFO 140589165307712] #quality_metric: host=algo-1, epoch=39, train mse <loss>=0.38075520842930055\u001b[0m\n",
      "\u001b[34m[11/16/2021 06:56:54 INFO 140589165307712] #quality_metric: host=algo-1, epoch=39, train absolute_loss <loss>=0.38086794727253465\u001b[0m\n",
      "\u001b[34m#metrics {\"StartTime\": 1637045812.5705285, \"EndTime\": 1637045814.4438462, \"Dimensions\": {\"Algorithm\": \"factorization-machines\", \"Host\": \"algo-1\", \"Operation\": \"training\"}, \"Metrics\": {\"update.time\": {\"sum\": 1871.8998432159424, \"count\": 1, \"min\": 1871.8998432159424, \"max\": 1871.8998432159424}}}\u001b[0m\n",
      "\u001b[34m[11/16/2021 06:56:54 INFO 140589165307712] #progress_metric: host=algo-1, completed 48.19277108433735 % of epochs\u001b[0m\n",
      "\u001b[34m#metrics {\"StartTime\": 1637045812.5719132, \"EndTime\": 1637045814.4441626, \"Dimensions\": {\"Algorithm\": \"factorization-machines\", \"Host\": \"algo-1\", \"Operation\": \"training\", \"epoch\": 39, \"Meta\": \"training_data_iter\"}, \"Metrics\": {\"Total Records Seen\": {\"sum\": 4226400.0, \"count\": 1, \"min\": 4226400, \"max\": 4226400}, \"Total Batches Seen\": {\"sum\": 4241.0, \"count\": 1, \"min\": 4241, \"max\": 4241}, \"Max Records Seen Between Resets\": {\"sum\": 105635.0, \"count\": 1, \"min\": 105635, \"max\": 105635}, \"Max Batches Seen Between Resets\": {\"sum\": 106.0, \"count\": 1, \"min\": 106, \"max\": 106}, \"Reset Count\": {\"sum\": 41.0, \"count\": 1, \"min\": 41, \"max\": 41}, \"Number of Records Since Last Reset\": {\"sum\": 105635.0, \"count\": 1, \"min\": 105635, \"max\": 105635}, \"Number of Batches Since Last Reset\": {\"sum\": 106.0, \"count\": 1, \"min\": 106, \"max\": 106}}}\u001b[0m\n",
      "\u001b[34m[11/16/2021 06:56:54 INFO 140589165307712] #throughput_metric: host=algo-1, train throughput=56415.9125756091 records/second\u001b[0m\n",
      "\u001b[34m[11/16/2021 06:56:54 INFO 140589165307712] #quality_metric: host=algo-1, epoch=40, batch=0 train rmse <loss>=0.6130732131225743\u001b[0m\n",
      "\u001b[34m[11/16/2021 06:56:54 INFO 140589165307712] #quality_metric: host=algo-1, epoch=40, batch=0 train mse <loss>=0.3758587646484375\u001b[0m\n",
      "\u001b[34m[11/16/2021 06:56:54 INFO 140589165307712] #quality_metric: host=algo-1, epoch=40, batch=0 train absolute_loss <loss>=0.3843660888671875\u001b[0m\n",
      "\u001b[34m[2021-11-16 06:56:56.309] [tensorio] [info] epoch_stats={\"data_pipeline\": \"/opt/ml/input/data/train\", \"epoch\": 82, \"duration\": 1862, \"num_examples\": 106, \"num_bytes\": 13773364}\u001b[0m\n",
      "\u001b[34m[11/16/2021 06:56:56 INFO 140589165307712] #quality_metric: host=algo-1, epoch=40, train rmse <loss>=0.5988756354788947\u001b[0m\n",
      "\u001b[34m[11/16/2021 06:56:56 INFO 140589165307712] #quality_metric: host=algo-1, epoch=40, train mse <loss>=0.3586520267702499\u001b[0m\n",
      "\u001b[34m[11/16/2021 06:56:56 INFO 140589165307712] #quality_metric: host=algo-1, epoch=40, train absolute_loss <loss>=0.3670538448117814\u001b[0m\n",
      "\u001b[34m#metrics {\"StartTime\": 1637045814.4439712, \"EndTime\": 1637045816.3104208, \"Dimensions\": {\"Algorithm\": \"factorization-machines\", \"Host\": \"algo-1\", \"Operation\": \"training\"}, \"Metrics\": {\"update.time\": {\"sum\": 1865.0310039520264, \"count\": 1, \"min\": 1865.0310039520264, \"max\": 1865.0310039520264}}}\u001b[0m\n",
      "\u001b[34m[11/16/2021 06:56:56 INFO 140589165307712] #progress_metric: host=algo-1, completed 49.397590361445786 % of epochs\u001b[0m\n",
      "\u001b[34m#metrics {\"StartTime\": 1637045814.44536, \"EndTime\": 1637045816.3106608, \"Dimensions\": {\"Algorithm\": \"factorization-machines\", \"Host\": \"algo-1\", \"Operation\": \"training\", \"epoch\": 40, \"Meta\": \"training_data_iter\"}, \"Metrics\": {\"Total Records Seen\": {\"sum\": 4332035.0, \"count\": 1, \"min\": 4332035, \"max\": 4332035}, \"Total Batches Seen\": {\"sum\": 4347.0, \"count\": 1, \"min\": 4347, \"max\": 4347}, \"Max Records Seen Between Resets\": {\"sum\": 105635.0, \"count\": 1, \"min\": 105635, \"max\": 105635}, \"Max Batches Seen Between Resets\": {\"sum\": 106.0, \"count\": 1, \"min\": 106, \"max\": 106}, \"Reset Count\": {\"sum\": 42.0, \"count\": 1, \"min\": 42, \"max\": 42}, \"Number of Records Since Last Reset\": {\"sum\": 105635.0, \"count\": 1, \"min\": 105635, \"max\": 105635}, \"Number of Batches Since Last Reset\": {\"sum\": 106.0, \"count\": 1, \"min\": 106, \"max\": 106}}}\u001b[0m\n",
      "\u001b[34m[11/16/2021 06:56:56 INFO 140589165307712] #throughput_metric: host=algo-1, train throughput=56627.95866742739 records/second\u001b[0m\n",
      "\u001b[34m[11/16/2021 06:56:56 INFO 140589165307712] #quality_metric: host=algo-1, epoch=41, batch=0 train rmse <loss>=0.5947334064158758\u001b[0m\n",
      "\u001b[34m[11/16/2021 06:56:56 INFO 140589165307712] #quality_metric: host=algo-1, epoch=41, batch=0 train mse <loss>=0.35370782470703127\u001b[0m\n",
      "\u001b[34m[11/16/2021 06:56:56 INFO 140589165307712] #quality_metric: host=algo-1, epoch=41, batch=0 train absolute_loss <loss>=0.3702007141113281\u001b[0m\n",
      "\u001b[34m[2021-11-16 06:56:58.281] [tensorio] [info] epoch_stats={\"data_pipeline\": \"/opt/ml/input/data/train\", \"epoch\": 84, \"duration\": 1967, \"num_examples\": 106, \"num_bytes\": 13773364}\u001b[0m\n",
      "\u001b[34m[11/16/2021 06:56:58 INFO 140589165307712] #quality_metric: host=algo-1, epoch=41, train rmse <loss>=0.5810425475880218\u001b[0m\n",
      "\u001b[34m[11/16/2021 06:56:58 INFO 140589165307712] #quality_metric: host=algo-1, epoch=41, train mse <loss>=0.3376104421075785\u001b[0m\n",
      "\u001b[34m[11/16/2021 06:56:58 INFO 140589165307712] #quality_metric: host=algo-1, epoch=41, train absolute_loss <loss>=0.3536695830147221\u001b[0m\n",
      "\u001b[34m#metrics {\"StartTime\": 1637045816.310497, \"EndTime\": 1637045818.2825954, \"Dimensions\": {\"Algorithm\": \"factorization-machines\", \"Host\": \"algo-1\", \"Operation\": \"training\"}, \"Metrics\": {\"update.time\": {\"sum\": 1970.635175704956, \"count\": 1, \"min\": 1970.635175704956, \"max\": 1970.635175704956}}}\u001b[0m\n",
      "\u001b[34m[11/16/2021 06:56:58 INFO 140589165307712] #progress_metric: host=algo-1, completed 50.602409638554214 % of epochs\u001b[0m\n",
      "\u001b[34m#metrics {\"StartTime\": 1637045816.3119287, \"EndTime\": 1637045818.2828686, \"Dimensions\": {\"Algorithm\": \"factorization-machines\", \"Host\": \"algo-1\", \"Operation\": \"training\", \"epoch\": 41, \"Meta\": \"training_data_iter\"}, \"Metrics\": {\"Total Records Seen\": {\"sum\": 4437670.0, \"count\": 1, \"min\": 4437670, \"max\": 4437670}, \"Total Batches Seen\": {\"sum\": 4453.0, \"count\": 1, \"min\": 4453, \"max\": 4453}, \"Max Records Seen Between Resets\": {\"sum\": 105635.0, \"count\": 1, \"min\": 105635, \"max\": 105635}, \"Max Batches Seen Between Resets\": {\"sum\": 106.0, \"count\": 1, \"min\": 106, \"max\": 106}, \"Reset Count\": {\"sum\": 43.0, \"count\": 1, \"min\": 43, \"max\": 43}, \"Number of Records Since Last Reset\": {\"sum\": 105635.0, \"count\": 1, \"min\": 105635, \"max\": 105635}, \"Number of Batches Since Last Reset\": {\"sum\": 106.0, \"count\": 1, \"min\": 106, \"max\": 106}}}\u001b[0m\n",
      "\u001b[34m[11/16/2021 06:56:58 INFO 140589165307712] #throughput_metric: host=algo-1, train throughput=53592.535773793 records/second\u001b[0m\n",
      "\u001b[34m[11/16/2021 06:56:58 INFO 140589165307712] #quality_metric: host=algo-1, epoch=42, batch=0 train rmse <loss>=0.5767034094833892\u001b[0m\n",
      "\u001b[34m[11/16/2021 06:56:58 INFO 140589165307712] #quality_metric: host=algo-1, epoch=42, batch=0 train mse <loss>=0.3325868225097656\u001b[0m\n",
      "\u001b[34m[11/16/2021 06:56:58 INFO 140589165307712] #quality_metric: host=algo-1, epoch=42, batch=0 train absolute_loss <loss>=0.356462158203125\u001b[0m\n"
     ]
    },
    {
     "name": "stdout",
     "output_type": "stream",
     "text": [
      "\u001b[34m[2021-11-16 06:57:00.208] [tensorio] [info] epoch_stats={\"data_pipeline\": \"/opt/ml/input/data/train\", \"epoch\": 86, \"duration\": 1922, \"num_examples\": 106, \"num_bytes\": 13773364}\u001b[0m\n",
      "\u001b[34m[11/16/2021 06:57:00 INFO 140589165307712] #quality_metric: host=algo-1, epoch=42, train rmse <loss>=0.5635630174623717\u001b[0m\n",
      "\u001b[34m[11/16/2021 06:57:00 INFO 140589165307712] #quality_metric: host=algo-1, epoch=42, train mse <loss>=0.3176032746512935\u001b[0m\n",
      "\u001b[34m[11/16/2021 06:57:00 INFO 140589165307712] #quality_metric: host=algo-1, epoch=42, train absolute_loss <loss>=0.34071515468381486\u001b[0m\n",
      "\u001b[34m#metrics {\"StartTime\": 1637045818.2826781, \"EndTime\": 1637045820.208908, \"Dimensions\": {\"Algorithm\": \"factorization-machines\", \"Host\": \"algo-1\", \"Operation\": \"training\"}, \"Metrics\": {\"update.time\": {\"sum\": 1924.8850345611572, \"count\": 1, \"min\": 1924.8850345611572, \"max\": 1924.8850345611572}}}\u001b[0m\n",
      "\u001b[34m[11/16/2021 06:57:00 INFO 140589165307712] #progress_metric: host=algo-1, completed 51.80722891566265 % of epochs\u001b[0m\n",
      "\u001b[34m#metrics {\"StartTime\": 1637045818.2839897, \"EndTime\": 1637045820.2092252, \"Dimensions\": {\"Algorithm\": \"factorization-machines\", \"Host\": \"algo-1\", \"Operation\": \"training\", \"epoch\": 42, \"Meta\": \"training_data_iter\"}, \"Metrics\": {\"Total Records Seen\": {\"sum\": 4543305.0, \"count\": 1, \"min\": 4543305, \"max\": 4543305}, \"Total Batches Seen\": {\"sum\": 4559.0, \"count\": 1, \"min\": 4559, \"max\": 4559}, \"Max Records Seen Between Resets\": {\"sum\": 105635.0, \"count\": 1, \"min\": 105635, \"max\": 105635}, \"Max Batches Seen Between Resets\": {\"sum\": 106.0, \"count\": 1, \"min\": 106, \"max\": 106}, \"Reset Count\": {\"sum\": 44.0, \"count\": 1, \"min\": 44, \"max\": 44}, \"Number of Records Since Last Reset\": {\"sum\": 105635.0, \"count\": 1, \"min\": 105635, \"max\": 105635}, \"Number of Batches Since Last Reset\": {\"sum\": 106.0, \"count\": 1, \"min\": 106, \"max\": 106}}}\u001b[0m\n",
      "\u001b[34m[11/16/2021 06:57:00 INFO 140589165307712] #throughput_metric: host=algo-1, train throughput=54864.19559583455 records/second\u001b[0m\n",
      "\u001b[34m[11/16/2021 06:57:00 INFO 140589165307712] #quality_metric: host=algo-1, epoch=43, batch=0 train rmse <loss>=0.5590008896494766\u001b[0m\n",
      "\u001b[34m[11/16/2021 06:57:00 INFO 140589165307712] #quality_metric: host=algo-1, epoch=43, batch=0 train mse <loss>=0.31248199462890625\u001b[0m\n",
      "\u001b[34m[11/16/2021 06:57:00 INFO 140589165307712] #quality_metric: host=algo-1, epoch=43, batch=0 train absolute_loss <loss>=0.3431566772460938\u001b[0m\n",
      "\u001b[34m[2021-11-16 06:57:02.353] [tensorio] [info] epoch_stats={\"data_pipeline\": \"/opt/ml/input/data/train\", \"epoch\": 88, \"duration\": 2141, \"num_examples\": 106, \"num_bytes\": 13773364}\u001b[0m\n",
      "\u001b[34m[11/16/2021 06:57:02 INFO 140589165307712] #quality_metric: host=algo-1, epoch=43, train rmse <loss>=0.5464451600258987\u001b[0m\n",
      "\u001b[34m[11/16/2021 06:57:02 INFO 140589165307712] #quality_metric: host=algo-1, epoch=43, train mse <loss>=0.29860231291573003\u001b[0m\n",
      "\u001b[34m[11/16/2021 06:57:02 INFO 140589165307712] #quality_metric: host=algo-1, epoch=43, train absolute_loss <loss>=0.32818410448758106\u001b[0m\n",
      "\u001b[34m#metrics {\"StartTime\": 1637045820.20901, \"EndTime\": 1637045822.35471, \"Dimensions\": {\"Algorithm\": \"factorization-machines\", \"Host\": \"algo-1\", \"Operation\": \"training\"}, \"Metrics\": {\"update.time\": {\"sum\": 2144.228458404541, \"count\": 1, \"min\": 2144.228458404541, \"max\": 2144.228458404541}}}\u001b[0m\n",
      "\u001b[34m[11/16/2021 06:57:02 INFO 140589165307712] #progress_metric: host=algo-1, completed 53.01204819277108 % of epochs\u001b[0m\n",
      "\u001b[34m#metrics {\"StartTime\": 1637045820.2104456, \"EndTime\": 1637045822.3550472, \"Dimensions\": {\"Algorithm\": \"factorization-machines\", \"Host\": \"algo-1\", \"Operation\": \"training\", \"epoch\": 43, \"Meta\": \"training_data_iter\"}, \"Metrics\": {\"Total Records Seen\": {\"sum\": 4648940.0, \"count\": 1, \"min\": 4648940, \"max\": 4648940}, \"Total Batches Seen\": {\"sum\": 4665.0, \"count\": 1, \"min\": 4665, \"max\": 4665}, \"Max Records Seen Between Resets\": {\"sum\": 105635.0, \"count\": 1, \"min\": 105635, \"max\": 105635}, \"Max Batches Seen Between Resets\": {\"sum\": 106.0, \"count\": 1, \"min\": 106, \"max\": 106}, \"Reset Count\": {\"sum\": 45.0, \"count\": 1, \"min\": 45, \"max\": 45}, \"Number of Records Since Last Reset\": {\"sum\": 105635.0, \"count\": 1, \"min\": 105635, \"max\": 105635}, \"Number of Batches Since Last Reset\": {\"sum\": 106.0, \"count\": 1, \"min\": 106, \"max\": 106}}}\u001b[0m\n",
      "\u001b[34m[11/16/2021 06:57:02 INFO 140589165307712] #throughput_metric: host=algo-1, train throughput=49252.79110334447 records/second\u001b[0m\n",
      "\u001b[34m[11/16/2021 06:57:02 INFO 140589165307712] #quality_metric: host=algo-1, epoch=44, batch=0 train rmse <loss>=0.541640827834233\u001b[0m\n",
      "\u001b[34m[11/16/2021 06:57:02 INFO 140589165307712] #quality_metric: host=algo-1, epoch=44, batch=0 train mse <loss>=0.29337478637695313\u001b[0m\n",
      "\u001b[34m[11/16/2021 06:57:02 INFO 140589165307712] #quality_metric: host=algo-1, epoch=44, batch=0 train absolute_loss <loss>=0.3302025451660156\u001b[0m\n",
      "\u001b[34m[2021-11-16 06:57:04.486] [tensorio] [info] epoch_stats={\"data_pipeline\": \"/opt/ml/input/data/train\", \"epoch\": 90, \"duration\": 2127, \"num_examples\": 106, \"num_bytes\": 13773364}\u001b[0m\n",
      "\u001b[34m[11/16/2021 06:57:04 INFO 140589165307712] #quality_metric: host=algo-1, epoch=44, train rmse <loss>=0.5296966460563572\u001b[0m\n",
      "\u001b[34m[11/16/2021 06:57:04 INFO 140589165307712] #quality_metric: host=algo-1, epoch=44, train mse <loss>=0.2805785368433538\u001b[0m\n",
      "\u001b[34m[11/16/2021 06:57:04 INFO 140589165307712] #quality_metric: host=algo-1, epoch=44, train absolute_loss <loss>=0.3160698924514483\u001b[0m\n",
      "\u001b[34m#metrics {\"StartTime\": 1637045822.354806, \"EndTime\": 1637045824.4868221, \"Dimensions\": {\"Algorithm\": \"factorization-machines\", \"Host\": \"algo-1\", \"Operation\": \"training\"}, \"Metrics\": {\"update.time\": {\"sum\": 2130.5272579193115, \"count\": 1, \"min\": 2130.5272579193115, \"max\": 2130.5272579193115}}}\u001b[0m\n",
      "\u001b[34m[11/16/2021 06:57:04 INFO 140589165307712] #progress_metric: host=algo-1, completed 54.21686746987952 % of epochs\u001b[0m\n",
      "\u001b[34m#metrics {\"StartTime\": 1637045822.3562303, \"EndTime\": 1637045824.487155, \"Dimensions\": {\"Algorithm\": \"factorization-machines\", \"Host\": \"algo-1\", \"Operation\": \"training\", \"epoch\": 44, \"Meta\": \"training_data_iter\"}, \"Metrics\": {\"Total Records Seen\": {\"sum\": 4754575.0, \"count\": 1, \"min\": 4754575, \"max\": 4754575}, \"Total Batches Seen\": {\"sum\": 4771.0, \"count\": 1, \"min\": 4771, \"max\": 4771}, \"Max Records Seen Between Resets\": {\"sum\": 105635.0, \"count\": 1, \"min\": 105635, \"max\": 105635}, \"Max Batches Seen Between Resets\": {\"sum\": 106.0, \"count\": 1, \"min\": 106, \"max\": 106}, \"Reset Count\": {\"sum\": 46.0, \"count\": 1, \"min\": 46, \"max\": 46}, \"Number of Records Since Last Reset\": {\"sum\": 105635.0, \"count\": 1, \"min\": 105635, \"max\": 105635}, \"Number of Batches Since Last Reset\": {\"sum\": 106.0, \"count\": 1, \"min\": 106, \"max\": 106}}}\u001b[0m\n",
      "\u001b[34m[11/16/2021 06:57:04 INFO 140589165307712] #throughput_metric: host=algo-1, train throughput=49568.055472239546 records/second\u001b[0m\n",
      "\u001b[34m[11/16/2021 06:57:04 INFO 140589165307712] #quality_metric: host=algo-1, epoch=45, batch=0 train rmse <loss>=0.5246374422406213\u001b[0m\n",
      "\u001b[34m[11/16/2021 06:57:04 INFO 140589165307712] #quality_metric: host=algo-1, epoch=45, batch=0 train mse <loss>=0.2752444458007812\u001b[0m\n",
      "\u001b[34m[11/16/2021 06:57:04 INFO 140589165307712] #quality_metric: host=algo-1, epoch=45, batch=0 train absolute_loss <loss>=0.317736572265625\u001b[0m\n",
      "\u001b[34m[2021-11-16 06:57:06.995] [tensorio] [info] epoch_stats={\"data_pipeline\": \"/opt/ml/input/data/train\", \"epoch\": 92, \"duration\": 2504, \"num_examples\": 106, \"num_bytes\": 13773364}\u001b[0m\n",
      "\u001b[34m[11/16/2021 06:57:06 INFO 140589165307712] #quality_metric: host=algo-1, epoch=45, train rmse <loss>=0.5133245241891969\u001b[0m\n",
      "\u001b[34m[11/16/2021 06:57:06 INFO 140589165307712] #quality_metric: host=algo-1, epoch=45, train mse <loss>=0.26350206713406543\u001b[0m\n",
      "\u001b[34m[11/16/2021 06:57:06 INFO 140589165307712] #quality_metric: host=algo-1, epoch=45, train absolute_loss <loss>=0.30437584643094046\u001b[0m\n",
      "\u001b[34m#metrics {\"StartTime\": 1637045824.486927, \"EndTime\": 1637045826.996826, \"Dimensions\": {\"Algorithm\": \"factorization-machines\", \"Host\": \"algo-1\", \"Operation\": \"training\"}, \"Metrics\": {\"update.time\": {\"sum\": 2508.279323577881, \"count\": 1, \"min\": 2508.279323577881, \"max\": 2508.279323577881}}}\u001b[0m\n",
      "\u001b[34m[11/16/2021 06:57:06 INFO 140589165307712] #progress_metric: host=algo-1, completed 55.42168674698795 % of epochs\u001b[0m\n",
      "\u001b[34m#metrics {\"StartTime\": 1637045824.4885142, \"EndTime\": 1637045826.997137, \"Dimensions\": {\"Algorithm\": \"factorization-machines\", \"Host\": \"algo-1\", \"Operation\": \"training\", \"epoch\": 45, \"Meta\": \"training_data_iter\"}, \"Metrics\": {\"Total Records Seen\": {\"sum\": 4860210.0, \"count\": 1, \"min\": 4860210, \"max\": 4860210}, \"Total Batches Seen\": {\"sum\": 4877.0, \"count\": 1, \"min\": 4877, \"max\": 4877}, \"Max Records Seen Between Resets\": {\"sum\": 105635.0, \"count\": 1, \"min\": 105635, \"max\": 105635}, \"Max Batches Seen Between Resets\": {\"sum\": 106.0, \"count\": 1, \"min\": 106, \"max\": 106}, \"Reset Count\": {\"sum\": 47.0, \"count\": 1, \"min\": 47, \"max\": 47}, \"Number of Records Since Last Reset\": {\"sum\": 105635.0, \"count\": 1, \"min\": 105635, \"max\": 105635}, \"Number of Batches Since Last Reset\": {\"sum\": 106.0, \"count\": 1, \"min\": 106, \"max\": 106}}}\u001b[0m\n",
      "\u001b[34m[11/16/2021 06:57:06 INFO 140589165307712] #throughput_metric: host=algo-1, train throughput=42106.403358284275 records/second\u001b[0m\n",
      "\u001b[34m[11/16/2021 06:57:07 INFO 140589165307712] #quality_metric: host=algo-1, epoch=46, batch=0 train rmse <loss>=0.5080043808154949\u001b[0m\n",
      "\u001b[34m[11/16/2021 06:57:07 INFO 140589165307712] #quality_metric: host=algo-1, epoch=46, batch=0 train mse <loss>=0.2580684509277344\u001b[0m\n",
      "\u001b[34m[11/16/2021 06:57:07 INFO 140589165307712] #quality_metric: host=algo-1, epoch=46, batch=0 train absolute_loss <loss>=0.30581805419921876\u001b[0m\n",
      "\u001b[34m[2021-11-16 06:57:08.971] [tensorio] [info] epoch_stats={\"data_pipeline\": \"/opt/ml/input/data/train\", \"epoch\": 94, \"duration\": 1971, \"num_examples\": 106, \"num_bytes\": 13773364}\u001b[0m\n",
      "\u001b[34m[11/16/2021 06:57:08 INFO 140589165307712] #quality_metric: host=algo-1, epoch=46, train rmse <loss>=0.4973350953414969\u001b[0m\n",
      "\u001b[34m[11/16/2021 06:57:08 INFO 140589165307712] #quality_metric: host=algo-1, epoch=46, train mse <loss>=0.2473421970583358\u001b[0m\n",
      "\u001b[34m[11/16/2021 06:57:08 INFO 140589165307712] #quality_metric: host=algo-1, epoch=46, train absolute_loss <loss>=0.2930765570874484\u001b[0m\n",
      "\u001b[34m#metrics {\"StartTime\": 1637045826.996918, \"EndTime\": 1637045828.972458, \"Dimensions\": {\"Algorithm\": \"factorization-machines\", \"Host\": \"algo-1\", \"Operation\": \"training\"}, \"Metrics\": {\"update.time\": {\"sum\": 1974.2038249969482, \"count\": 1, \"min\": 1974.2038249969482, \"max\": 1974.2038249969482}}}\u001b[0m\n",
      "\u001b[34m[11/16/2021 06:57:08 INFO 140589165307712] #progress_metric: host=algo-1, completed 56.626506024096386 % of epochs\u001b[0m\n",
      "\u001b[34m#metrics {\"StartTime\": 1637045826.9982233, \"EndTime\": 1637045828.972692, \"Dimensions\": {\"Algorithm\": \"factorization-machines\", \"Host\": \"algo-1\", \"Operation\": \"training\", \"epoch\": 46, \"Meta\": \"training_data_iter\"}, \"Metrics\": {\"Total Records Seen\": {\"sum\": 4965845.0, \"count\": 1, \"min\": 4965845, \"max\": 4965845}, \"Total Batches Seen\": {\"sum\": 4983.0, \"count\": 1, \"min\": 4983, \"max\": 4983}, \"Max Records Seen Between Resets\": {\"sum\": 105635.0, \"count\": 1, \"min\": 105635, \"max\": 105635}, \"Max Batches Seen Between Resets\": {\"sum\": 106.0, \"count\": 1, \"min\": 106, \"max\": 106}, \"Reset Count\": {\"sum\": 48.0, \"count\": 1, \"min\": 48, \"max\": 48}, \"Number of Records Since Last Reset\": {\"sum\": 105635.0, \"count\": 1, \"min\": 105635, \"max\": 105635}, \"Number of Batches Since Last Reset\": {\"sum\": 106.0, \"count\": 1, \"min\": 106, \"max\": 106}}}\u001b[0m\n",
      "\u001b[34m[11/16/2021 06:57:08 INFO 140589165307712] #throughput_metric: host=algo-1, train throughput=53497.14768687313 records/second\u001b[0m\n",
      "\u001b[34m[11/16/2021 06:57:09 INFO 140589165307712] #quality_metric: host=algo-1, epoch=47, batch=0 train rmse <loss>=0.49175421156289423\u001b[0m\n",
      "\u001b[34m[11/16/2021 06:57:09 INFO 140589165307712] #quality_metric: host=algo-1, epoch=47, batch=0 train mse <loss>=0.24182220458984374\u001b[0m\n",
      "\u001b[34m[11/16/2021 06:57:09 INFO 140589165307712] #quality_metric: host=algo-1, epoch=47, batch=0 train absolute_loss <loss>=0.2942025146484375\u001b[0m\n",
      "\u001b[34m[2021-11-16 06:57:10.894] [tensorio] [info] epoch_stats={\"data_pipeline\": \"/opt/ml/input/data/train\", \"epoch\": 96, \"duration\": 1919, \"num_examples\": 106, \"num_bytes\": 13773364}\u001b[0m\n",
      "\u001b[34m[11/16/2021 06:57:10 INFO 140589165307712] #quality_metric: host=algo-1, epoch=47, train rmse <loss>=0.4817337060276013\u001b[0m\n",
      "\u001b[34m[11/16/2021 06:57:10 INFO 140589165307712] #quality_metric: host=algo-1, epoch=47, train mse <loss>=0.2320673635230874\u001b[0m\n",
      "\u001b[34m[11/16/2021 06:57:10 INFO 140589165307712] #quality_metric: host=algo-1, epoch=47, train absolute_loss <loss>=0.28216615424965913\u001b[0m\n",
      "\u001b[34m#metrics {\"StartTime\": 1637045828.972534, \"EndTime\": 1637045830.8955865, \"Dimensions\": {\"Algorithm\": \"factorization-machines\", \"Host\": \"algo-1\", \"Operation\": \"training\"}, \"Metrics\": {\"update.time\": {\"sum\": 1921.6396808624268, \"count\": 1, \"min\": 1921.6396808624268, \"max\": 1921.6396808624268}}}\u001b[0m\n",
      "\u001b[34m[11/16/2021 06:57:10 INFO 140589165307712] #progress_metric: host=algo-1, completed 57.83132530120482 % of epochs\u001b[0m\n",
      "\u001b[34m#metrics {\"StartTime\": 1637045828.9739118, \"EndTime\": 1637045830.895875, \"Dimensions\": {\"Algorithm\": \"factorization-machines\", \"Host\": \"algo-1\", \"Operation\": \"training\", \"epoch\": 47, \"Meta\": \"training_data_iter\"}, \"Metrics\": {\"Total Records Seen\": {\"sum\": 5071480.0, \"count\": 1, \"min\": 5071480, \"max\": 5071480}, \"Total Batches Seen\": {\"sum\": 5089.0, \"count\": 1, \"min\": 5089, \"max\": 5089}, \"Max Records Seen Between Resets\": {\"sum\": 105635.0, \"count\": 1, \"min\": 105635, \"max\": 105635}, \"Max Batches Seen Between Resets\": {\"sum\": 106.0, \"count\": 1, \"min\": 106, \"max\": 106}, \"Reset Count\": {\"sum\": 49.0, \"count\": 1, \"min\": 49, \"max\": 49}, \"Number of Records Since Last Reset\": {\"sum\": 105635.0, \"count\": 1, \"min\": 105635, \"max\": 105635}, \"Number of Batches Since Last Reset\": {\"sum\": 106.0, \"count\": 1, \"min\": 106, \"max\": 106}}}\u001b[0m\n",
      "\u001b[34m[11/16/2021 06:57:10 INFO 140589165307712] #throughput_metric: host=algo-1, train throughput=54958.007732183825 records/second\u001b[0m\n",
      "\u001b[34m[11/16/2021 06:57:10 INFO 140589165307712] #quality_metric: host=algo-1, epoch=48, batch=0 train rmse <loss>=0.4758971405449987\u001b[0m\n",
      "\u001b[34m[11/16/2021 06:57:10 INFO 140589165307712] #quality_metric: host=algo-1, epoch=48, batch=0 train mse <loss>=0.22647808837890626\u001b[0m\n",
      "\u001b[34m[11/16/2021 06:57:10 INFO 140589165307712] #quality_metric: host=algo-1, epoch=48, batch=0 train absolute_loss <loss>=0.2830596618652344\u001b[0m\n"
     ]
    },
    {
     "name": "stdout",
     "output_type": "stream",
     "text": [
      "\u001b[34m[2021-11-16 06:57:12.811] [tensorio] [info] epoch_stats={\"data_pipeline\": \"/opt/ml/input/data/train\", \"epoch\": 98, \"duration\": 1912, \"num_examples\": 106, \"num_bytes\": 13773364}\u001b[0m\n",
      "\u001b[34m[11/16/2021 06:57:12 INFO 140589165307712] #quality_metric: host=algo-1, epoch=48, train rmse <loss>=0.4665247310004646\u001b[0m\n",
      "\u001b[34m[11/16/2021 06:57:12 INFO 140589165307712] #quality_metric: host=algo-1, epoch=48, train mse <loss>=0.21764532463505584\u001b[0m\n",
      "\u001b[34m[11/16/2021 06:57:12 INFO 140589165307712] #quality_metric: host=algo-1, epoch=48, train absolute_loss <loss>=0.27166045278873086\u001b[0m\n",
      "\u001b[34m#metrics {\"StartTime\": 1637045830.8956738, \"EndTime\": 1637045832.812328, \"Dimensions\": {\"Algorithm\": \"factorization-machines\", \"Host\": \"algo-1\", \"Operation\": \"training\"}, \"Metrics\": {\"update.time\": {\"sum\": 1915.2545928955078, \"count\": 1, \"min\": 1915.2545928955078, \"max\": 1915.2545928955078}}}\u001b[0m\n",
      "\u001b[34m[11/16/2021 06:57:12 INFO 140589165307712] #progress_metric: host=algo-1, completed 59.036144578313255 % of epochs\u001b[0m\n",
      "\u001b[34m#metrics {\"StartTime\": 1637045830.8970442, \"EndTime\": 1637045832.8126264, \"Dimensions\": {\"Algorithm\": \"factorization-machines\", \"Host\": \"algo-1\", \"Operation\": \"training\", \"epoch\": 48, \"Meta\": \"training_data_iter\"}, \"Metrics\": {\"Total Records Seen\": {\"sum\": 5177115.0, \"count\": 1, \"min\": 5177115, \"max\": 5177115}, \"Total Batches Seen\": {\"sum\": 5195.0, \"count\": 1, \"min\": 5195, \"max\": 5195}, \"Max Records Seen Between Resets\": {\"sum\": 105635.0, \"count\": 1, \"min\": 105635, \"max\": 105635}, \"Max Batches Seen Between Resets\": {\"sum\": 106.0, \"count\": 1, \"min\": 106, \"max\": 106}, \"Reset Count\": {\"sum\": 50.0, \"count\": 1, \"min\": 50, \"max\": 50}, \"Number of Records Since Last Reset\": {\"sum\": 105635.0, \"count\": 1, \"min\": 105635, \"max\": 105635}, \"Number of Batches Since Last Reset\": {\"sum\": 106.0, \"count\": 1, \"min\": 106, \"max\": 106}}}\u001b[0m\n",
      "\u001b[34m[11/16/2021 06:57:12 INFO 140589165307712] #throughput_metric: host=algo-1, train throughput=55140.84643036177 records/second\u001b[0m\n",
      "\u001b[34m[11/16/2021 06:57:12 INFO 140589165307712] #quality_metric: host=algo-1, epoch=49, batch=0 train rmse <loss>=0.4604414041125035\u001b[0m\n",
      "\u001b[34m[11/16/2021 06:57:12 INFO 140589165307712] #quality_metric: host=algo-1, epoch=49, batch=0 train mse <loss>=0.21200628662109375\u001b[0m\n",
      "\u001b[34m[11/16/2021 06:57:12 INFO 140589165307712] #quality_metric: host=algo-1, epoch=49, batch=0 train absolute_loss <loss>=0.2721985778808594\u001b[0m\n",
      "\u001b[34m[2021-11-16 06:57:14.760] [tensorio] [info] epoch_stats={\"data_pipeline\": \"/opt/ml/input/data/train\", \"epoch\": 100, \"duration\": 1944, \"num_examples\": 106, \"num_bytes\": 13773364}\u001b[0m\n",
      "\u001b[34m[11/16/2021 06:57:14 INFO 140589165307712] #quality_metric: host=algo-1, epoch=49, train rmse <loss>=0.45171148584061654\u001b[0m\n",
      "\u001b[34m[11/16/2021 06:57:14 INFO 140589165307712] #quality_metric: host=algo-1, epoch=49, train mse <loss>=0.20404326644033755\u001b[0m\n",
      "\u001b[34m[11/16/2021 06:57:14 INFO 140589165307712] #quality_metric: host=algo-1, epoch=49, train absolute_loss <loss>=0.26174957390551296\u001b[0m\n",
      "\u001b[34m#metrics {\"StartTime\": 1637045832.8124304, \"EndTime\": 1637045834.7612731, \"Dimensions\": {\"Algorithm\": \"factorization-machines\", \"Host\": \"algo-1\", \"Operation\": \"training\"}, \"Metrics\": {\"update.time\": {\"sum\": 1947.479009628296, \"count\": 1, \"min\": 1947.479009628296, \"max\": 1947.479009628296}}}\u001b[0m\n",
      "\u001b[34m[11/16/2021 06:57:14 INFO 140589165307712] #progress_metric: host=algo-1, completed 60.24096385542169 % of epochs\u001b[0m\n",
      "\u001b[34m#metrics {\"StartTime\": 1637045832.813759, \"EndTime\": 1637045834.7615862, \"Dimensions\": {\"Algorithm\": \"factorization-machines\", \"Host\": \"algo-1\", \"Operation\": \"training\", \"epoch\": 49, \"Meta\": \"training_data_iter\"}, \"Metrics\": {\"Total Records Seen\": {\"sum\": 5282750.0, \"count\": 1, \"min\": 5282750, \"max\": 5282750}, \"Total Batches Seen\": {\"sum\": 5301.0, \"count\": 1, \"min\": 5301, \"max\": 5301}, \"Max Records Seen Between Resets\": {\"sum\": 105635.0, \"count\": 1, \"min\": 105635, \"max\": 105635}, \"Max Batches Seen Between Resets\": {\"sum\": 106.0, \"count\": 1, \"min\": 106, \"max\": 106}, \"Reset Count\": {\"sum\": 51.0, \"count\": 1, \"min\": 51, \"max\": 51}, \"Number of Records Since Last Reset\": {\"sum\": 105635.0, \"count\": 1, \"min\": 105635, \"max\": 105635}, \"Number of Batches Since Last Reset\": {\"sum\": 106.0, \"count\": 1, \"min\": 106, \"max\": 106}}}\u001b[0m\n",
      "\u001b[34m[11/16/2021 06:57:14 INFO 140589165307712] #throughput_metric: host=algo-1, train throughput=54227.93169413688 records/second\u001b[0m\n",
      "\u001b[34m[11/16/2021 06:57:14 INFO 140589165307712] #quality_metric: host=algo-1, epoch=50, batch=0 train rmse <loss>=0.4453944380482719\u001b[0m\n",
      "\u001b[34m[11/16/2021 06:57:14 INFO 140589165307712] #quality_metric: host=algo-1, epoch=50, batch=0 train mse <loss>=0.19837620544433593\u001b[0m\n",
      "\u001b[34m[11/16/2021 06:57:14 INFO 140589165307712] #quality_metric: host=algo-1, epoch=50, batch=0 train absolute_loss <loss>=0.26180889892578124\u001b[0m\n",
      "\u001b[34m[2021-11-16 06:57:16.783] [tensorio] [info] epoch_stats={\"data_pipeline\": \"/opt/ml/input/data/train\", \"epoch\": 102, \"duration\": 2018, \"num_examples\": 106, \"num_bytes\": 13773364}\u001b[0m\n",
      "\u001b[34m[11/16/2021 06:57:16 INFO 140589165307712] #quality_metric: host=algo-1, epoch=50, train rmse <loss>=0.4372962725736872\u001b[0m\n",
      "\u001b[34m[11/16/2021 06:57:16 INFO 140589165307712] #quality_metric: host=algo-1, epoch=50, train mse <loss>=0.19122803000684055\u001b[0m\n",
      "\u001b[34m[11/16/2021 06:57:16 INFO 140589165307712] #quality_metric: host=algo-1, epoch=50, train absolute_loss <loss>=0.2521536735678619\u001b[0m\n",
      "\u001b[34m#metrics {\"StartTime\": 1637045834.7613738, \"EndTime\": 1637045836.7843118, \"Dimensions\": {\"Algorithm\": \"factorization-machines\", \"Host\": \"algo-1\", \"Operation\": \"training\"}, \"Metrics\": {\"update.time\": {\"sum\": 2021.5480327606201, \"count\": 1, \"min\": 2021.5480327606201, \"max\": 2021.5480327606201}}}\u001b[0m\n",
      "\u001b[34m[11/16/2021 06:57:16 INFO 140589165307712] #progress_metric: host=algo-1, completed 61.44578313253012 % of epochs\u001b[0m\n",
      "\u001b[34m#metrics {\"StartTime\": 1637045834.762734, \"EndTime\": 1637045836.7845666, \"Dimensions\": {\"Algorithm\": \"factorization-machines\", \"Host\": \"algo-1\", \"Operation\": \"training\", \"epoch\": 50, \"Meta\": \"training_data_iter\"}, \"Metrics\": {\"Total Records Seen\": {\"sum\": 5388385.0, \"count\": 1, \"min\": 5388385, \"max\": 5388385}, \"Total Batches Seen\": {\"sum\": 5407.0, \"count\": 1, \"min\": 5407, \"max\": 5407}, \"Max Records Seen Between Resets\": {\"sum\": 105635.0, \"count\": 1, \"min\": 105635, \"max\": 105635}, \"Max Batches Seen Between Resets\": {\"sum\": 106.0, \"count\": 1, \"min\": 106, \"max\": 106}, \"Reset Count\": {\"sum\": 52.0, \"count\": 1, \"min\": 52, \"max\": 52}, \"Number of Records Since Last Reset\": {\"sum\": 105635.0, \"count\": 1, \"min\": 105635, \"max\": 105635}, \"Number of Batches Since Last Reset\": {\"sum\": 106.0, \"count\": 1, \"min\": 106, \"max\": 106}}}\u001b[0m\n",
      "\u001b[34m[11/16/2021 06:57:16 INFO 140589165307712] #throughput_metric: host=algo-1, train throughput=52243.81875033753 records/second\u001b[0m\n",
      "\u001b[34m[11/16/2021 06:57:16 INFO 140589165307712] #quality_metric: host=algo-1, epoch=51, batch=0 train rmse <loss>=0.4307627526519274\u001b[0m\n",
      "\u001b[34m[11/16/2021 06:57:16 INFO 140589165307712] #quality_metric: host=algo-1, epoch=51, batch=0 train mse <loss>=0.18555654907226563\u001b[0m\n",
      "\u001b[34m[11/16/2021 06:57:16 INFO 140589165307712] #quality_metric: host=algo-1, epoch=51, batch=0 train absolute_loss <loss>=0.2517437591552734\u001b[0m\n",
      "\u001b[34m[2021-11-16 06:57:18.790] [tensorio] [info] epoch_stats={\"data_pipeline\": \"/opt/ml/input/data/train\", \"epoch\": 104, \"duration\": 2002, \"num_examples\": 106, \"num_bytes\": 13773364}\u001b[0m\n",
      "\u001b[34m[11/16/2021 06:57:18 INFO 140589165307712] #quality_metric: host=algo-1, epoch=51, train rmse <loss>=0.42328040742603973\u001b[0m\n",
      "\u001b[34m[11/16/2021 06:57:18 INFO 140589165307712] #quality_metric: host=algo-1, epoch=51, train mse <loss>=0.17916630331075417\u001b[0m\n",
      "\u001b[34m[11/16/2021 06:57:18 INFO 140589165307712] #quality_metric: host=algo-1, epoch=51, train absolute_loss <loss>=0.24286501628947707\u001b[0m\n",
      "\u001b[34m#metrics {\"StartTime\": 1637045836.7843966, \"EndTime\": 1637045838.79092, \"Dimensions\": {\"Algorithm\": \"factorization-machines\", \"Host\": \"algo-1\", \"Operation\": \"training\"}, \"Metrics\": {\"update.time\": {\"sum\": 2005.096435546875, \"count\": 1, \"min\": 2005.096435546875, \"max\": 2005.096435546875}}}\u001b[0m\n",
      "\u001b[34m[11/16/2021 06:57:18 INFO 140589165307712] #progress_metric: host=algo-1, completed 62.65060240963855 % of epochs\u001b[0m\n",
      "\u001b[34m#metrics {\"StartTime\": 1637045836.7857902, \"EndTime\": 1637045838.7912188, \"Dimensions\": {\"Algorithm\": \"factorization-machines\", \"Host\": \"algo-1\", \"Operation\": \"training\", \"epoch\": 51, \"Meta\": \"training_data_iter\"}, \"Metrics\": {\"Total Records Seen\": {\"sum\": 5494020.0, \"count\": 1, \"min\": 5494020, \"max\": 5494020}, \"Total Batches Seen\": {\"sum\": 5513.0, \"count\": 1, \"min\": 5513, \"max\": 5513}, \"Max Records Seen Between Resets\": {\"sum\": 105635.0, \"count\": 1, \"min\": 105635, \"max\": 105635}, \"Max Batches Seen Between Resets\": {\"sum\": 106.0, \"count\": 1, \"min\": 106, \"max\": 106}, \"Reset Count\": {\"sum\": 53.0, \"count\": 1, \"min\": 53, \"max\": 53}, \"Number of Records Since Last Reset\": {\"sum\": 105635.0, \"count\": 1, \"min\": 105635, \"max\": 105635}, \"Number of Batches Since Last Reset\": {\"sum\": 106.0, \"count\": 1, \"min\": 106, \"max\": 106}}}\u001b[0m\n",
      "\u001b[34m[11/16/2021 06:57:18 INFO 140589165307712] #throughput_metric: host=algo-1, train throughput=52670.85106878726 records/second\u001b[0m\n",
      "\u001b[34m[11/16/2021 06:57:18 INFO 140589165307712] #quality_metric: host=algo-1, epoch=52, batch=0 train rmse <loss>=0.4165507305339872\u001b[0m\n",
      "\u001b[34m[11/16/2021 06:57:18 INFO 140589165307712] #quality_metric: host=algo-1, epoch=52, batch=0 train mse <loss>=0.17351451110839844\u001b[0m\n",
      "\u001b[34m[11/16/2021 06:57:18 INFO 140589165307712] #quality_metric: host=algo-1, epoch=52, batch=0 train absolute_loss <loss>=0.24193238830566408\u001b[0m\n",
      "\u001b[34m[2021-11-16 06:57:20.669] [tensorio] [info] epoch_stats={\"data_pipeline\": \"/opt/ml/input/data/train\", \"epoch\": 106, \"duration\": 1874, \"num_examples\": 106, \"num_bytes\": 13773364}\u001b[0m\n",
      "\u001b[34m[11/16/2021 06:57:20 INFO 140589165307712] #quality_metric: host=algo-1, epoch=52, train rmse <loss>=0.4096644833116426\u001b[0m\n",
      "\u001b[34m[11/16/2021 06:57:20 INFO 140589165307712] #quality_metric: host=algo-1, epoch=52, train mse <loss>=0.16782498888699512\u001b[0m\n",
      "\u001b[34m[11/16/2021 06:57:20 INFO 140589165307712] #quality_metric: host=algo-1, epoch=52, train absolute_loss <loss>=0.23383630990082363\u001b[0m\n",
      "\u001b[34m#metrics {\"StartTime\": 1637045838.791014, \"EndTime\": 1637045840.669882, \"Dimensions\": {\"Algorithm\": \"factorization-machines\", \"Host\": \"algo-1\", \"Operation\": \"training\"}, \"Metrics\": {\"update.time\": {\"sum\": 1877.4869441986084, \"count\": 1, \"min\": 1877.4869441986084, \"max\": 1877.4869441986084}}}\u001b[0m\n",
      "\u001b[34m[11/16/2021 06:57:20 INFO 140589165307712] #progress_metric: host=algo-1, completed 63.855421686746986 % of epochs\u001b[0m\n",
      "\u001b[34m#metrics {\"StartTime\": 1637045838.7923698, \"EndTime\": 1637045840.6701715, \"Dimensions\": {\"Algorithm\": \"factorization-machines\", \"Host\": \"algo-1\", \"Operation\": \"training\", \"epoch\": 52, \"Meta\": \"training_data_iter\"}, \"Metrics\": {\"Total Records Seen\": {\"sum\": 5599655.0, \"count\": 1, \"min\": 5599655, \"max\": 5599655}, \"Total Batches Seen\": {\"sum\": 5619.0, \"count\": 1, \"min\": 5619, \"max\": 5619}, \"Max Records Seen Between Resets\": {\"sum\": 105635.0, \"count\": 1, \"min\": 105635, \"max\": 105635}, \"Max Batches Seen Between Resets\": {\"sum\": 106.0, \"count\": 1, \"min\": 106, \"max\": 106}, \"Reset Count\": {\"sum\": 54.0, \"count\": 1, \"min\": 54, \"max\": 54}, \"Number of Records Since Last Reset\": {\"sum\": 105635.0, \"count\": 1, \"min\": 105635, \"max\": 105635}, \"Number of Batches Since Last Reset\": {\"sum\": 106.0, \"count\": 1, \"min\": 106, \"max\": 106}}}\u001b[0m\n",
      "\u001b[34m[11/16/2021 06:57:20 INFO 140589165307712] #throughput_metric: host=algo-1, train throughput=56250.553445447986 records/second\u001b[0m\n",
      "\u001b[34m[11/16/2021 06:57:20 INFO 140589165307712] #quality_metric: host=algo-1, epoch=53, batch=0 train rmse <loss>=0.4027608388795526\u001b[0m\n",
      "\u001b[34m[11/16/2021 06:57:20 INFO 140589165307712] #quality_metric: host=algo-1, epoch=53, batch=0 train mse <loss>=0.16221629333496093\u001b[0m\n",
      "\u001b[34m[11/16/2021 06:57:20 INFO 140589165307712] #quality_metric: host=algo-1, epoch=53, batch=0 train absolute_loss <loss>=0.23256980895996093\u001b[0m\n",
      "\u001b[34m[2021-11-16 06:57:22.533] [tensorio] [info] epoch_stats={\"data_pipeline\": \"/opt/ml/input/data/train\", \"epoch\": 108, \"duration\": 1860, \"num_examples\": 106, \"num_bytes\": 13773364}\u001b[0m\n",
      "\u001b[34m[11/16/2021 06:57:22 INFO 140589165307712] #quality_metric: host=algo-1, epoch=53, train rmse <loss>=0.39644870086220974\u001b[0m\n",
      "\u001b[34m[11/16/2021 06:57:22 INFO 140589165307712] #quality_metric: host=algo-1, epoch=53, train mse <loss>=0.15717157241533386\u001b[0m\n",
      "\u001b[34m[11/16/2021 06:57:22 INFO 140589165307712] #quality_metric: host=algo-1, epoch=53, train absolute_loss <loss>=0.22506640394678656\u001b[0m\n",
      "\u001b[34m#metrics {\"StartTime\": 1637045840.6699772, \"EndTime\": 1637045842.5345018, \"Dimensions\": {\"Algorithm\": \"factorization-machines\", \"Host\": \"algo-1\", \"Operation\": \"training\"}, \"Metrics\": {\"update.time\": {\"sum\": 1863.1763458251953, \"count\": 1, \"min\": 1863.1763458251953, \"max\": 1863.1763458251953}}}\u001b[0m\n",
      "\u001b[34m[11/16/2021 06:57:22 INFO 140589165307712] #progress_metric: host=algo-1, completed 65.06024096385542 % of epochs\u001b[0m\n",
      "\u001b[34m#metrics {\"StartTime\": 1637045840.6712904, \"EndTime\": 1637045842.5347986, \"Dimensions\": {\"Algorithm\": \"factorization-machines\", \"Host\": \"algo-1\", \"Operation\": \"training\", \"epoch\": 53, \"Meta\": \"training_data_iter\"}, \"Metrics\": {\"Total Records Seen\": {\"sum\": 5705290.0, \"count\": 1, \"min\": 5705290, \"max\": 5705290}, \"Total Batches Seen\": {\"sum\": 5725.0, \"count\": 1, \"min\": 5725, \"max\": 5725}, \"Max Records Seen Between Resets\": {\"sum\": 105635.0, \"count\": 1, \"min\": 105635, \"max\": 105635}, \"Max Batches Seen Between Resets\": {\"sum\": 106.0, \"count\": 1, \"min\": 106, \"max\": 106}, \"Reset Count\": {\"sum\": 55.0, \"count\": 1, \"min\": 55, \"max\": 55}, \"Number of Records Since Last Reset\": {\"sum\": 105635.0, \"count\": 1, \"min\": 105635, \"max\": 105635}, \"Number of Batches Since Last Reset\": {\"sum\": 106.0, \"count\": 1, \"min\": 106, \"max\": 106}}}\u001b[0m\n",
      "\u001b[34m[11/16/2021 06:57:22 INFO 140589165307712] #throughput_metric: host=algo-1, train throughput=56681.05271008716 records/second\u001b[0m\n",
      "\u001b[34m[11/16/2021 06:57:22 INFO 140589165307712] #quality_metric: host=algo-1, epoch=54, batch=0 train rmse <loss>=0.3893956240462484\u001b[0m\n",
      "\u001b[34m[11/16/2021 06:57:22 INFO 140589165307712] #quality_metric: host=algo-1, epoch=54, batch=0 train mse <loss>=0.1516289520263672\u001b[0m\n",
      "\u001b[34m[11/16/2021 06:57:22 INFO 140589165307712] #quality_metric: host=algo-1, epoch=54, batch=0 train absolute_loss <loss>=0.22337052917480468\u001b[0m\n",
      "\u001b[34m[2021-11-16 06:57:24.492] [tensorio] [info] epoch_stats={\"data_pipeline\": \"/opt/ml/input/data/train\", \"epoch\": 110, \"duration\": 1954, \"num_examples\": 106, \"num_bytes\": 13773364}\u001b[0m\n",
      "\u001b[34m[11/16/2021 06:57:24 INFO 140589165307712] #quality_metric: host=algo-1, epoch=54, train rmse <loss>=0.3836328028190457\u001b[0m\n",
      "\u001b[34m[11/16/2021 06:57:24 INFO 140589165307712] #quality_metric: host=algo-1, epoch=54, train mse <loss>=0.1471741273987968\u001b[0m\n",
      "\u001b[34m[11/16/2021 06:57:24 INFO 140589165307712] #quality_metric: host=algo-1, epoch=54, train absolute_loss <loss>=0.21652930004191848\u001b[0m\n",
      "\u001b[34m#metrics {\"StartTime\": 1637045842.5345986, \"EndTime\": 1637045844.4933171, \"Dimensions\": {\"Algorithm\": \"factorization-machines\", \"Host\": \"algo-1\", \"Operation\": \"training\"}, \"Metrics\": {\"update.time\": {\"sum\": 1957.324743270874, \"count\": 1, \"min\": 1957.324743270874, \"max\": 1957.324743270874}}}\u001b[0m\n",
      "\u001b[34m[11/16/2021 06:57:24 INFO 140589165307712] #progress_metric: host=algo-1, completed 66.26506024096386 % of epochs\u001b[0m\n",
      "\u001b[34m#metrics {\"StartTime\": 1637045842.5359583, \"EndTime\": 1637045844.4936192, \"Dimensions\": {\"Algorithm\": \"factorization-machines\", \"Host\": \"algo-1\", \"Operation\": \"training\", \"epoch\": 54, \"Meta\": \"training_data_iter\"}, \"Metrics\": {\"Total Records Seen\": {\"sum\": 5810925.0, \"count\": 1, \"min\": 5810925, \"max\": 5810925}, \"Total Batches Seen\": {\"sum\": 5831.0, \"count\": 1, \"min\": 5831, \"max\": 5831}, \"Max Records Seen Between Resets\": {\"sum\": 105635.0, \"count\": 1, \"min\": 105635, \"max\": 105635}, \"Max Batches Seen Between Resets\": {\"sum\": 106.0, \"count\": 1, \"min\": 106, \"max\": 106}, \"Reset Count\": {\"sum\": 56.0, \"count\": 1, \"min\": 56, \"max\": 56}, \"Number of Records Since Last Reset\": {\"sum\": 105635.0, \"count\": 1, \"min\": 105635, \"max\": 105635}, \"Number of Batches Since Last Reset\": {\"sum\": 106.0, \"count\": 1, \"min\": 106, \"max\": 106}}}\u001b[0m\n",
      "\u001b[34m[11/16/2021 06:57:24 INFO 140589165307712] #throughput_metric: host=algo-1, train throughput=53955.81573066109 records/second\u001b[0m\n",
      "\u001b[34m[11/16/2021 06:57:24 INFO 140589165307712] #quality_metric: host=algo-1, epoch=55, batch=0 train rmse <loss>=0.37645773795579884\u001b[0m\n",
      "\u001b[34m[11/16/2021 06:57:24 INFO 140589165307712] #quality_metric: host=algo-1, epoch=55, batch=0 train mse <loss>=0.1417204284667969\u001b[0m\n",
      "\u001b[34m[11/16/2021 06:57:24 INFO 140589165307712] #quality_metric: host=algo-1, epoch=55, batch=0 train absolute_loss <loss>=0.2144061737060547\u001b[0m\n",
      "\u001b[34m[2021-11-16 06:57:26.373] [tensorio] [info] epoch_stats={\"data_pipeline\": \"/opt/ml/input/data/train\", \"epoch\": 112, \"duration\": 1876, \"num_examples\": 106, \"num_bytes\": 13773364}\u001b[0m\n",
      "\u001b[34m[11/16/2021 06:57:26 INFO 140589165307712] #quality_metric: host=algo-1, epoch=55, train rmse <loss>=0.3712157888021757\u001b[0m\n",
      "\u001b[34m[11/16/2021 06:57:26 INFO 140589165307712] #quality_metric: host=algo-1, epoch=55, train mse <loss>=0.1378011618560215\u001b[0m\n",
      "\u001b[34m[11/16/2021 06:57:26 INFO 140589165307712] #quality_metric: host=algo-1, epoch=55, train absolute_loss <loss>=0.20822464147603736\u001b[0m\n",
      "\u001b[34m#metrics {\"StartTime\": 1637045844.4934156, \"EndTime\": 1637045846.3739493, \"Dimensions\": {\"Algorithm\": \"factorization-machines\", \"Host\": \"algo-1\", \"Operation\": \"training\"}, \"Metrics\": {\"update.time\": {\"sum\": 1879.1544437408447, \"count\": 1, \"min\": 1879.1544437408447, \"max\": 1879.1544437408447}}}\u001b[0m\n",
      "\u001b[34m[11/16/2021 06:57:26 INFO 140589165307712] #progress_metric: host=algo-1, completed 67.46987951807229 % of epochs\u001b[0m\n",
      "\u001b[34m#metrics {\"StartTime\": 1637045844.4947605, \"EndTime\": 1637045846.3741903, \"Dimensions\": {\"Algorithm\": \"factorization-machines\", \"Host\": \"algo-1\", \"Operation\": \"training\", \"epoch\": 55, \"Meta\": \"training_data_iter\"}, \"Metrics\": {\"Total Records Seen\": {\"sum\": 5916560.0, \"count\": 1, \"min\": 5916560, \"max\": 5916560}, \"Total Batches Seen\": {\"sum\": 5937.0, \"count\": 1, \"min\": 5937, \"max\": 5937}, \"Max Records Seen Between Resets\": {\"sum\": 105635.0, \"count\": 1, \"min\": 105635, \"max\": 105635}, \"Max Batches Seen Between Resets\": {\"sum\": 106.0, \"count\": 1, \"min\": 106, \"max\": 106}, \"Reset Count\": {\"sum\": 57.0, \"count\": 1, \"min\": 57, \"max\": 57}, \"Number of Records Since Last Reset\": {\"sum\": 105635.0, \"count\": 1, \"min\": 105635, \"max\": 105635}, \"Number of Batches Since Last Reset\": {\"sum\": 106.0, \"count\": 1, \"min\": 106, \"max\": 106}}}\u001b[0m\n",
      "\u001b[34m[11/16/2021 06:57:26 INFO 140589165307712] #throughput_metric: host=algo-1, train throughput=56202.02640471672 records/second\u001b[0m\n",
      "\u001b[34m[11/16/2021 06:57:26 INFO 140589165307712] #quality_metric: host=algo-1, epoch=56, batch=0 train rmse <loss>=0.363948018816411\u001b[0m\n",
      "\u001b[34m[11/16/2021 06:57:26 INFO 140589165307712] #quality_metric: host=algo-1, epoch=56, batch=0 train mse <loss>=0.13245816040039063\u001b[0m\n",
      "\u001b[34m[11/16/2021 06:57:26 INFO 140589165307712] #quality_metric: host=algo-1, epoch=56, batch=0 train absolute_loss <loss>=0.20569712829589842\u001b[0m\n",
      "\u001b[34m[2021-11-16 06:57:28.282] [tensorio] [info] epoch_stats={\"data_pipeline\": \"/opt/ml/input/data/train\", \"epoch\": 114, \"duration\": 1904, \"num_examples\": 106, \"num_bytes\": 13773364}\u001b[0m\n",
      "\u001b[34m[11/16/2021 06:57:28 INFO 140589165307712] #quality_metric: host=algo-1, epoch=56, train rmse <loss>=0.3591959086697512\u001b[0m\n",
      "\u001b[34m[11/16/2021 06:57:28 INFO 140589165307712] #quality_metric: host=algo-1, epoch=56, train mse <loss>=0.12902170080508826\u001b[0m\n",
      "\u001b[34m[11/16/2021 06:57:28 INFO 140589165307712] #quality_metric: host=algo-1, epoch=56, train absolute_loss <loss>=0.20014085416973762\u001b[0m\n",
      "\u001b[34m#metrics {\"StartTime\": 1637045846.3740287, \"EndTime\": 1637045848.282637, \"Dimensions\": {\"Algorithm\": \"factorization-machines\", \"Host\": \"algo-1\", \"Operation\": \"training\"}, \"Metrics\": {\"update.time\": {\"sum\": 1907.196044921875, \"count\": 1, \"min\": 1907.196044921875, \"max\": 1907.196044921875}}}\u001b[0m\n",
      "\u001b[34m[11/16/2021 06:57:28 INFO 140589165307712] #progress_metric: host=algo-1, completed 68.67469879518072 % of epochs\u001b[0m\n",
      "\u001b[34m#metrics {\"StartTime\": 1637045846.3754103, \"EndTime\": 1637045848.2828805, \"Dimensions\": {\"Algorithm\": \"factorization-machines\", \"Host\": \"algo-1\", \"Operation\": \"training\", \"epoch\": 56, \"Meta\": \"training_data_iter\"}, \"Metrics\": {\"Total Records Seen\": {\"sum\": 6022195.0, \"count\": 1, \"min\": 6022195, \"max\": 6022195}, \"Total Batches Seen\": {\"sum\": 6043.0, \"count\": 1, \"min\": 6043, \"max\": 6043}, \"Max Records Seen Between Resets\": {\"sum\": 105635.0, \"count\": 1, \"min\": 105635, \"max\": 105635}, \"Max Batches Seen Between Resets\": {\"sum\": 106.0, \"count\": 1, \"min\": 106, \"max\": 106}, \"Reset Count\": {\"sum\": 58.0, \"count\": 1, \"min\": 58, \"max\": 58}, \"Number of Records Since Last Reset\": {\"sum\": 105635.0, \"count\": 1, \"min\": 105635, \"max\": 105635}, \"Number of Batches Since Last Reset\": {\"sum\": 106.0, \"count\": 1, \"min\": 106, \"max\": 106}}}\u001b[0m\n",
      "\u001b[34m[11/16/2021 06:57:28 INFO 140589165307712] #throughput_metric: host=algo-1, train throughput=55376.17163833066 records/second\u001b[0m\n",
      "\u001b[34m[11/16/2021 06:57:28 INFO 140589165307712] #quality_metric: host=algo-1, epoch=57, batch=0 train rmse <loss>=0.3518638790670191\u001b[0m\n",
      "\u001b[34m[11/16/2021 06:57:28 INFO 140589165307712] #quality_metric: host=algo-1, epoch=57, batch=0 train mse <loss>=0.12380818939208985\u001b[0m\n",
      "\u001b[34m[11/16/2021 06:57:28 INFO 140589165307712] #quality_metric: host=algo-1, epoch=57, batch=0 train absolute_loss <loss>=0.19705908203125\u001b[0m\n"
     ]
    },
    {
     "name": "stdout",
     "output_type": "stream",
     "text": [
      "\u001b[34m[2021-11-16 06:57:30.129] [tensorio] [info] epoch_stats={\"data_pipeline\": \"/opt/ml/input/data/train\", \"epoch\": 116, \"duration\": 1843, \"num_examples\": 106, \"num_bytes\": 13773364}\u001b[0m\n",
      "\u001b[34m[11/16/2021 06:57:30 INFO 140589165307712] #quality_metric: host=algo-1, epoch=57, train rmse <loss>=0.3475708386310215\u001b[0m\n",
      "\u001b[34m[11/16/2021 06:57:30 INFO 140589165307712] #quality_metric: host=algo-1, epoch=57, train mse <loss>=0.12080548786667158\u001b[0m\n",
      "\u001b[34m[11/16/2021 06:57:30 INFO 140589165307712] #quality_metric: host=algo-1, epoch=57, train absolute_loss <loss>=0.1922812268239147\u001b[0m\n",
      "\u001b[34m#metrics {\"StartTime\": 1637045848.2827122, \"EndTime\": 1637045850.1306102, \"Dimensions\": {\"Algorithm\": \"factorization-machines\", \"Host\": \"algo-1\", \"Operation\": \"training\"}, \"Metrics\": {\"update.time\": {\"sum\": 1846.468210220337, \"count\": 1, \"min\": 1846.468210220337, \"max\": 1846.468210220337}}}\u001b[0m\n",
      "\u001b[34m[11/16/2021 06:57:30 INFO 140589165307712] #progress_metric: host=algo-1, completed 69.87951807228916 % of epochs\u001b[0m\n",
      "\u001b[34m#metrics {\"StartTime\": 1637045848.2841156, \"EndTime\": 1637045850.131029, \"Dimensions\": {\"Algorithm\": \"factorization-machines\", \"Host\": \"algo-1\", \"Operation\": \"training\", \"epoch\": 57, \"Meta\": \"training_data_iter\"}, \"Metrics\": {\"Total Records Seen\": {\"sum\": 6127830.0, \"count\": 1, \"min\": 6127830, \"max\": 6127830}, \"Total Batches Seen\": {\"sum\": 6149.0, \"count\": 1, \"min\": 6149, \"max\": 6149}, \"Max Records Seen Between Resets\": {\"sum\": 105635.0, \"count\": 1, \"min\": 105635, \"max\": 105635}, \"Max Batches Seen Between Resets\": {\"sum\": 106.0, \"count\": 1, \"min\": 106, \"max\": 106}, \"Reset Count\": {\"sum\": 59.0, \"count\": 1, \"min\": 59, \"max\": 59}, \"Number of Records Since Last Reset\": {\"sum\": 105635.0, \"count\": 1, \"min\": 105635, \"max\": 105635}, \"Number of Batches Since Last Reset\": {\"sum\": 106.0, \"count\": 1, \"min\": 106, \"max\": 106}}}\u001b[0m\n",
      "\u001b[34m[11/16/2021 06:57:30 INFO 140589165307712] #throughput_metric: host=algo-1, train throughput=57188.22336828486 records/second\u001b[0m\n",
      "\u001b[34m[11/16/2021 06:57:30 INFO 140589165307712] #quality_metric: host=algo-1, epoch=58, batch=0 train rmse <loss>=0.3402011074615519\u001b[0m\n",
      "\u001b[34m[11/16/2021 06:57:30 INFO 140589165307712] #quality_metric: host=algo-1, epoch=58, batch=0 train mse <loss>=0.1157367935180664\u001b[0m\n",
      "\u001b[34m[11/16/2021 06:57:30 INFO 140589165307712] #quality_metric: host=algo-1, epoch=58, batch=0 train absolute_loss <loss>=0.18858966064453125\u001b[0m\n",
      "\u001b[34m[2021-11-16 06:57:31.986] [tensorio] [info] epoch_stats={\"data_pipeline\": \"/opt/ml/input/data/train\", \"epoch\": 118, \"duration\": 1851, \"num_examples\": 106, \"num_bytes\": 13773364}\u001b[0m\n",
      "\u001b[34m[11/16/2021 06:57:31 INFO 140589165307712] #quality_metric: host=algo-1, epoch=58, train rmse <loss>=0.336337748281952\u001b[0m\n",
      "\u001b[34m[11/16/2021 06:57:31 INFO 140589165307712] #quality_metric: host=algo-1, epoch=58, train mse <loss>=0.11312308091937372\u001b[0m\n",
      "\u001b[34m[11/16/2021 06:57:31 INFO 140589165307712] #quality_metric: host=algo-1, epoch=58, train absolute_loss <loss>=0.1846535250105948\u001b[0m\n",
      "\u001b[34m#metrics {\"StartTime\": 1637045850.13072, \"EndTime\": 1637045851.9869006, \"Dimensions\": {\"Algorithm\": \"factorization-machines\", \"Host\": \"algo-1\", \"Operation\": \"training\"}, \"Metrics\": {\"update.time\": {\"sum\": 1854.4301986694336, \"count\": 1, \"min\": 1854.4301986694336, \"max\": 1854.4301986694336}}}\u001b[0m\n",
      "\u001b[34m[11/16/2021 06:57:31 INFO 140589165307712] #progress_metric: host=algo-1, completed 71.08433734939759 % of epochs\u001b[0m\n",
      "\u001b[34m#metrics {\"StartTime\": 1637045850.1324399, \"EndTime\": 1637045851.987153, \"Dimensions\": {\"Algorithm\": \"factorization-machines\", \"Host\": \"algo-1\", \"Operation\": \"training\", \"epoch\": 58, \"Meta\": \"training_data_iter\"}, \"Metrics\": {\"Total Records Seen\": {\"sum\": 6233465.0, \"count\": 1, \"min\": 6233465, \"max\": 6233465}, \"Total Batches Seen\": {\"sum\": 6255.0, \"count\": 1, \"min\": 6255, \"max\": 6255}, \"Max Records Seen Between Resets\": {\"sum\": 105635.0, \"count\": 1, \"min\": 105635, \"max\": 105635}, \"Max Batches Seen Between Resets\": {\"sum\": 106.0, \"count\": 1, \"min\": 106, \"max\": 106}, \"Reset Count\": {\"sum\": 60.0, \"count\": 1, \"min\": 60, \"max\": 60}, \"Number of Records Since Last Reset\": {\"sum\": 105635.0, \"count\": 1, \"min\": 105635, \"max\": 105635}, \"Number of Batches Since Last Reset\": {\"sum\": 106.0, \"count\": 1, \"min\": 106, \"max\": 106}}}\u001b[0m\n",
      "\u001b[34m[11/16/2021 06:57:31 INFO 140589165307712] #throughput_metric: host=algo-1, train throughput=56951.10511148882 records/second\u001b[0m\n",
      "\u001b[34m[11/16/2021 06:57:32 INFO 140589165307712] #quality_metric: host=algo-1, epoch=59, batch=0 train rmse <loss>=0.32895521365798935\u001b[0m\n",
      "\u001b[34m[11/16/2021 06:57:32 INFO 140589165307712] #quality_metric: host=algo-1, epoch=59, batch=0 train mse <loss>=0.10821153259277344\u001b[0m\n",
      "\u001b[34m[11/16/2021 06:57:32 INFO 140589165307712] #quality_metric: host=algo-1, epoch=59, batch=0 train absolute_loss <loss>=0.18032220458984374\u001b[0m\n",
      "\u001b[34m[2021-11-16 06:57:34.015] [tensorio] [info] epoch_stats={\"data_pipeline\": \"/opt/ml/input/data/train\", \"epoch\": 120, \"duration\": 2025, \"num_examples\": 106, \"num_bytes\": 13773364}\u001b[0m\n",
      "\u001b[34m[11/16/2021 06:57:34 INFO 140589165307712] #quality_metric: host=algo-1, epoch=59, train rmse <loss>=0.3254933061277672\u001b[0m\n",
      "\u001b[34m[11/16/2021 06:57:34 INFO 140589165307712] #quality_metric: host=algo-1, epoch=59, train mse <loss>=0.10594589233398438\u001b[0m\n",
      "\u001b[34m[11/16/2021 06:57:34 INFO 140589165307712] #quality_metric: host=algo-1, epoch=59, train absolute_loss <loss>=0.17727664875534346\u001b[0m\n",
      "\u001b[34m#metrics {\"StartTime\": 1637045851.986987, \"EndTime\": 1637045854.0166173, \"Dimensions\": {\"Algorithm\": \"factorization-machines\", \"Host\": \"algo-1\", \"Operation\": \"training\"}, \"Metrics\": {\"update.time\": {\"sum\": 2028.1836986541748, \"count\": 1, \"min\": 2028.1836986541748, \"max\": 2028.1836986541748}}}\u001b[0m\n",
      "\u001b[34m[11/16/2021 06:57:34 INFO 140589165307712] #progress_metric: host=algo-1, completed 72.28915662650603 % of epochs\u001b[0m\n",
      "\u001b[34m#metrics {\"StartTime\": 1637045851.988399, \"EndTime\": 1637045854.0168986, \"Dimensions\": {\"Algorithm\": \"factorization-machines\", \"Host\": \"algo-1\", \"Operation\": \"training\", \"epoch\": 59, \"Meta\": \"training_data_iter\"}, \"Metrics\": {\"Total Records Seen\": {\"sum\": 6339100.0, \"count\": 1, \"min\": 6339100, \"max\": 6339100}, \"Total Batches Seen\": {\"sum\": 6361.0, \"count\": 1, \"min\": 6361, \"max\": 6361}, \"Max Records Seen Between Resets\": {\"sum\": 105635.0, \"count\": 1, \"min\": 105635, \"max\": 105635}, \"Max Batches Seen Between Resets\": {\"sum\": 106.0, \"count\": 1, \"min\": 106, \"max\": 106}, \"Reset Count\": {\"sum\": 61.0, \"count\": 1, \"min\": 61, \"max\": 61}, \"Number of Records Since Last Reset\": {\"sum\": 105635.0, \"count\": 1, \"min\": 105635, \"max\": 105635}, \"Number of Batches Since Last Reset\": {\"sum\": 106.0, \"count\": 1, \"min\": 106, \"max\": 106}}}\u001b[0m\n",
      "\u001b[34m[11/16/2021 06:57:34 INFO 140589165307712] #throughput_metric: host=algo-1, train throughput=52072.20386918193 records/second\u001b[0m\n",
      "\u001b[34m[11/16/2021 06:57:34 INFO 140589165307712] #quality_metric: host=algo-1, epoch=60, batch=0 train rmse <loss>=0.31812143619841987\u001b[0m\n",
      "\u001b[34m[11/16/2021 06:57:34 INFO 140589165307712] #quality_metric: host=algo-1, epoch=60, batch=0 train mse <loss>=0.10120124816894531\u001b[0m\n",
      "\u001b[34m[11/16/2021 06:57:34 INFO 140589165307712] #quality_metric: host=algo-1, epoch=60, batch=0 train absolute_loss <loss>=0.17226547241210938\u001b[0m\n",
      "\u001b[34m[2021-11-16 06:57:35.937] [tensorio] [info] epoch_stats={\"data_pipeline\": \"/opt/ml/input/data/train\", \"epoch\": 122, \"duration\": 1917, \"num_examples\": 106, \"num_bytes\": 13773364}\u001b[0m\n",
      "\u001b[34m[11/16/2021 06:57:35 INFO 140589165307712] #quality_metric: host=algo-1, epoch=60, train rmse <loss>=0.31503380079136495\u001b[0m\n",
      "\u001b[34m[11/16/2021 06:57:35 INFO 140589165307712] #quality_metric: host=algo-1, epoch=60, train mse <loss>=0.0992462956410534\u001b[0m\n",
      "\u001b[34m[11/16/2021 06:57:35 INFO 140589165307712] #quality_metric: host=algo-1, epoch=60, train absolute_loss <loss>=0.1701656540204894\u001b[0m\n",
      "\u001b[34m#metrics {\"StartTime\": 1637045854.0167112, \"EndTime\": 1637045855.938507, \"Dimensions\": {\"Algorithm\": \"factorization-machines\", \"Host\": \"algo-1\", \"Operation\": \"training\"}, \"Metrics\": {\"update.time\": {\"sum\": 1920.3555583953857, \"count\": 1, \"min\": 1920.3555583953857, \"max\": 1920.3555583953857}}}\u001b[0m\n",
      "\u001b[34m[11/16/2021 06:57:35 INFO 140589165307712] #progress_metric: host=algo-1, completed 73.49397590361446 % of epochs\u001b[0m\n",
      "\u001b[34m#metrics {\"StartTime\": 1637045854.018122, \"EndTime\": 1637045855.9387577, \"Dimensions\": {\"Algorithm\": \"factorization-machines\", \"Host\": \"algo-1\", \"Operation\": \"training\", \"epoch\": 60, \"Meta\": \"training_data_iter\"}, \"Metrics\": {\"Total Records Seen\": {\"sum\": 6444735.0, \"count\": 1, \"min\": 6444735, \"max\": 6444735}, \"Total Batches Seen\": {\"sum\": 6467.0, \"count\": 1, \"min\": 6467, \"max\": 6467}, \"Max Records Seen Between Resets\": {\"sum\": 105635.0, \"count\": 1, \"min\": 105635, \"max\": 105635}, \"Max Batches Seen Between Resets\": {\"sum\": 106.0, \"count\": 1, \"min\": 106, \"max\": 106}, \"Reset Count\": {\"sum\": 62.0, \"count\": 1, \"min\": 62, \"max\": 62}, \"Number of Records Since Last Reset\": {\"sum\": 105635.0, \"count\": 1, \"min\": 105635, \"max\": 105635}, \"Number of Batches Since Last Reset\": {\"sum\": 106.0, \"count\": 1, \"min\": 106, \"max\": 106}}}\u001b[0m\n",
      "\u001b[34m[11/16/2021 06:57:35 INFO 140589165307712] #throughput_metric: host=algo-1, train throughput=54996.41434522082 records/second\u001b[0m\n",
      "\u001b[34m[11/16/2021 06:57:35 INFO 140589165307712] #quality_metric: host=algo-1, epoch=61, batch=0 train rmse <loss>=0.3076938272585393\u001b[0m\n",
      "\u001b[34m[11/16/2021 06:57:35 INFO 140589165307712] #quality_metric: host=algo-1, epoch=61, batch=0 train mse <loss>=0.09467549133300782\u001b[0m\n",
      "\u001b[34m[11/16/2021 06:57:35 INFO 140589165307712] #quality_metric: host=algo-1, epoch=61, batch=0 train absolute_loss <loss>=0.1644486846923828\u001b[0m\n",
      "\u001b[34m[2021-11-16 06:57:37.857] [tensorio] [info] epoch_stats={\"data_pipeline\": \"/opt/ml/input/data/train\", \"epoch\": 124, \"duration\": 1915, \"num_examples\": 106, \"num_bytes\": 13773364}\u001b[0m\n",
      "\u001b[34m[11/16/2021 06:57:37 INFO 140589165307712] #quality_metric: host=algo-1, epoch=61, train rmse <loss>=0.30495521787733404\u001b[0m\n",
      "\u001b[34m[11/16/2021 06:57:37 INFO 140589165307712] #quality_metric: host=algo-1, epoch=61, train mse <loss>=0.09299768491061229\u001b[0m\n",
      "\u001b[34m[11/16/2021 06:57:37 INFO 140589165307712] #quality_metric: host=algo-1, epoch=61, train absolute_loss <loss>=0.1633310686507315\u001b[0m\n",
      "\u001b[34m#metrics {\"StartTime\": 1637045855.9385881, \"EndTime\": 1637045857.8584375, \"Dimensions\": {\"Algorithm\": \"factorization-machines\", \"Host\": \"algo-1\", \"Operation\": \"training\"}, \"Metrics\": {\"update.time\": {\"sum\": 1918.3623790740967, \"count\": 1, \"min\": 1918.3623790740967, \"max\": 1918.3623790740967}}}\u001b[0m\n",
      "\u001b[34m[11/16/2021 06:57:37 INFO 140589165307712] #progress_metric: host=algo-1, completed 74.6987951807229 % of epochs\u001b[0m\n",
      "\u001b[34m#metrics {\"StartTime\": 1637045855.939992, \"EndTime\": 1637045857.8587258, \"Dimensions\": {\"Algorithm\": \"factorization-machines\", \"Host\": \"algo-1\", \"Operation\": \"training\", \"epoch\": 61, \"Meta\": \"training_data_iter\"}, \"Metrics\": {\"Total Records Seen\": {\"sum\": 6550370.0, \"count\": 1, \"min\": 6550370, \"max\": 6550370}, \"Total Batches Seen\": {\"sum\": 6573.0, \"count\": 1, \"min\": 6573, \"max\": 6573}, \"Max Records Seen Between Resets\": {\"sum\": 105635.0, \"count\": 1, \"min\": 105635, \"max\": 105635}, \"Max Batches Seen Between Resets\": {\"sum\": 106.0, \"count\": 1, \"min\": 106, \"max\": 106}, \"Reset Count\": {\"sum\": 63.0, \"count\": 1, \"min\": 63, \"max\": 63}, \"Number of Records Since Last Reset\": {\"sum\": 105635.0, \"count\": 1, \"min\": 105635, \"max\": 105635}, \"Number of Batches Since Last Reset\": {\"sum\": 106.0, \"count\": 1, \"min\": 106, \"max\": 106}}}\u001b[0m\n",
      "\u001b[34m[11/16/2021 06:57:37 INFO 140589165307712] #throughput_metric: host=algo-1, train throughput=55049.68564677326 records/second\u001b[0m\n",
      "\u001b[34m[11/16/2021 06:57:37 INFO 140589165307712] #quality_metric: host=algo-1, epoch=62, batch=0 train rmse <loss>=0.2976653490653215\u001b[0m\n",
      "\u001b[34m[11/16/2021 06:57:37 INFO 140589165307712] #quality_metric: host=algo-1, epoch=62, batch=0 train mse <loss>=0.08860466003417969\u001b[0m\n",
      "\u001b[34m[11/16/2021 06:57:37 INFO 140589165307712] #quality_metric: host=algo-1, epoch=62, batch=0 train absolute_loss <loss>=0.156930908203125\u001b[0m\n",
      "\u001b[34m[2021-11-16 06:57:39.738] [tensorio] [info] epoch_stats={\"data_pipeline\": \"/opt/ml/input/data/train\", \"epoch\": 126, \"duration\": 1876, \"num_examples\": 106, \"num_bytes\": 13773364}\u001b[0m\n",
      "\u001b[34m[11/16/2021 06:57:39 INFO 140589165307712] #quality_metric: host=algo-1, epoch=62, train rmse <loss>=0.2952533203735937\u001b[0m\n",
      "\u001b[34m[11/16/2021 06:57:39 INFO 140589165307712] #quality_metric: host=algo-1, epoch=62, train mse <loss>=0.08717452319163196\u001b[0m\n",
      "\u001b[34m[11/16/2021 06:57:39 INFO 140589165307712] #quality_metric: host=algo-1, epoch=62, train absolute_loss <loss>=0.15679181699932745\u001b[0m\n",
      "\u001b[34m#metrics {\"StartTime\": 1637045857.858519, \"EndTime\": 1637045859.7392137, \"Dimensions\": {\"Algorithm\": \"factorization-machines\", \"Host\": \"algo-1\", \"Operation\": \"training\"}, \"Metrics\": {\"update.time\": {\"sum\": 1879.3110847473145, \"count\": 1, \"min\": 1879.3110847473145, \"max\": 1879.3110847473145}}}\u001b[0m\n",
      "\u001b[34m[11/16/2021 06:57:39 INFO 140589165307712] #progress_metric: host=algo-1, completed 75.90361445783132 % of epochs\u001b[0m\n",
      "\u001b[34m#metrics {\"StartTime\": 1637045857.8598673, \"EndTime\": 1637045859.739521, \"Dimensions\": {\"Algorithm\": \"factorization-machines\", \"Host\": \"algo-1\", \"Operation\": \"training\", \"epoch\": 62, \"Meta\": \"training_data_iter\"}, \"Metrics\": {\"Total Records Seen\": {\"sum\": 6656005.0, \"count\": 1, \"min\": 6656005, \"max\": 6656005}, \"Total Batches Seen\": {\"sum\": 6679.0, \"count\": 1, \"min\": 6679, \"max\": 6679}, \"Max Records Seen Between Resets\": {\"sum\": 105635.0, \"count\": 1, \"min\": 105635, \"max\": 105635}, \"Max Batches Seen Between Resets\": {\"sum\": 106.0, \"count\": 1, \"min\": 106, \"max\": 106}, \"Reset Count\": {\"sum\": 64.0, \"count\": 1, \"min\": 64, \"max\": 64}, \"Number of Records Since Last Reset\": {\"sum\": 105635.0, \"count\": 1, \"min\": 105635, \"max\": 105635}, \"Number of Batches Since Last Reset\": {\"sum\": 106.0, \"count\": 1, \"min\": 106, \"max\": 106}}}\u001b[0m\n",
      "\u001b[34m[11/16/2021 06:57:39 INFO 140589165307712] #throughput_metric: host=algo-1, train throughput=56194.73425647378 records/second\u001b[0m\n",
      "\u001b[34m[11/16/2021 06:57:39 INFO 140589165307712] #quality_metric: host=algo-1, epoch=63, batch=0 train rmse <loss>=0.28802847679072086\u001b[0m\n",
      "\u001b[34m[11/16/2021 06:57:39 INFO 140589165307712] #quality_metric: host=algo-1, epoch=63, batch=0 train mse <loss>=0.08296040344238281\u001b[0m\n",
      "\u001b[34m[11/16/2021 06:57:39 INFO 140589165307712] #quality_metric: host=algo-1, epoch=63, batch=0 train absolute_loss <loss>=0.15006143188476562\u001b[0m\n"
     ]
    },
    {
     "name": "stdout",
     "output_type": "stream",
     "text": [
      "\u001b[34m[2021-11-16 06:57:41.598] [tensorio] [info] epoch_stats={\"data_pipeline\": \"/opt/ml/input/data/train\", \"epoch\": 128, \"duration\": 1855, \"num_examples\": 106, \"num_bytes\": 13773364}\u001b[0m\n",
      "\u001b[34m[11/16/2021 06:57:41 INFO 140589165307712] #quality_metric: host=algo-1, epoch=63, train rmse <loss>=0.28592368806313156\u001b[0m\n",
      "\u001b[34m[11/16/2021 06:57:41 INFO 140589165307712] #quality_metric: host=algo-1, epoch=63, train mse <loss>=0.08175235539562298\u001b[0m\n",
      "\u001b[34m[11/16/2021 06:57:41 INFO 140589165307712] #quality_metric: host=algo-1, epoch=63, train absolute_loss <loss>=0.15055321214783868\u001b[0m\n",
      "\u001b[34m#metrics {\"StartTime\": 1637045859.7393174, \"EndTime\": 1637045861.5994768, \"Dimensions\": {\"Algorithm\": \"factorization-machines\", \"Host\": \"algo-1\", \"Operation\": \"training\"}, \"Metrics\": {\"update.time\": {\"sum\": 1858.7276935577393, \"count\": 1, \"min\": 1858.7276935577393, \"max\": 1858.7276935577393}}}\u001b[0m\n",
      "\u001b[34m[11/16/2021 06:57:41 INFO 140589165307712] #progress_metric: host=algo-1, completed 77.10843373493977 % of epochs\u001b[0m\n",
      "\u001b[34m#metrics {\"StartTime\": 1637045859.74072, \"EndTime\": 1637045861.5997233, \"Dimensions\": {\"Algorithm\": \"factorization-machines\", \"Host\": \"algo-1\", \"Operation\": \"training\", \"epoch\": 63, \"Meta\": \"training_data_iter\"}, \"Metrics\": {\"Total Records Seen\": {\"sum\": 6761640.0, \"count\": 1, \"min\": 6761640, \"max\": 6761640}, \"Total Batches Seen\": {\"sum\": 6785.0, \"count\": 1, \"min\": 6785, \"max\": 6785}, \"Max Records Seen Between Resets\": {\"sum\": 105635.0, \"count\": 1, \"min\": 105635, \"max\": 105635}, \"Max Batches Seen Between Resets\": {\"sum\": 106.0, \"count\": 1, \"min\": 106, \"max\": 106}, \"Reset Count\": {\"sum\": 65.0, \"count\": 1, \"min\": 65, \"max\": 65}, \"Number of Records Since Last Reset\": {\"sum\": 105635.0, \"count\": 1, \"min\": 105635, \"max\": 105635}, \"Number of Batches Since Last Reset\": {\"sum\": 106.0, \"count\": 1, \"min\": 106, \"max\": 106}}}\u001b[0m\n",
      "\u001b[34m[11/16/2021 06:57:41 INFO 140589165307712] #throughput_metric: host=algo-1, train throughput=56819.61968526314 records/second\u001b[0m\n",
      "\u001b[34m[11/16/2021 06:57:41 INFO 140589165307712] #quality_metric: host=algo-1, epoch=64, batch=0 train rmse <loss>=0.27877588810471793\u001b[0m\n",
      "\u001b[34m[11/16/2021 06:57:41 INFO 140589165307712] #quality_metric: host=algo-1, epoch=64, batch=0 train mse <loss>=0.07771599578857422\u001b[0m\n",
      "\u001b[34m[11/16/2021 06:57:41 INFO 140589165307712] #quality_metric: host=algo-1, epoch=64, batch=0 train absolute_loss <loss>=0.14365499877929688\u001b[0m\n",
      "\u001b[34m[2021-11-16 06:57:43.560] [tensorio] [info] epoch_stats={\"data_pipeline\": \"/opt/ml/input/data/train\", \"epoch\": 130, \"duration\": 1957, \"num_examples\": 106, \"num_bytes\": 13773364}\u001b[0m\n",
      "\u001b[34m[11/16/2021 06:57:43 INFO 140589165307712] #quality_metric: host=algo-1, epoch=64, train rmse <loss>=0.276961818406048\u001b[0m\n",
      "\u001b[34m[11/16/2021 06:57:43 INFO 140589165307712] #quality_metric: host=algo-1, epoch=64, train mse <loss>=0.0767078488547847\u001b[0m\n",
      "\u001b[34m[11/16/2021 06:57:43 INFO 140589165307712] #quality_metric: host=algo-1, epoch=64, train absolute_loss <loss>=0.14461477682725438\u001b[0m\n",
      "\u001b[34m#metrics {\"StartTime\": 1637045861.5995607, \"EndTime\": 1637045863.561618, \"Dimensions\": {\"Algorithm\": \"factorization-machines\", \"Host\": \"algo-1\", \"Operation\": \"training\"}, \"Metrics\": {\"update.time\": {\"sum\": 1960.5684280395508, \"count\": 1, \"min\": 1960.5684280395508, \"max\": 1960.5684280395508}}}\u001b[0m\n",
      "\u001b[34m[11/16/2021 06:57:43 INFO 140589165307712] #progress_metric: host=algo-1, completed 78.3132530120482 % of epochs\u001b[0m\n",
      "\u001b[34m#metrics {\"StartTime\": 1637045861.6009095, \"EndTime\": 1637045863.5620313, \"Dimensions\": {\"Algorithm\": \"factorization-machines\", \"Host\": \"algo-1\", \"Operation\": \"training\", \"epoch\": 64, \"Meta\": \"training_data_iter\"}, \"Metrics\": {\"Total Records Seen\": {\"sum\": 6867275.0, \"count\": 1, \"min\": 6867275, \"max\": 6867275}, \"Total Batches Seen\": {\"sum\": 6891.0, \"count\": 1, \"min\": 6891, \"max\": 6891}, \"Max Records Seen Between Resets\": {\"sum\": 105635.0, \"count\": 1, \"min\": 105635, \"max\": 105635}, \"Max Batches Seen Between Resets\": {\"sum\": 106.0, \"count\": 1, \"min\": 106, \"max\": 106}, \"Reset Count\": {\"sum\": 66.0, \"count\": 1, \"min\": 66, \"max\": 66}, \"Number of Records Since Last Reset\": {\"sum\": 105635.0, \"count\": 1, \"min\": 105635, \"max\": 105635}, \"Number of Batches Since Last Reset\": {\"sum\": 106.0, \"count\": 1, \"min\": 106, \"max\": 106}}}\u001b[0m\n",
      "\u001b[34m[11/16/2021 06:57:43 INFO 140589165307712] #throughput_metric: host=algo-1, train throughput=53860.59128997161 records/second\u001b[0m\n",
      "\u001b[34m[11/16/2021 06:57:43 INFO 140589165307712] #quality_metric: host=algo-1, epoch=65, batch=0 train rmse <loss>=0.2698998413809119\u001b[0m\n",
      "\u001b[34m[11/16/2021 06:57:43 INFO 140589165307712] #quality_metric: host=algo-1, epoch=65, batch=0 train mse <loss>=0.0728459243774414\u001b[0m\n",
      "\u001b[34m[11/16/2021 06:57:43 INFO 140589165307712] #quality_metric: host=algo-1, epoch=65, batch=0 train absolute_loss <loss>=0.13764352416992187\u001b[0m\n",
      "\u001b[34m[2021-11-16 06:57:45.551] [tensorio] [info] epoch_stats={\"data_pipeline\": \"/opt/ml/input/data/train\", \"epoch\": 132, \"duration\": 1986, \"num_examples\": 106, \"num_bytes\": 13773364}\u001b[0m\n",
      "\u001b[34m[11/16/2021 06:57:45 INFO 140589165307712] #quality_metric: host=algo-1, epoch=65, train rmse <loss>=0.26836313025093417\u001b[0m\n",
      "\u001b[34m[11/16/2021 06:57:45 INFO 140589165307712] #quality_metric: host=algo-1, epoch=65, train mse <loss>=0.07201876967807985\u001b[0m\n",
      "\u001b[34m[11/16/2021 06:57:45 INFO 140589165307712] #quality_metric: host=algo-1, epoch=65, train absolute_loss <loss>=0.13894127755794886\u001b[0m\n",
      "\u001b[34m#metrics {\"StartTime\": 1637045863.5617101, \"EndTime\": 1637045865.5529296, \"Dimensions\": {\"Algorithm\": \"factorization-machines\", \"Host\": \"algo-1\", \"Operation\": \"training\"}, \"Metrics\": {\"update.time\": {\"sum\": 1989.5305633544922, \"count\": 1, \"min\": 1989.5305633544922, \"max\": 1989.5305633544922}}}\u001b[0m\n",
      "\u001b[34m[11/16/2021 06:57:45 INFO 140589165307712] #progress_metric: host=algo-1, completed 79.51807228915662 % of epochs\u001b[0m\n",
      "\u001b[34m#metrics {\"StartTime\": 1637045863.5632446, \"EndTime\": 1637045865.5534403, \"Dimensions\": {\"Algorithm\": \"factorization-machines\", \"Host\": \"algo-1\", \"Operation\": \"training\", \"epoch\": 65, \"Meta\": \"training_data_iter\"}, \"Metrics\": {\"Total Records Seen\": {\"sum\": 6972910.0, \"count\": 1, \"min\": 6972910, \"max\": 6972910}, \"Total Batches Seen\": {\"sum\": 6997.0, \"count\": 1, \"min\": 6997, \"max\": 6997}, \"Max Records Seen Between Resets\": {\"sum\": 105635.0, \"count\": 1, \"min\": 105635, \"max\": 105635}, \"Max Batches Seen Between Resets\": {\"sum\": 106.0, \"count\": 1, \"min\": 106, \"max\": 106}, \"Reset Count\": {\"sum\": 67.0, \"count\": 1, \"min\": 67, \"max\": 67}, \"Number of Records Since Last Reset\": {\"sum\": 105635.0, \"count\": 1, \"min\": 105635, \"max\": 105635}, \"Number of Batches Since Last Reset\": {\"sum\": 106.0, \"count\": 1, \"min\": 106, \"max\": 106}}}\u001b[0m\n",
      "\u001b[34m[11/16/2021 06:57:45 INFO 140589165307712] #throughput_metric: host=algo-1, train throughput=53073.92947694068 records/second\u001b[0m\n",
      "\u001b[34m[11/16/2021 06:57:45 INFO 140589165307712] #quality_metric: host=algo-1, epoch=66, batch=0 train rmse <loss>=0.26139218490347654\u001b[0m\n",
      "\u001b[34m[11/16/2021 06:57:45 INFO 140589165307712] #quality_metric: host=algo-1, epoch=66, batch=0 train mse <loss>=0.06832587432861328\u001b[0m\n",
      "\u001b[34m[11/16/2021 06:57:45 INFO 140589165307712] #quality_metric: host=algo-1, epoch=66, batch=0 train absolute_loss <loss>=0.13199273681640625\u001b[0m\n",
      "\u001b[34m[2021-11-16 06:57:47.602] [tensorio] [info] epoch_stats={\"data_pipeline\": \"/opt/ml/input/data/train\", \"epoch\": 134, \"duration\": 2046, \"num_examples\": 106, \"num_bytes\": 13773364}\u001b[0m\n",
      "\u001b[34m[11/16/2021 06:57:47 INFO 140589165307712] #quality_metric: host=algo-1, epoch=66, train rmse <loss>=0.2601230478549245\u001b[0m\n",
      "\u001b[34m[11/16/2021 06:57:47 INFO 140589165307712] #quality_metric: host=algo-1, epoch=66, train mse <loss>=0.06766400002533535\u001b[0m\n",
      "\u001b[34m[11/16/2021 06:57:47 INFO 140589165307712] #quality_metric: host=algo-1, epoch=66, train absolute_loss <loss>=0.13353882361358066\u001b[0m\n",
      "\u001b[34m#metrics {\"StartTime\": 1637045865.553017, \"EndTime\": 1637045867.6039577, \"Dimensions\": {\"Algorithm\": \"factorization-machines\", \"Host\": \"algo-1\", \"Operation\": \"training\"}, \"Metrics\": {\"update.time\": {\"sum\": 2049.29780960083, \"count\": 1, \"min\": 2049.29780960083, \"max\": 2049.29780960083}}}\u001b[0m\n",
      "\u001b[34m[11/16/2021 06:57:47 INFO 140589165307712] #progress_metric: host=algo-1, completed 80.72289156626506 % of epochs\u001b[0m\n",
      "\u001b[34m#metrics {\"StartTime\": 1637045865.5546272, \"EndTime\": 1637045867.6042795, \"Dimensions\": {\"Algorithm\": \"factorization-machines\", \"Host\": \"algo-1\", \"Operation\": \"training\", \"epoch\": 66, \"Meta\": \"training_data_iter\"}, \"Metrics\": {\"Total Records Seen\": {\"sum\": 7078545.0, \"count\": 1, \"min\": 7078545, \"max\": 7078545}, \"Total Batches Seen\": {\"sum\": 7103.0, \"count\": 1, \"min\": 7103, \"max\": 7103}, \"Max Records Seen Between Resets\": {\"sum\": 105635.0, \"count\": 1, \"min\": 105635, \"max\": 105635}, \"Max Batches Seen Between Resets\": {\"sum\": 106.0, \"count\": 1, \"min\": 106, \"max\": 106}, \"Reset Count\": {\"sum\": 68.0, \"count\": 1, \"min\": 68, \"max\": 68}, \"Number of Records Since Last Reset\": {\"sum\": 105635.0, \"count\": 1, \"min\": 105635, \"max\": 105635}, \"Number of Batches Since Last Reset\": {\"sum\": 106.0, \"count\": 1, \"min\": 106, \"max\": 106}}}\u001b[0m\n",
      "\u001b[34m[11/16/2021 06:57:47 INFO 140589165307712] #throughput_metric: host=algo-1, train throughput=51534.26809153231 records/second\u001b[0m\n",
      "\u001b[34m[11/16/2021 06:57:47 INFO 140589165307712] #quality_metric: host=algo-1, epoch=67, batch=0 train rmse <loss>=0.25324625760746694\u001b[0m\n",
      "\u001b[34m[11/16/2021 06:57:47 INFO 140589165307712] #quality_metric: host=algo-1, epoch=67, batch=0 train mse <loss>=0.0641336669921875\u001b[0m\n",
      "\u001b[34m[11/16/2021 06:57:47 INFO 140589165307712] #quality_metric: host=algo-1, epoch=67, batch=0 train absolute_loss <loss>=0.1266622085571289\u001b[0m\n",
      "\u001b[34m[2021-11-16 06:57:49.664] [tensorio] [info] epoch_stats={\"data_pipeline\": \"/opt/ml/input/data/train\", \"epoch\": 136, \"duration\": 2056, \"num_examples\": 106, \"num_bytes\": 13773364}\u001b[0m\n",
      "\u001b[34m[11/16/2021 06:57:49 INFO 140589165307712] #quality_metric: host=algo-1, epoch=67, train rmse <loss>=0.2522368847941948\u001b[0m\n",
      "\u001b[34m[11/16/2021 06:57:49 INFO 140589165307712] #quality_metric: host=algo-1, epoch=67, train mse <loss>=0.0636234460506799\u001b[0m\n",
      "\u001b[34m[11/16/2021 06:57:49 INFO 140589165307712] #quality_metric: host=algo-1, epoch=67, train absolute_loss <loss>=0.12840203670285782\u001b[0m\n",
      "\u001b[34m#metrics {\"StartTime\": 1637045867.6040514, \"EndTime\": 1637045869.6649394, \"Dimensions\": {\"Algorithm\": \"factorization-machines\", \"Host\": \"algo-1\", \"Operation\": \"training\"}, \"Metrics\": {\"update.time\": {\"sum\": 2059.495210647583, \"count\": 1, \"min\": 2059.495210647583, \"max\": 2059.495210647583}}}\u001b[0m\n",
      "\u001b[34m[11/16/2021 06:57:49 INFO 140589165307712] #progress_metric: host=algo-1, completed 81.92771084337349 % of epochs\u001b[0m\n",
      "\u001b[34m#metrics {\"StartTime\": 1637045867.6054077, \"EndTime\": 1637045869.6652405, \"Dimensions\": {\"Algorithm\": \"factorization-machines\", \"Host\": \"algo-1\", \"Operation\": \"training\", \"epoch\": 67, \"Meta\": \"training_data_iter\"}, \"Metrics\": {\"Total Records Seen\": {\"sum\": 7184180.0, \"count\": 1, \"min\": 7184180, \"max\": 7184180}, \"Total Batches Seen\": {\"sum\": 7209.0, \"count\": 1, \"min\": 7209, \"max\": 7209}, \"Max Records Seen Between Resets\": {\"sum\": 105635.0, \"count\": 1, \"min\": 105635, \"max\": 105635}, \"Max Batches Seen Between Resets\": {\"sum\": 106.0, \"count\": 1, \"min\": 106, \"max\": 106}, \"Reset Count\": {\"sum\": 69.0, \"count\": 1, \"min\": 69, \"max\": 69}, \"Number of Records Since Last Reset\": {\"sum\": 105635.0, \"count\": 1, \"min\": 105635, \"max\": 105635}, \"Number of Batches Since Last Reset\": {\"sum\": 106.0, \"count\": 1, \"min\": 106, \"max\": 106}}}\u001b[0m\n",
      "\u001b[34m[11/16/2021 06:57:49 INFO 140589165307712] #throughput_metric: host=algo-1, train throughput=51279.643979598106 records/second\u001b[0m\n",
      "\u001b[34m[11/16/2021 06:57:49 INFO 140589165307712] #quality_metric: host=algo-1, epoch=68, batch=0 train rmse <loss>=0.24545641522706846\u001b[0m\n",
      "\u001b[34m[11/16/2021 06:57:49 INFO 140589165307712] #quality_metric: host=algo-1, epoch=68, batch=0 train mse <loss>=0.06024885177612305\u001b[0m\n",
      "\u001b[34m[11/16/2021 06:57:49 INFO 140589165307712] #quality_metric: host=algo-1, epoch=68, batch=0 train absolute_loss <loss>=0.12166493225097656\u001b[0m\n",
      "\u001b[34m[2021-11-16 06:57:51.516] [tensorio] [info] epoch_stats={\"data_pipeline\": \"/opt/ml/input/data/train\", \"epoch\": 138, \"duration\": 1848, \"num_examples\": 106, \"num_bytes\": 13773364}\u001b[0m\n",
      "\u001b[34m[11/16/2021 06:57:51 INFO 140589165307712] #quality_metric: host=algo-1, epoch=68, train rmse <loss>=0.24469979354151172\u001b[0m\n",
      "\u001b[34m[11/16/2021 06:57:51 INFO 140589165307712] #quality_metric: host=algo-1, epoch=68, train mse <loss>=0.05987798895925846\u001b[0m\n",
      "\u001b[34m[11/16/2021 06:57:51 INFO 140589165307712] #quality_metric: host=algo-1, epoch=68, train absolute_loss <loss>=0.1235160642659889\u001b[0m\n",
      "\u001b[34m#metrics {\"StartTime\": 1637045869.6650398, \"EndTime\": 1637045871.5173378, \"Dimensions\": {\"Algorithm\": \"factorization-machines\", \"Host\": \"algo-1\", \"Operation\": \"training\"}, \"Metrics\": {\"update.time\": {\"sum\": 1850.9135246276855, \"count\": 1, \"min\": 1850.9135246276855, \"max\": 1850.9135246276855}}}\u001b[0m\n",
      "\u001b[34m[11/16/2021 06:57:51 INFO 140589165307712] #progress_metric: host=algo-1, completed 83.13253012048193 % of epochs\u001b[0m\n",
      "\u001b[34m#metrics {\"StartTime\": 1637045869.6663954, \"EndTime\": 1637045871.5176363, \"Dimensions\": {\"Algorithm\": \"factorization-machines\", \"Host\": \"algo-1\", \"Operation\": \"training\", \"epoch\": 68, \"Meta\": \"training_data_iter\"}, \"Metrics\": {\"Total Records Seen\": {\"sum\": 7289815.0, \"count\": 1, \"min\": 7289815, \"max\": 7289815}, \"Total Batches Seen\": {\"sum\": 7315.0, \"count\": 1, \"min\": 7315, \"max\": 7315}, \"Max Records Seen Between Resets\": {\"sum\": 105635.0, \"count\": 1, \"min\": 105635, \"max\": 105635}, \"Max Batches Seen Between Resets\": {\"sum\": 106.0, \"count\": 1, \"min\": 106, \"max\": 106}, \"Reset Count\": {\"sum\": 70.0, \"count\": 1, \"min\": 70, \"max\": 70}, \"Number of Records Since Last Reset\": {\"sum\": 105635.0, \"count\": 1, \"min\": 105635, \"max\": 105635}, \"Number of Batches Since Last Reset\": {\"sum\": 106.0, \"count\": 1, \"min\": 106, \"max\": 106}}}\u001b[0m\n",
      "\u001b[34m[11/16/2021 06:57:51 INFO 140589165307712] #throughput_metric: host=algo-1, train throughput=57054.75303440191 records/second\u001b[0m\n",
      "\u001b[34m[11/16/2021 06:57:51 INFO 140589165307712] #quality_metric: host=algo-1, epoch=69, batch=0 train rmse <loss>=0.23801785679353532\u001b[0m\n",
      "\u001b[34m[11/16/2021 06:57:51 INFO 140589165307712] #quality_metric: host=algo-1, epoch=69, batch=0 train mse <loss>=0.05665250015258789\u001b[0m\n",
      "\u001b[34m[11/16/2021 06:57:51 INFO 140589165307712] #quality_metric: host=algo-1, epoch=69, batch=0 train absolute_loss <loss>=0.11700360870361329\u001b[0m\n"
     ]
    },
    {
     "name": "stdout",
     "output_type": "stream",
     "text": [
      "\u001b[34m[2021-11-16 06:57:53.472] [tensorio] [info] epoch_stats={\"data_pipeline\": \"/opt/ml/input/data/train\", \"epoch\": 140, \"duration\": 1951, \"num_examples\": 106, \"num_bytes\": 13773364}\u001b[0m\n",
      "\u001b[34m[11/16/2021 06:57:53 INFO 140589165307712] #quality_metric: host=algo-1, epoch=69, train rmse <loss>=0.23750686021914735\u001b[0m\n",
      "\u001b[34m[11/16/2021 06:57:53 INFO 140589165307712] #quality_metric: host=algo-1, epoch=69, train mse <loss>=0.0564095086511576\u001b[0m\n",
      "\u001b[34m[11/16/2021 06:57:53 INFO 140589165307712] #quality_metric: host=algo-1, epoch=69, train absolute_loss <loss>=0.11886215094800265\u001b[0m\n",
      "\u001b[34m#metrics {\"StartTime\": 1637045871.5174327, \"EndTime\": 1637045873.472996, \"Dimensions\": {\"Algorithm\": \"factorization-machines\", \"Host\": \"algo-1\", \"Operation\": \"training\"}, \"Metrics\": {\"update.time\": {\"sum\": 1954.0772438049316, \"count\": 1, \"min\": 1954.0772438049316, \"max\": 1954.0772438049316}}}\u001b[0m\n",
      "\u001b[34m[11/16/2021 06:57:53 INFO 140589165307712] #progress_metric: host=algo-1, completed 84.33734939759036 % of epochs\u001b[0m\n",
      "\u001b[34m#metrics {\"StartTime\": 1637045871.5188892, \"EndTime\": 1637045873.4732566, \"Dimensions\": {\"Algorithm\": \"factorization-machines\", \"Host\": \"algo-1\", \"Operation\": \"training\", \"epoch\": 69, \"Meta\": \"training_data_iter\"}, \"Metrics\": {\"Total Records Seen\": {\"sum\": 7395450.0, \"count\": 1, \"min\": 7395450, \"max\": 7395450}, \"Total Batches Seen\": {\"sum\": 7421.0, \"count\": 1, \"min\": 7421, \"max\": 7421}, \"Max Records Seen Between Resets\": {\"sum\": 105635.0, \"count\": 1, \"min\": 105635, \"max\": 105635}, \"Max Batches Seen Between Resets\": {\"sum\": 106.0, \"count\": 1, \"min\": 106, \"max\": 106}, \"Reset Count\": {\"sum\": 71.0, \"count\": 1, \"min\": 71, \"max\": 71}, \"Number of Records Since Last Reset\": {\"sum\": 105635.0, \"count\": 1, \"min\": 105635, \"max\": 105635}, \"Number of Batches Since Last Reset\": {\"sum\": 106.0, \"count\": 1, \"min\": 106, \"max\": 106}}}\u001b[0m\n",
      "\u001b[34m[11/16/2021 06:57:53 INFO 140589165307712] #throughput_metric: host=algo-1, train throughput=54047.32250114635 records/second\u001b[0m\n",
      "\u001b[34m[11/16/2021 06:57:53 INFO 140589165307712] #quality_metric: host=algo-1, epoch=70, batch=0 train rmse <loss>=0.23092557677588973\u001b[0m\n",
      "\u001b[34m[11/16/2021 06:57:53 INFO 140589165307712] #quality_metric: host=algo-1, epoch=70, batch=0 train mse <loss>=0.05332662200927735\u001b[0m\n",
      "\u001b[34m[11/16/2021 06:57:53 INFO 140589165307712] #quality_metric: host=algo-1, epoch=70, batch=0 train absolute_loss <loss>=0.11277615356445313\u001b[0m\n",
      "\u001b[34m[2021-11-16 06:57:55.440] [tensorio] [info] epoch_stats={\"data_pipeline\": \"/opt/ml/input/data/train\", \"epoch\": 142, \"duration\": 1964, \"num_examples\": 106, \"num_bytes\": 13773364}\u001b[0m\n",
      "\u001b[34m[11/16/2021 06:57:55 INFO 140589165307712] #quality_metric: host=algo-1, epoch=70, train rmse <loss>=0.2306532345293706\u001b[0m\n",
      "\u001b[34m[11/16/2021 06:57:55 INFO 140589165307712] #quality_metric: host=algo-1, epoch=70, train mse <loss>=0.05320091459886083\u001b[0m\n",
      "\u001b[34m[11/16/2021 06:57:55 INFO 140589165307712] #quality_metric: host=algo-1, epoch=70, train absolute_loss <loss>=0.11443023041059386\u001b[0m\n",
      "\u001b[34m#metrics {\"StartTime\": 1637045873.4730947, \"EndTime\": 1637045875.4411936, \"Dimensions\": {\"Algorithm\": \"factorization-machines\", \"Host\": \"algo-1\", \"Operation\": \"training\"}, \"Metrics\": {\"update.time\": {\"sum\": 1966.7253494262695, \"count\": 1, \"min\": 1966.7253494262695, \"max\": 1966.7253494262695}}}\u001b[0m\n",
      "\u001b[34m[11/16/2021 06:57:55 INFO 140589165307712] #progress_metric: host=algo-1, completed 85.5421686746988 % of epochs\u001b[0m\n",
      "\u001b[34m#metrics {\"StartTime\": 1637045873.4744391, \"EndTime\": 1637045875.441442, \"Dimensions\": {\"Algorithm\": \"factorization-machines\", \"Host\": \"algo-1\", \"Operation\": \"training\", \"epoch\": 70, \"Meta\": \"training_data_iter\"}, \"Metrics\": {\"Total Records Seen\": {\"sum\": 7501085.0, \"count\": 1, \"min\": 7501085, \"max\": 7501085}, \"Total Batches Seen\": {\"sum\": 7527.0, \"count\": 1, \"min\": 7527, \"max\": 7527}, \"Max Records Seen Between Resets\": {\"sum\": 105635.0, \"count\": 1, \"min\": 105635, \"max\": 105635}, \"Max Batches Seen Between Resets\": {\"sum\": 106.0, \"count\": 1, \"min\": 106, \"max\": 106}, \"Reset Count\": {\"sum\": 72.0, \"count\": 1, \"min\": 72, \"max\": 72}, \"Number of Records Since Last Reset\": {\"sum\": 105635.0, \"count\": 1, \"min\": 105635, \"max\": 105635}, \"Number of Batches Since Last Reset\": {\"sum\": 106.0, \"count\": 1, \"min\": 106, \"max\": 106}}}\u001b[0m\n",
      "\u001b[34m[11/16/2021 06:57:55 INFO 140589165307712] #throughput_metric: host=algo-1, train throughput=53700.15960292464 records/second\u001b[0m\n",
      "\u001b[34m[11/16/2021 06:57:55 INFO 140589165307712] #quality_metric: host=algo-1, epoch=71, batch=0 train rmse <loss>=0.2241756256846918\u001b[0m\n",
      "\u001b[34m[11/16/2021 06:57:55 INFO 140589165307712] #quality_metric: host=algo-1, epoch=71, batch=0 train mse <loss>=0.050254711151123045\u001b[0m\n",
      "\u001b[34m[11/16/2021 06:57:55 INFO 140589165307712] #quality_metric: host=algo-1, epoch=71, batch=0 train absolute_loss <loss>=0.1087933578491211\u001b[0m\n",
      "\u001b[34m[2021-11-16 06:57:57.293] [tensorio] [info] epoch_stats={\"data_pipeline\": \"/opt/ml/input/data/train\", \"epoch\": 144, \"duration\": 1848, \"num_examples\": 106, \"num_bytes\": 13773364}\u001b[0m\n",
      "\u001b[34m[11/16/2021 06:57:57 INFO 140589165307712] #quality_metric: host=algo-1, epoch=71, train rmse <loss>=0.22413424305711818\u001b[0m\n",
      "\u001b[34m[11/16/2021 06:57:57 INFO 140589165307712] #quality_metric: host=algo-1, epoch=71, train mse <loss>=0.05023615891078733\u001b[0m\n",
      "\u001b[34m[11/16/2021 06:57:57 INFO 140589165307712] #quality_metric: host=algo-1, epoch=71, train absolute_loss <loss>=0.11021725701386074\u001b[0m\n",
      "\u001b[34m#metrics {\"StartTime\": 1637045875.4412744, \"EndTime\": 1637045877.2937946, \"Dimensions\": {\"Algorithm\": \"factorization-machines\", \"Host\": \"algo-1\", \"Operation\": \"training\"}, \"Metrics\": {\"update.time\": {\"sum\": 1851.1059284210205, \"count\": 1, \"min\": 1851.1059284210205, \"max\": 1851.1059284210205}}}\u001b[0m\n",
      "\u001b[34m[11/16/2021 06:57:57 INFO 140589165307712] #progress_metric: host=algo-1, completed 86.74698795180723 % of epochs\u001b[0m\n",
      "\u001b[34m#metrics {\"StartTime\": 1637045875.44266, \"EndTime\": 1637045877.294037, \"Dimensions\": {\"Algorithm\": \"factorization-machines\", \"Host\": \"algo-1\", \"Operation\": \"training\", \"epoch\": 71, \"Meta\": \"training_data_iter\"}, \"Metrics\": {\"Total Records Seen\": {\"sum\": 7606720.0, \"count\": 1, \"min\": 7606720, \"max\": 7606720}, \"Total Batches Seen\": {\"sum\": 7633.0, \"count\": 1, \"min\": 7633, \"max\": 7633}, \"Max Records Seen Between Resets\": {\"sum\": 105635.0, \"count\": 1, \"min\": 105635, \"max\": 105635}, \"Max Batches Seen Between Resets\": {\"sum\": 106.0, \"count\": 1, \"min\": 106, \"max\": 106}, \"Reset Count\": {\"sum\": 73.0, \"count\": 1, \"min\": 73, \"max\": 73}, \"Number of Records Since Last Reset\": {\"sum\": 105635.0, \"count\": 1, \"min\": 105635, \"max\": 105635}, \"Number of Batches Since Last Reset\": {\"sum\": 106.0, \"count\": 1, \"min\": 106, \"max\": 106}}}\u001b[0m\n",
      "\u001b[34m[11/16/2021 06:57:57 INFO 140589165307712] #throughput_metric: host=algo-1, train throughput=57053.952211802505 records/second\u001b[0m\n",
      "\u001b[34m[11/16/2021 06:57:57 INFO 140589165307712] #quality_metric: host=algo-1, epoch=72, batch=0 train rmse <loss>=0.21776380303800313\u001b[0m\n",
      "\u001b[34m[11/16/2021 06:57:57 INFO 140589165307712] #quality_metric: host=algo-1, epoch=72, batch=0 train mse <loss>=0.04742107391357422\u001b[0m\n",
      "\u001b[34m[11/16/2021 06:57:57 INFO 140589165307712] #quality_metric: host=algo-1, epoch=72, batch=0 train absolute_loss <loss>=0.10509063720703125\u001b[0m\n",
      "\u001b[34m[2021-11-16 06:57:59.270] [tensorio] [info] epoch_stats={\"data_pipeline\": \"/opt/ml/input/data/train\", \"epoch\": 146, \"duration\": 1973, \"num_examples\": 106, \"num_bytes\": 13773364}\u001b[0m\n",
      "\u001b[34m[11/16/2021 06:57:59 INFO 140589165307712] #quality_metric: host=algo-1, epoch=72, train rmse <loss>=0.21794552180410123\u001b[0m\n",
      "\u001b[34m[11/16/2021 06:57:59 INFO 140589165307712] #quality_metric: host=algo-1, epoch=72, train mse <loss>=0.04750025047446197\u001b[0m\n",
      "\u001b[34m[11/16/2021 06:57:59 INFO 140589165307712] #quality_metric: host=algo-1, epoch=72, train absolute_loss <loss>=0.10620851754242519\u001b[0m\n",
      "\u001b[34m#metrics {\"StartTime\": 1637045877.293875, \"EndTime\": 1637045879.270886, \"Dimensions\": {\"Algorithm\": \"factorization-machines\", \"Host\": \"algo-1\", \"Operation\": \"training\"}, \"Metrics\": {\"update.time\": {\"sum\": 1975.66819190979, \"count\": 1, \"min\": 1975.66819190979, \"max\": 1975.66819190979}}}\u001b[0m\n",
      "\u001b[34m[11/16/2021 06:57:59 INFO 140589165307712] #progress_metric: host=algo-1, completed 87.95180722891567 % of epochs\u001b[0m\n",
      "\u001b[34m#metrics {\"StartTime\": 1637045877.2951896, \"EndTime\": 1637045879.271122, \"Dimensions\": {\"Algorithm\": \"factorization-machines\", \"Host\": \"algo-1\", \"Operation\": \"training\", \"epoch\": 72, \"Meta\": \"training_data_iter\"}, \"Metrics\": {\"Total Records Seen\": {\"sum\": 7712355.0, \"count\": 1, \"min\": 7712355, \"max\": 7712355}, \"Total Batches Seen\": {\"sum\": 7739.0, \"count\": 1, \"min\": 7739, \"max\": 7739}, \"Max Records Seen Between Resets\": {\"sum\": 105635.0, \"count\": 1, \"min\": 105635, \"max\": 105635}, \"Max Batches Seen Between Resets\": {\"sum\": 106.0, \"count\": 1, \"min\": 106, \"max\": 106}, \"Reset Count\": {\"sum\": 74.0, \"count\": 1, \"min\": 74, \"max\": 74}, \"Number of Records Since Last Reset\": {\"sum\": 105635.0, \"count\": 1, \"min\": 105635, \"max\": 105635}, \"Number of Batches Since Last Reset\": {\"sum\": 106.0, \"count\": 1, \"min\": 106, \"max\": 106}}}\u001b[0m\n",
      "\u001b[34m[11/16/2021 06:57:59 INFO 140589165307712] #throughput_metric: host=algo-1, train throughput=53457.69037694665 records/second\u001b[0m\n",
      "\u001b[34m[11/16/2021 06:57:59 INFO 140589165307712] #quality_metric: host=algo-1, epoch=73, batch=0 train rmse <loss>=0.2116872616257746\u001b[0m\n",
      "\u001b[34m[11/16/2021 06:57:59 INFO 140589165307712] #quality_metric: host=algo-1, epoch=73, batch=0 train mse <loss>=0.04481149673461914\u001b[0m\n",
      "\u001b[34m[11/16/2021 06:57:59 INFO 140589165307712] #quality_metric: host=algo-1, epoch=73, batch=0 train absolute_loss <loss>=0.10165206146240234\u001b[0m\n",
      "\u001b[34m[2021-11-16 06:58:01.125] [tensorio] [info] epoch_stats={\"data_pipeline\": \"/opt/ml/input/data/train\", \"epoch\": 148, \"duration\": 1851, \"num_examples\": 106, \"num_bytes\": 13773364}\u001b[0m\n",
      "\u001b[34m[11/16/2021 06:58:01 INFO 140589165307712] #quality_metric: host=algo-1, epoch=73, train rmse <loss>=0.21208319225203595\u001b[0m\n",
      "\u001b[34m[11/16/2021 06:58:01 INFO 140589165307712] #quality_metric: host=algo-1, epoch=73, train mse <loss>=0.04497928043581405\u001b[0m\n",
      "\u001b[34m[11/16/2021 06:58:01 INFO 140589165307712] #quality_metric: host=algo-1, epoch=73, train absolute_loss <loss>=0.10241414008950288\u001b[0m\n",
      "\u001b[34m#metrics {\"StartTime\": 1637045879.2709622, \"EndTime\": 1637045881.126774, \"Dimensions\": {\"Algorithm\": \"factorization-machines\", \"Host\": \"algo-1\", \"Operation\": \"training\"}, \"Metrics\": {\"update.time\": {\"sum\": 1854.3775081634521, \"count\": 1, \"min\": 1854.3775081634521, \"max\": 1854.3775081634521}}}\u001b[0m\n",
      "\u001b[34m[11/16/2021 06:58:01 INFO 140589165307712] #progress_metric: host=algo-1, completed 89.1566265060241 % of epochs\u001b[0m\n",
      "\u001b[34m#metrics {\"StartTime\": 1637045879.2723598, \"EndTime\": 1637045881.1270669, \"Dimensions\": {\"Algorithm\": \"factorization-machines\", \"Host\": \"algo-1\", \"Operation\": \"training\", \"epoch\": 73, \"Meta\": \"training_data_iter\"}, \"Metrics\": {\"Total Records Seen\": {\"sum\": 7817990.0, \"count\": 1, \"min\": 7817990, \"max\": 7817990}, \"Total Batches Seen\": {\"sum\": 7845.0, \"count\": 1, \"min\": 7845, \"max\": 7845}, \"Max Records Seen Between Resets\": {\"sum\": 105635.0, \"count\": 1, \"min\": 105635, \"max\": 105635}, \"Max Batches Seen Between Resets\": {\"sum\": 106.0, \"count\": 1, \"min\": 106, \"max\": 106}, \"Reset Count\": {\"sum\": 75.0, \"count\": 1, \"min\": 75, \"max\": 75}, \"Number of Records Since Last Reset\": {\"sum\": 105635.0, \"count\": 1, \"min\": 105635, \"max\": 105635}, \"Number of Batches Since Last Reset\": {\"sum\": 106.0, \"count\": 1, \"min\": 106, \"max\": 106}}}\u001b[0m\n",
      "\u001b[34m[11/16/2021 06:58:01 INFO 140589165307712] #throughput_metric: host=algo-1, train throughput=56949.87530586766 records/second\u001b[0m\n",
      "\u001b[34m[11/16/2021 06:58:01 INFO 140589165307712] #quality_metric: host=algo-1, epoch=74, batch=0 train rmse <loss>=0.20594367196033922\u001b[0m\n",
      "\u001b[34m[11/16/2021 06:58:01 INFO 140589165307712] #quality_metric: host=algo-1, epoch=74, batch=0 train mse <loss>=0.04241279602050781\u001b[0m\n",
      "\u001b[34m[11/16/2021 06:58:01 INFO 140589165307712] #quality_metric: host=algo-1, epoch=74, batch=0 train absolute_loss <loss>=0.09842839813232422\u001b[0m\n",
      "\u001b[34m[2021-11-16 06:58:03.244] [tensorio] [info] epoch_stats={\"data_pipeline\": \"/opt/ml/input/data/train\", \"epoch\": 150, \"duration\": 2114, \"num_examples\": 106, \"num_bytes\": 13773364}\u001b[0m\n",
      "\u001b[34m[11/16/2021 06:58:03 INFO 140589165307712] #quality_metric: host=algo-1, epoch=74, train rmse <loss>=0.20654433442582312\u001b[0m\n",
      "\u001b[34m[11/16/2021 06:58:03 INFO 140589165307712] #quality_metric: host=algo-1, epoch=74, train mse <loss>=0.04266056208340627\u001b[0m\n",
      "\u001b[34m[11/16/2021 06:58:03 INFO 140589165307712] #quality_metric: host=algo-1, epoch=74, train absolute_loss <loss>=0.09883047809240952\u001b[0m\n",
      "\u001b[34m#metrics {\"StartTime\": 1637045881.1268606, \"EndTime\": 1637045883.245415, \"Dimensions\": {\"Algorithm\": \"factorization-machines\", \"Host\": \"algo-1\", \"Operation\": \"training\"}, \"Metrics\": {\"update.time\": {\"sum\": 2117.1233654022217, \"count\": 1, \"min\": 2117.1233654022217, \"max\": 2117.1233654022217}}}\u001b[0m\n",
      "\u001b[34m[11/16/2021 06:58:03 INFO 140589165307712] #progress_metric: host=algo-1, completed 90.36144578313252 % of epochs\u001b[0m\n",
      "\u001b[34m#metrics {\"StartTime\": 1637045881.128262, \"EndTime\": 1637045883.24571, \"Dimensions\": {\"Algorithm\": \"factorization-machines\", \"Host\": \"algo-1\", \"Operation\": \"training\", \"epoch\": 74, \"Meta\": \"training_data_iter\"}, \"Metrics\": {\"Total Records Seen\": {\"sum\": 7923625.0, \"count\": 1, \"min\": 7923625, \"max\": 7923625}, \"Total Batches Seen\": {\"sum\": 7951.0, \"count\": 1, \"min\": 7951, \"max\": 7951}, \"Max Records Seen Between Resets\": {\"sum\": 105635.0, \"count\": 1, \"min\": 105635, \"max\": 105635}, \"Max Batches Seen Between Resets\": {\"sum\": 106.0, \"count\": 1, \"min\": 106, \"max\": 106}, \"Reset Count\": {\"sum\": 76.0, \"count\": 1, \"min\": 76, \"max\": 76}, \"Number of Records Since Last Reset\": {\"sum\": 105635.0, \"count\": 1, \"min\": 105635, \"max\": 105635}, \"Number of Batches Since Last Reset\": {\"sum\": 106.0, \"count\": 1, \"min\": 106, \"max\": 106}}}\u001b[0m\n",
      "\u001b[34m[11/16/2021 06:58:03 INFO 140589165307712] #throughput_metric: host=algo-1, train throughput=49884.35999355089 records/second\u001b[0m\n",
      "\u001b[34m[11/16/2021 06:58:03 INFO 140589165307712] #quality_metric: host=algo-1, epoch=75, batch=0 train rmse <loss>=0.20053113030752134\u001b[0m\n",
      "\u001b[34m[11/16/2021 06:58:03 INFO 140589165307712] #quality_metric: host=algo-1, epoch=75, batch=0 train mse <loss>=0.04021273422241211\u001b[0m\n",
      "\u001b[34m[11/16/2021 06:58:03 INFO 140589165307712] #quality_metric: host=algo-1, epoch=75, batch=0 train absolute_loss <loss>=0.09536026000976562\u001b[0m\n",
      "\u001b[34m[2021-11-16 06:58:05.371] [tensorio] [info] epoch_stats={\"data_pipeline\": \"/opt/ml/input/data/train\", \"epoch\": 152, \"duration\": 2122, \"num_examples\": 106, \"num_bytes\": 13773364}\u001b[0m\n",
      "\u001b[34m[11/16/2021 06:58:05 INFO 140589165307712] #quality_metric: host=algo-1, epoch=75, train rmse <loss>=0.20132763607822585\u001b[0m\n",
      "\u001b[34m[11/16/2021 06:58:05 INFO 140589165307712] #quality_metric: host=algo-1, epoch=75, train mse <loss>=0.04053281704884655\u001b[0m\n",
      "\u001b[34m[11/16/2021 06:58:05 INFO 140589165307712] #quality_metric: host=algo-1, epoch=75, train absolute_loss <loss>=0.09546983092685915\u001b[0m\n",
      "\u001b[34m#metrics {\"StartTime\": 1637045883.2454944, \"EndTime\": 1637045885.3724482, \"Dimensions\": {\"Algorithm\": \"factorization-machines\", \"Host\": \"algo-1\", \"Operation\": \"training\"}, \"Metrics\": {\"update.time\": {\"sum\": 2125.483989715576, \"count\": 1, \"min\": 2125.483989715576, \"max\": 2125.483989715576}}}\u001b[0m\n",
      "\u001b[34m[11/16/2021 06:58:05 INFO 140589165307712] #progress_metric: host=algo-1, completed 91.56626506024097 % of epochs\u001b[0m\n",
      "\u001b[34m#metrics {\"StartTime\": 1637045883.2469296, \"EndTime\": 1637045885.3727536, \"Dimensions\": {\"Algorithm\": \"factorization-machines\", \"Host\": \"algo-1\", \"Operation\": \"training\", \"epoch\": 75, \"Meta\": \"training_data_iter\"}, \"Metrics\": {\"Total Records Seen\": {\"sum\": 8029260.0, \"count\": 1, \"min\": 8029260, \"max\": 8029260}, \"Total Batches Seen\": {\"sum\": 8057.0, \"count\": 1, \"min\": 8057, \"max\": 8057}, \"Max Records Seen Between Resets\": {\"sum\": 105635.0, \"count\": 1, \"min\": 105635, \"max\": 105635}, \"Max Batches Seen Between Resets\": {\"sum\": 106.0, \"count\": 1, \"min\": 106, \"max\": 106}, \"Reset Count\": {\"sum\": 77.0, \"count\": 1, \"min\": 77, \"max\": 77}, \"Number of Records Since Last Reset\": {\"sum\": 105635.0, \"count\": 1, \"min\": 105635, \"max\": 105635}, \"Number of Batches Since Last Reset\": {\"sum\": 106.0, \"count\": 1, \"min\": 106, \"max\": 106}}}\u001b[0m\n",
      "\u001b[34m[11/16/2021 06:58:05 INFO 140589165307712] #throughput_metric: host=algo-1, train throughput=49687.88752410012 records/second\u001b[0m\n",
      "\u001b[34m[11/16/2021 06:58:05 INFO 140589165307712] #quality_metric: host=algo-1, epoch=76, batch=0 train rmse <loss>=0.19544781445452092\u001b[0m\n",
      "\u001b[34m[11/16/2021 06:58:05 INFO 140589165307712] #quality_metric: host=algo-1, epoch=76, batch=0 train mse <loss>=0.03819984817504883\u001b[0m\n",
      "\u001b[34m[11/16/2021 06:58:05 INFO 140589165307712] #quality_metric: host=algo-1, epoch=76, batch=0 train absolute_loss <loss>=0.09247804260253906\u001b[0m\n",
      "\u001b[34m[2021-11-16 06:58:07.803] [tensorio] [info] epoch_stats={\"data_pipeline\": \"/opt/ml/input/data/train\", \"epoch\": 154, \"duration\": 2427, \"num_examples\": 106, \"num_bytes\": 13773364}\u001b[0m\n",
      "\u001b[34m[11/16/2021 06:58:07 INFO 140589165307712] #quality_metric: host=algo-1, epoch=76, train rmse <loss>=0.19643489331777594\u001b[0m\n",
      "\u001b[34m[11/16/2021 06:58:07 INFO 140589165307712] #quality_metric: host=algo-1, epoch=76, train mse <loss>=0.03858666731276602\u001b[0m\n",
      "\u001b[34m[11/16/2021 06:58:07 INFO 140589165307712] #quality_metric: host=algo-1, epoch=76, train absolute_loss <loss>=0.09235577248627284\u001b[0m\n",
      "\u001b[34m#metrics {\"StartTime\": 1637045885.3725429, \"EndTime\": 1637045887.8044548, \"Dimensions\": {\"Algorithm\": \"factorization-machines\", \"Host\": \"algo-1\", \"Operation\": \"training\"}, \"Metrics\": {\"update.time\": {\"sum\": 2430.4819107055664, \"count\": 1, \"min\": 2430.4819107055664, \"max\": 2430.4819107055664}}}\u001b[0m\n",
      "\u001b[34m[11/16/2021 06:58:07 INFO 140589165307712] #progress_metric: host=algo-1, completed 92.7710843373494 % of epochs\u001b[0m\n",
      "\u001b[34m#metrics {\"StartTime\": 1637045885.3739374, \"EndTime\": 1637045887.8047462, \"Dimensions\": {\"Algorithm\": \"factorization-machines\", \"Host\": \"algo-1\", \"Operation\": \"training\", \"epoch\": 76, \"Meta\": \"training_data_iter\"}, \"Metrics\": {\"Total Records Seen\": {\"sum\": 8134895.0, \"count\": 1, \"min\": 8134895, \"max\": 8134895}, \"Total Batches Seen\": {\"sum\": 8163.0, \"count\": 1, \"min\": 8163, \"max\": 8163}, \"Max Records Seen Between Resets\": {\"sum\": 105635.0, \"count\": 1, \"min\": 105635, \"max\": 105635}, \"Max Batches Seen Between Resets\": {\"sum\": 106.0, \"count\": 1, \"min\": 106, \"max\": 106}, \"Reset Count\": {\"sum\": 78.0, \"count\": 1, \"min\": 78, \"max\": 78}, \"Number of Records Since Last Reset\": {\"sum\": 105635.0, \"count\": 1, \"min\": 105635, \"max\": 105635}, \"Number of Batches Since Last Reset\": {\"sum\": 106.0, \"count\": 1, \"min\": 106, \"max\": 106}}}\u001b[0m\n",
      "\u001b[34m[11/16/2021 06:58:07 INFO 140589165307712] #throughput_metric: host=algo-1, train throughput=43454.34710296378 records/second\u001b[0m\n",
      "\u001b[34m[11/16/2021 06:58:07 INFO 140589165307712] #quality_metric: host=algo-1, epoch=77, batch=0 train rmse <loss>=0.19069112662608553\u001b[0m\n",
      "\u001b[34m[11/16/2021 06:58:07 INFO 140589165307712] #quality_metric: host=algo-1, epoch=77, batch=0 train mse <loss>=0.036363105773925784\u001b[0m\n",
      "\u001b[34m[11/16/2021 06:58:07 INFO 140589165307712] #quality_metric: host=algo-1, epoch=77, batch=0 train absolute_loss <loss>=0.08975436401367187\u001b[0m\n"
     ]
    },
    {
     "name": "stdout",
     "output_type": "stream",
     "text": [
      "\n",
      "2021-11-16 06:58:25 Uploading - Uploading generated training model\u001b[34m[2021-11-16 06:58:09.773] [tensorio] [info] epoch_stats={\"data_pipeline\": \"/opt/ml/input/data/train\", \"epoch\": 156, \"duration\": 1965, \"num_examples\": 106, \"num_bytes\": 13773364}\u001b[0m\n",
      "\u001b[34m[11/16/2021 06:58:09 INFO 140589165307712] #quality_metric: host=algo-1, epoch=77, train rmse <loss>=0.1918738970520568\u001b[0m\n",
      "\u001b[34m[11/16/2021 06:58:09 INFO 140589165307712] #quality_metric: host=algo-1, epoch=77, train mse <loss>=0.03681559236994329\u001b[0m\n",
      "\u001b[34m[11/16/2021 06:58:09 INFO 140589165307712] #quality_metric: host=algo-1, epoch=77, train absolute_loss <loss>=0.08953972409806162\u001b[0m\n",
      "\u001b[34m#metrics {\"StartTime\": 1637045887.8045583, \"EndTime\": 1637045889.7741752, \"Dimensions\": {\"Algorithm\": \"factorization-machines\", \"Host\": \"algo-1\", \"Operation\": \"training\"}, \"Metrics\": {\"update.time\": {\"sum\": 1968.2698249816895, \"count\": 1, \"min\": 1968.2698249816895, \"max\": 1968.2698249816895}}}\u001b[0m\n",
      "\u001b[34m[11/16/2021 06:58:09 INFO 140589165307712] #progress_metric: host=algo-1, completed 93.97590361445783 % of epochs\u001b[0m\n",
      "\u001b[34m#metrics {\"StartTime\": 1637045887.8058693, \"EndTime\": 1637045889.7745194, \"Dimensions\": {\"Algorithm\": \"factorization-machines\", \"Host\": \"algo-1\", \"Operation\": \"training\", \"epoch\": 77, \"Meta\": \"training_data_iter\"}, \"Metrics\": {\"Total Records Seen\": {\"sum\": 8240530.0, \"count\": 1, \"min\": 8240530, \"max\": 8240530}, \"Total Batches Seen\": {\"sum\": 8269.0, \"count\": 1, \"min\": 8269, \"max\": 8269}, \"Max Records Seen Between Resets\": {\"sum\": 105635.0, \"count\": 1, \"min\": 105635, \"max\": 105635}, \"Max Batches Seen Between Resets\": {\"sum\": 106.0, \"count\": 1, \"min\": 106, \"max\": 106}, \"Reset Count\": {\"sum\": 79.0, \"count\": 1, \"min\": 79, \"max\": 79}, \"Number of Records Since Last Reset\": {\"sum\": 105635.0, \"count\": 1, \"min\": 105635, \"max\": 105635}, \"Number of Batches Since Last Reset\": {\"sum\": 106.0, \"count\": 1, \"min\": 106, \"max\": 106}}}\u001b[0m\n",
      "\u001b[34m[11/16/2021 06:58:09 INFO 140589165307712] #throughput_metric: host=algo-1, train throughput=53655.021816694716 records/second\u001b[0m\n",
      "\u001b[34m[11/16/2021 06:58:09 INFO 140589165307712] #quality_metric: host=algo-1, epoch=78, batch=0 train rmse <loss>=0.18625730564203194\u001b[0m\n",
      "\u001b[34m[11/16/2021 06:58:09 INFO 140589165307712] #quality_metric: host=algo-1, epoch=78, batch=0 train mse <loss>=0.0346917839050293\u001b[0m\n",
      "\u001b[34m[11/16/2021 06:58:09 INFO 140589165307712] #quality_metric: host=algo-1, epoch=78, batch=0 train absolute_loss <loss>=0.08712245178222656\u001b[0m\n",
      "\u001b[34m[2021-11-16 06:58:11.666] [tensorio] [info] epoch_stats={\"data_pipeline\": \"/opt/ml/input/data/train\", \"epoch\": 158, \"duration\": 1888, \"num_examples\": 106, \"num_bytes\": 13773364}\u001b[0m\n",
      "\u001b[34m[11/16/2021 06:58:11 INFO 140589165307712] #quality_metric: host=algo-1, epoch=78, train rmse <loss>=0.18766486528759063\u001b[0m\n",
      "\u001b[34m[11/16/2021 06:58:11 INFO 140589165307712] #quality_metric: host=algo-1, epoch=78, train mse <loss>=0.03521810166340954\u001b[0m\n",
      "\u001b[34m[11/16/2021 06:58:11 INFO 140589165307712] #quality_metric: host=algo-1, epoch=78, train absolute_loss <loss>=0.08709638559593344\u001b[0m\n",
      "\u001b[34m#metrics {\"StartTime\": 1637045889.7742782, \"EndTime\": 1637045891.667309, \"Dimensions\": {\"Algorithm\": \"factorization-machines\", \"Host\": \"algo-1\", \"Operation\": \"training\"}, \"Metrics\": {\"update.time\": {\"sum\": 1891.5786743164062, \"count\": 1, \"min\": 1891.5786743164062, \"max\": 1891.5786743164062}}}\u001b[0m\n",
      "\u001b[34m[11/16/2021 06:58:11 INFO 140589165307712] #progress_metric: host=algo-1, completed 95.18072289156626 % of epochs\u001b[0m\n",
      "\u001b[34m#metrics {\"StartTime\": 1637045889.7756956, \"EndTime\": 1637045891.6676216, \"Dimensions\": {\"Algorithm\": \"factorization-machines\", \"Host\": \"algo-1\", \"Operation\": \"training\", \"epoch\": 78, \"Meta\": \"training_data_iter\"}, \"Metrics\": {\"Total Records Seen\": {\"sum\": 8346165.0, \"count\": 1, \"min\": 8346165, \"max\": 8346165}, \"Total Batches Seen\": {\"sum\": 8375.0, \"count\": 1, \"min\": 8375, \"max\": 8375}, \"Max Records Seen Between Resets\": {\"sum\": 105635.0, \"count\": 1, \"min\": 105635, \"max\": 105635}, \"Max Batches Seen Between Resets\": {\"sum\": 106.0, \"count\": 1, \"min\": 106, \"max\": 106}, \"Reset Count\": {\"sum\": 80.0, \"count\": 1, \"min\": 80, \"max\": 80}, \"Number of Records Since Last Reset\": {\"sum\": 105635.0, \"count\": 1, \"min\": 105635, \"max\": 105635}, \"Number of Batches Since Last Reset\": {\"sum\": 106.0, \"count\": 1, \"min\": 106, \"max\": 106}}}\u001b[0m\n",
      "\u001b[34m[11/16/2021 06:58:11 INFO 140589165307712] #throughput_metric: host=algo-1, train throughput=55829.913850632765 records/second\u001b[0m\n",
      "\u001b[34m[11/16/2021 06:58:11 INFO 140589165307712] #quality_metric: host=algo-1, epoch=79, batch=0 train rmse <loss>=0.1821404204218955\u001b[0m\n",
      "\u001b[34m[11/16/2021 06:58:11 INFO 140589165307712] #quality_metric: host=algo-1, epoch=79, batch=0 train mse <loss>=0.033175132751464845\u001b[0m\n",
      "\u001b[34m[11/16/2021 06:58:11 INFO 140589165307712] #quality_metric: host=algo-1, epoch=79, batch=0 train absolute_loss <loss>=0.08455736541748046\u001b[0m\n",
      "\u001b[34m[2021-11-16 06:58:13.632] [tensorio] [info] epoch_stats={\"data_pipeline\": \"/opt/ml/input/data/train\", \"epoch\": 160, \"duration\": 1961, \"num_examples\": 106, \"num_bytes\": 13773364}\u001b[0m\n",
      "\u001b[34m[11/16/2021 06:58:13 INFO 140589165307712] #quality_metric: host=algo-1, epoch=79, train rmse <loss>=0.18385596858524733\u001b[0m\n",
      "\u001b[34m[11/16/2021 06:58:13 INFO 140589165307712] #quality_metric: host=algo-1, epoch=79, train mse <loss>=0.03380301718441945\u001b[0m\n",
      "\u001b[34m[11/16/2021 06:58:13 INFO 140589165307712] #quality_metric: host=algo-1, epoch=79, train absolute_loss <loss>=0.08518885738444779\u001b[0m\n",
      "\u001b[34m#metrics {\"StartTime\": 1637045891.6674013, \"EndTime\": 1637045893.6329849, \"Dimensions\": {\"Algorithm\": \"factorization-machines\", \"Host\": \"algo-1\", \"Operation\": \"training\"}, \"Metrics\": {\"update.time\": {\"sum\": 1964.1220569610596, \"count\": 1, \"min\": 1964.1220569610596, \"max\": 1964.1220569610596}}}\u001b[0m\n",
      "\u001b[34m[11/16/2021 06:58:13 INFO 140589165307712] #progress_metric: host=algo-1, completed 96.3855421686747 % of epochs\u001b[0m\n",
      "\u001b[34m#metrics {\"StartTime\": 1637045891.6688325, \"EndTime\": 1637045893.6333284, \"Dimensions\": {\"Algorithm\": \"factorization-machines\", \"Host\": \"algo-1\", \"Operation\": \"training\", \"epoch\": 79, \"Meta\": \"training_data_iter\"}, \"Metrics\": {\"Total Records Seen\": {\"sum\": 8451800.0, \"count\": 1, \"min\": 8451800, \"max\": 8451800}, \"Total Batches Seen\": {\"sum\": 8481.0, \"count\": 1, \"min\": 8481, \"max\": 8481}, \"Max Records Seen Between Resets\": {\"sum\": 105635.0, \"count\": 1, \"min\": 105635, \"max\": 105635}, \"Max Batches Seen Between Resets\": {\"sum\": 106.0, \"count\": 1, \"min\": 106, \"max\": 106}, \"Reset Count\": {\"sum\": 81.0, \"count\": 1, \"min\": 81, \"max\": 81}, \"Number of Records Since Last Reset\": {\"sum\": 105635.0, \"count\": 1, \"min\": 105635, \"max\": 105635}, \"Number of Batches Since Last Reset\": {\"sum\": 106.0, \"count\": 1, \"min\": 106, \"max\": 106}}}\u001b[0m\n",
      "\u001b[34m[11/16/2021 06:58:13 INFO 140589165307712] #throughput_metric: host=algo-1, train throughput=53767.38572959355 records/second\u001b[0m\n",
      "\u001b[34m[11/16/2021 06:58:13 INFO 140589165307712] #quality_metric: host=algo-1, epoch=80, batch=0 train rmse <loss>=0.17833386941038945\u001b[0m\n",
      "\u001b[34m[11/16/2021 06:58:13 INFO 140589165307712] #quality_metric: host=algo-1, epoch=80, batch=0 train mse <loss>=0.03180296897888184\u001b[0m\n",
      "\u001b[34m[11/16/2021 06:58:13 INFO 140589165307712] #quality_metric: host=algo-1, epoch=80, batch=0 train absolute_loss <loss>=0.08205313873291016\u001b[0m\n",
      "\u001b[34m[2021-11-16 06:58:15.511] [tensorio] [info] epoch_stats={\"data_pipeline\": \"/opt/ml/input/data/train\", \"epoch\": 162, \"duration\": 1875, \"num_examples\": 106, \"num_bytes\": 13773364}\u001b[0m\n",
      "\u001b[34m[11/16/2021 06:58:15 INFO 140589165307712] #quality_metric: host=algo-1, epoch=80, train rmse <loss>=0.18056622822110457\u001b[0m\n",
      "\u001b[34m[11/16/2021 06:58:15 INFO 140589165307712] #quality_metric: host=algo-1, epoch=80, train mse <loss>=0.032604162773996026\u001b[0m\n",
      "\u001b[34m[11/16/2021 06:58:15 INFO 140589165307712] #quality_metric: host=algo-1, epoch=80, train absolute_loss <loss>=0.08420424803247992\u001b[0m\n",
      "\u001b[34m#metrics {\"StartTime\": 1637045893.6331131, \"EndTime\": 1637045895.5121813, \"Dimensions\": {\"Algorithm\": \"factorization-machines\", \"Host\": \"algo-1\", \"Operation\": \"training\"}, \"Metrics\": {\"update.time\": {\"sum\": 1877.6054382324219, \"count\": 1, \"min\": 1877.6054382324219, \"max\": 1877.6054382324219}}}\u001b[0m\n",
      "\u001b[34m[11/16/2021 06:58:15 INFO 140589165307712] #progress_metric: host=algo-1, completed 97.59036144578313 % of epochs\u001b[0m\n",
      "\u001b[34m#metrics {\"StartTime\": 1637045893.634542, \"EndTime\": 1637045895.5125184, \"Dimensions\": {\"Algorithm\": \"factorization-machines\", \"Host\": \"algo-1\", \"Operation\": \"training\", \"epoch\": 80, \"Meta\": \"training_data_iter\"}, \"Metrics\": {\"Total Records Seen\": {\"sum\": 8557435.0, \"count\": 1, \"min\": 8557435, \"max\": 8557435}, \"Total Batches Seen\": {\"sum\": 8587.0, \"count\": 1, \"min\": 8587, \"max\": 8587}, \"Max Records Seen Between Resets\": {\"sum\": 105635.0, \"count\": 1, \"min\": 105635, \"max\": 105635}, \"Max Batches Seen Between Resets\": {\"sum\": 106.0, \"count\": 1, \"min\": 106, \"max\": 106}, \"Reset Count\": {\"sum\": 82.0, \"count\": 1, \"min\": 82, \"max\": 82}, \"Number of Records Since Last Reset\": {\"sum\": 105635.0, \"count\": 1, \"min\": 105635, \"max\": 105635}, \"Number of Batches Since Last Reset\": {\"sum\": 106.0, \"count\": 1, \"min\": 106, \"max\": 106}}}\u001b[0m\n",
      "\u001b[34m[11/16/2021 06:58:15 INFO 140589165307712] #throughput_metric: host=algo-1, train throughput=56244.90513276538 records/second\u001b[0m\n",
      "\u001b[34m[11/16/2021 06:58:15 INFO 140589165307712] #quality_metric: host=algo-1, epoch=81, batch=0 train rmse <loss>=0.17486011363781812\u001b[0m\n",
      "\u001b[34m[11/16/2021 06:58:15 INFO 140589165307712] #quality_metric: host=algo-1, epoch=81, batch=0 train mse <loss>=0.030576059341430664\u001b[0m\n",
      "\u001b[34m[11/16/2021 06:58:15 INFO 140589165307712] #quality_metric: host=algo-1, epoch=81, batch=0 train absolute_loss <loss>=0.07929454803466797\u001b[0m\n",
      "\u001b[34m[2021-11-16 06:58:17.548] [tensorio] [info] epoch_stats={\"data_pipeline\": \"/opt/ml/input/data/train\", \"epoch\": 164, \"duration\": 2032, \"num_examples\": 106, \"num_bytes\": 13773364}\u001b[0m\n",
      "\u001b[34m[11/16/2021 06:58:17 INFO 140589165307712] #quality_metric: host=algo-1, epoch=81, train rmse <loss>=0.17811277572977033\u001b[0m\n",
      "\u001b[34m[11/16/2021 06:58:17 INFO 140589165307712] #quality_metric: host=algo-1, epoch=81, train mse <loss>=0.03172416087816347\u001b[0m\n",
      "\u001b[34m[11/16/2021 06:58:17 INFO 140589165307712] #quality_metric: host=algo-1, epoch=81, train absolute_loss <loss>=0.08493492032896797\u001b[0m\n",
      "\u001b[34m#metrics {\"StartTime\": 1637045895.5123065, \"EndTime\": 1637045897.5497622, \"Dimensions\": {\"Algorithm\": \"factorization-machines\", \"Host\": \"algo-1\", \"Operation\": \"training\"}, \"Metrics\": {\"update.time\": {\"sum\": 2036.0221862792969, \"count\": 1, \"min\": 2036.0221862792969, \"max\": 2036.0221862792969}}}\u001b[0m\n",
      "\u001b[34m[11/16/2021 06:58:17 INFO 140589165307712] #progress_metric: host=algo-1, completed 98.79518072289157 % of epochs\u001b[0m\n",
      "\u001b[34m#metrics {\"StartTime\": 1637045895.5137072, \"EndTime\": 1637045897.5500631, \"Dimensions\": {\"Algorithm\": \"factorization-machines\", \"Host\": \"algo-1\", \"Operation\": \"training\", \"epoch\": 81, \"Meta\": \"training_data_iter\"}, \"Metrics\": {\"Total Records Seen\": {\"sum\": 8663070.0, \"count\": 1, \"min\": 8663070, \"max\": 8663070}, \"Total Batches Seen\": {\"sum\": 8693.0, \"count\": 1, \"min\": 8693, \"max\": 8693}, \"Max Records Seen Between Resets\": {\"sum\": 105635.0, \"count\": 1, \"min\": 105635, \"max\": 105635}, \"Max Batches Seen Between Resets\": {\"sum\": 106.0, \"count\": 1, \"min\": 106, \"max\": 106}, \"Reset Count\": {\"sum\": 83.0, \"count\": 1, \"min\": 83, \"max\": 83}, \"Number of Records Since Last Reset\": {\"sum\": 105635.0, \"count\": 1, \"min\": 105635, \"max\": 105635}, \"Number of Batches Since Last Reset\": {\"sum\": 106.0, \"count\": 1, \"min\": 106, \"max\": 106}}}\u001b[0m\n",
      "\u001b[34m[11/16/2021 06:58:17 INFO 140589165307712] #throughput_metric: host=algo-1, train throughput=51870.63883032676 records/second\u001b[0m\n",
      "\u001b[34m[11/16/2021 06:58:17 INFO 140589165307712] #quality_metric: host=algo-1, epoch=82, batch=0 train rmse <loss>=0.17209946834608433\u001b[0m\n",
      "\u001b[34m[11/16/2021 06:58:17 INFO 140589165307712] #quality_metric: host=algo-1, epoch=82, batch=0 train mse <loss>=0.029618227005004882\u001b[0m\n",
      "\u001b[34m[11/16/2021 06:58:17 INFO 140589165307712] #quality_metric: host=algo-1, epoch=82, batch=0 train absolute_loss <loss>=0.07621167755126954\u001b[0m\n",
      "\u001b[34m[2021-11-16 06:58:19.518] [tensorio] [info] epoch_stats={\"data_pipeline\": \"/opt/ml/input/data/train\", \"epoch\": 166, \"duration\": 1964, \"num_examples\": 106, \"num_bytes\": 13773364}\u001b[0m\n",
      "\u001b[34m[11/16/2021 06:58:19 INFO 140589165307712] #quality_metric: host=algo-1, epoch=82, train rmse <loss>=0.17733671932696668\u001b[0m\n",
      "\u001b[34m[11/16/2021 06:58:19 INFO 140589165307712] #quality_metric: host=algo-1, epoch=82, train mse <loss>=0.03144831202165136\u001b[0m\n",
      "\u001b[34m[11/16/2021 06:58:19 INFO 140589165307712] #quality_metric: host=algo-1, epoch=82, train absolute_loss <loss>=0.08858218632104262\u001b[0m\n",
      "\u001b[34m[11/16/2021 06:58:19 INFO 140589165307712] #quality_metric: host=algo-1, train rmse <loss>=0.17733671932696668\u001b[0m\n",
      "\u001b[34m[11/16/2021 06:58:19 INFO 140589165307712] #quality_metric: host=algo-1, train mse <loss>=0.03144831202165136\u001b[0m\n",
      "\u001b[34m[11/16/2021 06:58:19 INFO 140589165307712] #quality_metric: host=algo-1, train absolute_loss <loss>=0.08858218632104262\u001b[0m\n",
      "\u001b[34m#metrics {\"StartTime\": 1637045897.549856, \"EndTime\": 1637045899.519433, \"Dimensions\": {\"Algorithm\": \"factorization-machines\", \"Host\": \"algo-1\", \"Operation\": \"training\"}, \"Metrics\": {\"update.time\": {\"sum\": 1968.0938720703125, \"count\": 1, \"min\": 1968.0938720703125, \"max\": 1968.0938720703125}}}\u001b[0m\n",
      "\u001b[34m[11/16/2021 06:58:19 INFO 140589165307712] #progress_metric: host=algo-1, completed 100.0 % of epochs\u001b[0m\n",
      "\u001b[34m#metrics {\"StartTime\": 1637045897.5513053, \"EndTime\": 1637045899.519722, \"Dimensions\": {\"Algorithm\": \"factorization-machines\", \"Host\": \"algo-1\", \"Operation\": \"training\", \"epoch\": 82, \"Meta\": \"training_data_iter\"}, \"Metrics\": {\"Total Records Seen\": {\"sum\": 8768705.0, \"count\": 1, \"min\": 8768705, \"max\": 8768705}, \"Total Batches Seen\": {\"sum\": 8799.0, \"count\": 1, \"min\": 8799, \"max\": 8799}, \"Max Records Seen Between Resets\": {\"sum\": 105635.0, \"count\": 1, \"min\": 105635, \"max\": 105635}, \"Max Batches Seen Between Resets\": {\"sum\": 106.0, \"count\": 1, \"min\": 106, \"max\": 106}, \"Reset Count\": {\"sum\": 84.0, \"count\": 1, \"min\": 84, \"max\": 84}, \"Number of Records Since Last Reset\": {\"sum\": 105635.0, \"count\": 1, \"min\": 105635, \"max\": 105635}, \"Number of Batches Since Last Reset\": {\"sum\": 106.0, \"count\": 1, \"min\": 106, \"max\": 106}}}\u001b[0m\n",
      "\u001b[34m[11/16/2021 06:58:19 INFO 140589165307712] #throughput_metric: host=algo-1, train throughput=53660.961281026575 records/second\u001b[0m\n",
      "\u001b[34m[11/16/2021 06:58:19 WARNING 140589165307712] wait_for_all_workers will not sync workers since the kv store is not running distributed\u001b[0m\n",
      "\u001b[34m[11/16/2021 06:58:19 INFO 140589165307712] Pulling entire model from kvstore to finalize\u001b[0m\n",
      "\u001b[34m#metrics {\"StartTime\": 1637045899.5195289, \"EndTime\": 1637045899.550237, \"Dimensions\": {\"Algorithm\": \"factorization-machines\", \"Host\": \"algo-1\", \"Operation\": \"training\"}, \"Metrics\": {\"finalize.time\": {\"sum\": 30.118942260742188, \"count\": 1, \"min\": 30.118942260742188, \"max\": 30.118942260742188}}}\u001b[0m\n",
      "\u001b[34m[11/16/2021 06:58:19 INFO 140589165307712] Saved checkpoint to \"/tmp/tmpswuaydjy/state-0001.params\"\u001b[0m\n"
     ]
    },
    {
     "name": "stdout",
     "output_type": "stream",
     "text": [
      "\u001b[34m[2021-11-16 06:58:19.834] [tensorio] [info] epoch_stats={\"data_pipeline\": \"/opt/ml/input/data/test\", \"epoch\": 0, \"duration\": 165555, \"num_examples\": 1, \"num_bytes\": 129532}\u001b[0m\n",
      "\u001b[34m[2021-11-16 06:58:20.740] [tensorio] [info] epoch_stats={\"data_pipeline\": \"/opt/ml/input/data/test\", \"epoch\": 1, \"duration\": 906, \"num_examples\": 27, \"num_bytes\": 3449396}\u001b[0m\n",
      "\u001b[34m#metrics {\"StartTime\": 1637045899.8340564, \"EndTime\": 1637045900.7409708, \"Dimensions\": {\"Algorithm\": \"factorization-machines\", \"Host\": \"algo-1\", \"Operation\": \"training\", \"Meta\": \"test_data_iter\"}, \"Metrics\": {\"Total Records Seen\": {\"sum\": 26409.0, \"count\": 1, \"min\": 26409, \"max\": 26409}, \"Total Batches Seen\": {\"sum\": 27.0, \"count\": 1, \"min\": 27, \"max\": 27}, \"Max Records Seen Between Resets\": {\"sum\": 26409.0, \"count\": 1, \"min\": 26409, \"max\": 26409}, \"Max Batches Seen Between Resets\": {\"sum\": 27.0, \"count\": 1, \"min\": 27, \"max\": 27}, \"Reset Count\": {\"sum\": 1.0, \"count\": 1, \"min\": 1, \"max\": 1}, \"Number of Records Since Last Reset\": {\"sum\": 26409.0, \"count\": 1, \"min\": 26409, \"max\": 26409}, \"Number of Batches Since Last Reset\": {\"sum\": 27.0, \"count\": 1, \"min\": 27, \"max\": 27}}}\u001b[0m\n",
      "\u001b[34m[11/16/2021 06:58:20 INFO 140589165307712] #test_score (algo-1) : ('rmse', 1.446118982919354)\u001b[0m\n",
      "\u001b[34m[11/16/2021 06:58:20 INFO 140589165307712] #test_score (algo-1) : ('mse', 2.0912601127597066)\u001b[0m\n",
      "\u001b[34m[11/16/2021 06:58:20 INFO 140589165307712] #test_score (algo-1) : ('absolute_loss', 1.2426568205766737)\u001b[0m\n",
      "\u001b[34m[11/16/2021 06:58:20 INFO 140589165307712] #quality_metric: host=algo-1, test rmse <loss>=1.446118982919354\u001b[0m\n",
      "\u001b[34m[11/16/2021 06:58:20 INFO 140589165307712] #quality_metric: host=algo-1, test mse <loss>=2.0912601127597066\u001b[0m\n",
      "\u001b[34m[11/16/2021 06:58:20 INFO 140589165307712] #quality_metric: host=algo-1, test absolute_loss <loss>=1.2426568205766737\u001b[0m\n",
      "\u001b[34m#metrics {\"StartTime\": 1637045899.550314, \"EndTime\": 1637045900.7422712, \"Dimensions\": {\"Algorithm\": \"factorization-machines\", \"Host\": \"algo-1\", \"Operation\": \"training\"}, \"Metrics\": {\"setuptime\": {\"sum\": 22.914886474609375, \"count\": 1, \"min\": 22.914886474609375, \"max\": 22.914886474609375}, \"totaltime\": {\"sum\": 166501.6107559204, \"count\": 1, \"min\": 166501.6107559204, \"max\": 166501.6107559204}}}\u001b[0m\n",
      "\n",
      "2021-11-16 06:58:45 Completed - Training job completed\n",
      "ProfilerReport-1637045540: NoIssuesFound\n",
      "Training seconds: 229\n",
      "Billable seconds: 229\n"
     ]
    }
   ],
   "source": [
    "estimator.fit({'train':train_file_location, \n",
    "               'test':test_file_location})"
   ]
  },
  {
   "cell_type": "code",
   "execution_count": 24,
   "metadata": {
    "execution": {
     "iopub.status.busy": "2021-11-16T05:02:45.154174Z",
     "iopub.status.idle": "2021-11-16T05:02:45.154687Z",
     "shell.execute_reply": "2021-11-16T05:02:45.154453Z",
     "shell.execute_reply.started": "2021-11-16T05:02:45.154427Z"
    }
   },
   "outputs": [
    {
     "data": {
      "text/plain": [
       "{'TrainingJobName': 'fm-job-v5-2021-11-16-06-52-20-631',\n",
       " 'TrainingJobArn': 'arn:aws:sagemaker:us-east-2:802795124455:training-job/fm-job-v5-2021-11-16-06-52-20-631',\n",
       " 'ModelArtifacts': {'S3ModelArtifacts': 's3://sagemaker-us-east-2-802795124455/fm/output/fm-job-v5-2021-11-16-06-52-20-631/output/model.tar.gz'},\n",
       " 'TrainingJobStatus': 'Completed',\n",
       " 'SecondaryStatus': 'Completed',\n",
       " 'HyperParameters': {'epochs': '83',\n",
       "  'feature_dim': '156638',\n",
       "  'mini_batch_size': '1000',\n",
       "  'num_factors': '64',\n",
       "  'predictor_type': 'regressor'},\n",
       " 'AlgorithmSpecification': {'TrainingImage': '404615174143.dkr.ecr.us-east-2.amazonaws.com/factorization-machines:1',\n",
       "  'TrainingInputMode': 'File',\n",
       "  'MetricDefinitions': [{'Name': 'train:rmse:epoch',\n",
       "    'Regex': '#quality_metric: host=\\\\S+, epoch=\\\\S+, train rmse <loss>=(\\\\S+)'},\n",
       "   {'Name': 'train:progress',\n",
       "    'Regex': '#progress_metric: host=\\\\S+, completed (\\\\S+) %'},\n",
       "   {'Name': 'test:binary_f_beta',\n",
       "    'Regex': '#quality_metric: host=\\\\S+, test binary_f_1.000 <score>=(\\\\S+)'},\n",
       "   {'Name': 'test:mse',\n",
       "    'Regex': '#quality_metric: host=\\\\S+, test mse <loss>=(\\\\S+)'},\n",
       "   {'Name': 'train:binary_classification_accuracy:batch',\n",
       "    'Regex': '#quality_metric: host=\\\\S+, epoch=\\\\S+, batch=\\\\S+ train binary_classification_accuracy <score>=(\\\\S+)'},\n",
       "   {'Name': 'train:mse:batch',\n",
       "    'Regex': '#quality_metric: host=\\\\S+, epoch=\\\\S+, batch=\\\\S+ train mse <loss>=(\\\\S+)'},\n",
       "   {'Name': 'train:absolute_loss:epoch',\n",
       "    'Regex': '#quality_metric: host=\\\\S+, epoch=\\\\S+, train absolute_loss <loss>=(\\\\S+)'},\n",
       "   {'Name': 'test:absolute_loss',\n",
       "    'Regex': '#quality_metric: host=\\\\S+, test absolute_loss <loss>=(\\\\S+)'},\n",
       "   {'Name': 'train:mse',\n",
       "    'Regex': '#quality_metric: host=\\\\S+, train mse <loss>=(\\\\S+)'},\n",
       "   {'Name': 'train:binary_f_beta:batch',\n",
       "    'Regex': '#quality_metric: host=\\\\S+, epoch=\\\\S+, batch=\\\\S+ train binary_f_1.000 <score>=(\\\\S+)'},\n",
       "   {'Name': 'train:binary_classification_cross_entropy:epoch',\n",
       "    'Regex': '#quality_metric: host=\\\\S+, epoch=\\\\S+, train binary_classification_cross_entropy <loss>=(\\\\S+)'},\n",
       "   {'Name': 'train:binary_f_beta',\n",
       "    'Regex': '#quality_metric: host=\\\\S+, train binary_f_1.000 <score>=(\\\\S+)'},\n",
       "   {'Name': 'train:mse:epoch',\n",
       "    'Regex': '#quality_metric: host=\\\\S+, epoch=\\\\S+, train mse <loss>=(\\\\S+)'},\n",
       "   {'Name': 'train:rmse:batch',\n",
       "    'Regex': '#quality_metric: host=\\\\S+, epoch=\\\\S+, batch=\\\\S+ train rmse <loss>=(\\\\S+)'},\n",
       "   {'Name': 'train:binary_classification_cross_entropy',\n",
       "    'Regex': '#quality_metric: host=\\\\S+, train binary_classification_cross_entropy <loss>=(\\\\S+)'},\n",
       "   {'Name': 'train:binary_f_beta:epoch',\n",
       "    'Regex': '#quality_metric: host=\\\\S+, epoch=\\\\S+, train binary_f_1.000 <score>=(\\\\S+)'},\n",
       "   {'Name': 'train:rmse',\n",
       "    'Regex': '#quality_metric: host=\\\\S+, train rmse <loss>=(\\\\S+)'},\n",
       "   {'Name': 'test:rmse',\n",
       "    'Regex': '#quality_metric: host=\\\\S+, test rmse <loss>=(\\\\S+)'},\n",
       "   {'Name': 'train:binary_classification_accuracy:epoch',\n",
       "    'Regex': '#quality_metric: host=\\\\S+, epoch=\\\\S+, train binary_classification_accuracy <score>=(\\\\S+)'},\n",
       "   {'Name': 'train:absolute_loss:batch',\n",
       "    'Regex': '#quality_metric: host=\\\\S+, epoch=\\\\S+, batch=\\\\S+ train absolute_loss <loss>=(\\\\S+)'},\n",
       "   {'Name': 'train:binary_classification_accuracy',\n",
       "    'Regex': '#quality_metric: host=\\\\S+, train binary_classification_accuracy <score>=(\\\\S+)'},\n",
       "   {'Name': 'test:binary_classification_cross_entropy',\n",
       "    'Regex': '#quality_metric: host=\\\\S+, test binary_classification_cross_entropy <loss>=(\\\\S+)'},\n",
       "   {'Name': 'train:absolute_loss',\n",
       "    'Regex': '#quality_metric: host=\\\\S+, train absolute_loss <loss>=(\\\\S+)'},\n",
       "   {'Name': 'train:throughput',\n",
       "    'Regex': '#throughput_metric: host=\\\\S+, train throughput=(\\\\S+) records/second'},\n",
       "   {'Name': 'test:binary_classification_accuracy',\n",
       "    'Regex': '#quality_metric: host=\\\\S+, test binary_classification_accuracy <score>=(\\\\S+)'},\n",
       "   {'Name': 'train:binary_classification_cross_entropy:batch',\n",
       "    'Regex': '#quality_metric: host=\\\\S+, epoch=\\\\S+, batch=\\\\S+ train binary_classification_cross_entropy <loss>=(\\\\S+)'}],\n",
       "  'EnableSageMakerMetricsTimeSeries': False},\n",
       " 'RoleArn': 'arn:aws:iam::802795124455:role/service-role/AmazonSageMaker-ExecutionRole-20211026T153321',\n",
       " 'InputDataConfig': [{'ChannelName': 'train',\n",
       "   'DataSource': {'S3DataSource': {'S3DataType': 'S3Prefix',\n",
       "     'S3Uri': 's3://sagemaker-us-east-2-802795124455/fm/fm_train.recordio',\n",
       "     'S3DataDistributionType': 'FullyReplicated'}},\n",
       "   'CompressionType': 'None',\n",
       "   'RecordWrapperType': 'None'},\n",
       "  {'ChannelName': 'test',\n",
       "   'DataSource': {'S3DataSource': {'S3DataType': 'S3Prefix',\n",
       "     'S3Uri': 's3://sagemaker-us-east-2-802795124455/fm/fm_test.recordio',\n",
       "     'S3DataDistributionType': 'FullyReplicated'}},\n",
       "   'CompressionType': 'None',\n",
       "   'RecordWrapperType': 'None'}],\n",
       " 'OutputDataConfig': {'KmsKeyId': '',\n",
       "  'S3OutputPath': 's3://sagemaker-us-east-2-802795124455/fm/output'},\n",
       " 'ResourceConfig': {'InstanceType': 'ml.m4.xlarge',\n",
       "  'InstanceCount': 1,\n",
       "  'VolumeSizeInGB': 30},\n",
       " 'StoppingCondition': {'MaxRuntimeInSeconds': 3600},\n",
       " 'CreationTime': datetime.datetime(2021, 11, 16, 6, 52, 20, 829000, tzinfo=tzlocal()),\n",
       " 'TrainingStartTime': datetime.datetime(2021, 11, 16, 6, 54, 48, 719000, tzinfo=tzlocal()),\n",
       " 'TrainingEndTime': datetime.datetime(2021, 11, 16, 6, 58, 37, 62000, tzinfo=tzlocal()),\n",
       " 'LastModifiedTime': datetime.datetime(2021, 11, 16, 6, 58, 45, 823000, tzinfo=tzlocal()),\n",
       " 'SecondaryStatusTransitions': [{'Status': 'Starting',\n",
       "   'StartTime': datetime.datetime(2021, 11, 16, 6, 52, 20, 829000, tzinfo=tzlocal()),\n",
       "   'EndTime': datetime.datetime(2021, 11, 16, 6, 54, 48, 719000, tzinfo=tzlocal()),\n",
       "   'StatusMessage': 'Preparing the instances for training'},\n",
       "  {'Status': 'Downloading',\n",
       "   'StartTime': datetime.datetime(2021, 11, 16, 6, 54, 48, 719000, tzinfo=tzlocal()),\n",
       "   'EndTime': datetime.datetime(2021, 11, 16, 6, 55, 1, 397000, tzinfo=tzlocal()),\n",
       "   'StatusMessage': 'Downloading input data'},\n",
       "  {'Status': 'Training',\n",
       "   'StartTime': datetime.datetime(2021, 11, 16, 6, 55, 1, 397000, tzinfo=tzlocal()),\n",
       "   'EndTime': datetime.datetime(2021, 11, 16, 6, 58, 23, 712000, tzinfo=tzlocal()),\n",
       "   'StatusMessage': 'Training image download completed. Training in progress.'},\n",
       "  {'Status': 'Uploading',\n",
       "   'StartTime': datetime.datetime(2021, 11, 16, 6, 58, 23, 712000, tzinfo=tzlocal()),\n",
       "   'EndTime': datetime.datetime(2021, 11, 16, 6, 58, 37, 62000, tzinfo=tzlocal()),\n",
       "   'StatusMessage': 'Uploading generated training model'},\n",
       "  {'Status': 'Completed',\n",
       "   'StartTime': datetime.datetime(2021, 11, 16, 6, 58, 37, 62000, tzinfo=tzlocal()),\n",
       "   'EndTime': datetime.datetime(2021, 11, 16, 6, 58, 37, 62000, tzinfo=tzlocal()),\n",
       "   'StatusMessage': 'Training job completed'}],\n",
       " 'FinalMetricDataList': [{'MetricName': 'train:rmse:epoch',\n",
       "   'Value': 0.17733672261238098,\n",
       "   'Timestamp': datetime.datetime(2021, 11, 16, 6, 58, 19, tzinfo=tzlocal())},\n",
       "  {'MetricName': 'train:progress',\n",
       "   'Value': 100.0,\n",
       "   'Timestamp': datetime.datetime(2021, 11, 16, 6, 58, 19, tzinfo=tzlocal())},\n",
       "  {'MetricName': 'test:mse',\n",
       "   'Value': 2.0912601947784424,\n",
       "   'Timestamp': datetime.datetime(2021, 11, 16, 6, 58, 20, tzinfo=tzlocal())},\n",
       "  {'MetricName': 'train:mse:batch',\n",
       "   'Value': 0.02961822785437107,\n",
       "   'Timestamp': datetime.datetime(2021, 11, 16, 6, 58, 17, tzinfo=tzlocal())},\n",
       "  {'MetricName': 'train:absolute_loss:epoch',\n",
       "   'Value': 0.08858218789100647,\n",
       "   'Timestamp': datetime.datetime(2021, 11, 16, 6, 58, 19, tzinfo=tzlocal())},\n",
       "  {'MetricName': 'test:absolute_loss',\n",
       "   'Value': 1.2426568269729614,\n",
       "   'Timestamp': datetime.datetime(2021, 11, 16, 6, 58, 20, tzinfo=tzlocal())},\n",
       "  {'MetricName': 'train:mse',\n",
       "   'Value': 0.03144831210374832,\n",
       "   'Timestamp': datetime.datetime(2021, 11, 16, 6, 58, 19, tzinfo=tzlocal())},\n",
       "  {'MetricName': 'train:mse:epoch',\n",
       "   'Value': 0.03144831210374832,\n",
       "   'Timestamp': datetime.datetime(2021, 11, 16, 6, 58, 19, tzinfo=tzlocal())},\n",
       "  {'MetricName': 'train:rmse:batch',\n",
       "   'Value': 0.17209947109222412,\n",
       "   'Timestamp': datetime.datetime(2021, 11, 16, 6, 58, 17, tzinfo=tzlocal())},\n",
       "  {'MetricName': 'train:rmse',\n",
       "   'Value': 0.17733672261238098,\n",
       "   'Timestamp': datetime.datetime(2021, 11, 16, 6, 58, 19, tzinfo=tzlocal())},\n",
       "  {'MetricName': 'test:rmse',\n",
       "   'Value': 1.446118950843811,\n",
       "   'Timestamp': datetime.datetime(2021, 11, 16, 6, 58, 20, tzinfo=tzlocal())},\n",
       "  {'MetricName': 'train:absolute_loss:batch',\n",
       "   'Value': 0.07621167600154877,\n",
       "   'Timestamp': datetime.datetime(2021, 11, 16, 6, 58, 17, tzinfo=tzlocal())},\n",
       "  {'MetricName': 'train:absolute_loss',\n",
       "   'Value': 0.08858218789100647,\n",
       "   'Timestamp': datetime.datetime(2021, 11, 16, 6, 58, 19, tzinfo=tzlocal())},\n",
       "  {'MetricName': 'train:throughput',\n",
       "   'Value': 53660.9609375,\n",
       "   'Timestamp': datetime.datetime(2021, 11, 16, 6, 58, 19, tzinfo=tzlocal())}],\n",
       " 'EnableNetworkIsolation': False,\n",
       " 'EnableInterContainerTrafficEncryption': False,\n",
       " 'EnableManagedSpotTraining': False,\n",
       " 'TrainingTimeInSeconds': 229,\n",
       " 'BillableTimeInSeconds': 229,\n",
       " 'ProfilerConfig': {'S3OutputPath': 's3://sagemaker-us-east-2-802795124455/fm/output',\n",
       "  'ProfilingIntervalInMilliseconds': 500},\n",
       " 'ProfilerRuleConfigurations': [{'RuleConfigurationName': 'ProfilerReport-1637045540',\n",
       "   'RuleEvaluatorImage': '915447279597.dkr.ecr.us-east-2.amazonaws.com/sagemaker-debugger-rules:latest',\n",
       "   'VolumeSizeInGB': 0,\n",
       "   'RuleParameters': {'rule_to_invoke': 'ProfilerReport'}}],\n",
       " 'ProfilerRuleEvaluationStatuses': [{'RuleConfigurationName': 'ProfilerReport-1637045540',\n",
       "   'RuleEvaluationJobArn': 'arn:aws:sagemaker:us-east-2:802795124455:processing-job/fm-job-v5-2021-11-16-06-52-profilerreport-1637045540-7659853c',\n",
       "   'RuleEvaluationStatus': 'NoIssuesFound',\n",
       "   'LastModifiedTime': datetime.datetime(2021, 11, 16, 6, 58, 45, 817000, tzinfo=tzlocal())}],\n",
       " 'ProfilingStatus': 'Enabled',\n",
       " 'ResponseMetadata': {'RequestId': 'a09a6609-0d02-433c-93dd-902b3ec2fd00',\n",
       "  'HTTPStatusCode': 200,\n",
       "  'HTTPHeaders': {'x-amzn-requestid': 'a09a6609-0d02-433c-93dd-902b3ec2fd00',\n",
       "   'content-type': 'application/x-amz-json-1.1',\n",
       "   'content-length': '7822',\n",
       "   'date': 'Tue, 16 Nov 2021 06:59:20 GMT'},\n",
       "  'RetryAttempts': 0}}"
      ]
     },
     "execution_count": 24,
     "metadata": {},
     "output_type": "execute_result"
    }
   ],
   "source": [
    "job_name = estimator.latest_training_job.job_name\n",
    "\n",
    "sagemaker_boto_client = boto3.Session(region_name=region).client(\"sagemaker\")\n",
    "training_job_info = sagemaker_boto_client.describe_training_job(TrainingJobName = job_name)\n",
    "training_job_info"
   ]
  },
  {
   "cell_type": "markdown",
   "metadata": {},
   "source": [
    "# Deploy Model"
   ]
  },
  {
   "cell_type": "code",
   "execution_count": 25,
   "metadata": {
    "execution": {
     "iopub.status.busy": "2021-11-16T05:02:45.157914Z",
     "iopub.status.idle": "2021-11-16T05:02:45.158415Z",
     "shell.execute_reply": "2021-11-16T05:02:45.158155Z",
     "shell.execute_reply.started": "2021-11-16T05:02:45.158130Z"
    }
   },
   "outputs": [],
   "source": [
    "from sagemaker.deserializers import JSONDeserializer\n",
    "from sagemaker.serializers import JSONSerializer\n",
    "import json\n",
    "\n",
    "class fm_json_serializer(JSONSerializer):\n",
    "    def serialize(self, data):\n",
    "        js = {\"instances\": []}\n",
    "        for row in data:\n",
    "            js[\"instances\"].append({\"features\": row.tolist()})\n",
    "        return json.dumps(js)"
   ]
  },
  {
   "cell_type": "code",
   "execution_count": 26,
   "metadata": {
    "execution": {
     "iopub.status.busy": "2021-11-16T05:02:45.159759Z",
     "iopub.status.idle": "2021-11-16T05:02:45.160249Z",
     "shell.execute_reply": "2021-11-16T05:02:45.160013Z",
     "shell.execute_reply.started": "2021-11-16T05:02:45.159987Z"
    }
   },
   "outputs": [
    {
     "name": "stdout",
     "output_type": "stream",
     "text": [
      "----!"
     ]
    }
   ],
   "source": [
    "predictor = estimator.deploy(initial_instance_count = 1,\n",
    "                             instance_type = \"ml.m5.xlarge\",\n",
    "                             endpoint_name = job_name,\n",
    "                             serializer = fm_json_serializer(),\n",
    "                             deserializer = JSONDeserializer(),\n",
    "                            )"
   ]
  },
  {
   "cell_type": "markdown",
   "metadata": {},
   "source": [
    "# Model Inference"
   ]
  },
  {
   "cell_type": "markdown",
   "metadata": {},
   "source": [
    "### Top Customers"
   ]
  },
  {
   "cell_type": "code",
   "execution_count": 27,
   "metadata": {
    "execution": {
     "iopub.execute_input": "2021-11-16T05:03:50.632860Z",
     "iopub.status.busy": "2021-11-16T05:03:50.632252Z",
     "iopub.status.idle": "2021-11-16T05:03:50.973735Z",
     "shell.execute_reply": "2021-11-16T05:03:50.972220Z",
     "shell.execute_reply.started": "2021-11-16T05:03:50.632821Z"
    }
   },
   "outputs": [
    {
     "data": {
      "text/plain": [
       "customer_id\n",
       "3949232     8\n",
       "6660431     7\n",
       "42568080    6\n",
       "16430672    6\n",
       "19967343    6\n",
       "3610901     6\n",
       "36000245    6\n",
       "18167714    5\n",
       "44619977    5\n",
       "43577817    5\n",
       "52082728    5\n",
       "42799904    5\n",
       "22606168    5\n",
       "16528195    5\n",
       "5626633     5\n",
       "26016557    5\n",
       "13299352    5\n",
       "16856119    5\n",
       "15532654    5\n",
       "13096644    5\n",
       "1522693     5\n",
       "50623001    5\n",
       "1597288     5\n",
       "35178127    5\n",
       "14789580    5\n",
       "39958911    5\n",
       "46994542    5\n",
       "30882451    5\n",
       "9303980     5\n",
       "18222132    4\n",
       "Name: product_id, dtype: int64"
      ]
     },
     "execution_count": 27,
     "metadata": {},
     "output_type": "execute_result"
    }
   ],
   "source": [
    "pd.set_option('max_colwidth', 100)  # default is 50\n",
    "df = pd.read_csv(\"fm_preprocessed.csv\")\n",
    "df[\"product_title\"].fillna(\"\", inplace=True)\n",
    "\n",
    "# The list of top customers (customers with the most product reviews).\n",
    "df.groupby(\"customer_id\").count()[\"product_id\"].sort_values(ascending=False).head(30)"
   ]
  },
  {
   "cell_type": "code",
   "execution_count": 28,
   "metadata": {
    "execution": {
     "iopub.execute_input": "2021-11-16T05:03:59.732628Z",
     "iopub.status.busy": "2021-11-16T05:03:59.732339Z",
     "iopub.status.idle": "2021-11-16T05:03:59.746124Z",
     "shell.execute_reply": "2021-11-16T05:03:59.745386Z",
     "shell.execute_reply.started": "2021-11-16T05:03:59.732596Z"
    }
   },
   "outputs": [
    {
     "data": {
      "text/html": [
       "<div>\n",
       "<style scoped>\n",
       "    .dataframe tbody tr th:only-of-type {\n",
       "        vertical-align: middle;\n",
       "    }\n",
       "\n",
       "    .dataframe tbody tr th {\n",
       "        vertical-align: top;\n",
       "    }\n",
       "\n",
       "    .dataframe thead th {\n",
       "        text-align: right;\n",
       "    }\n",
       "</style>\n",
       "<table border=\"1\" class=\"dataframe\">\n",
       "  <thead>\n",
       "    <tr style=\"text-align: right;\">\n",
       "      <th></th>\n",
       "      <th>customer_id</th>\n",
       "      <th>product_id</th>\n",
       "      <th>product_title</th>\n",
       "      <th>product_category</th>\n",
       "      <th>star_rating</th>\n",
       "    </tr>\n",
       "  </thead>\n",
       "  <tbody>\n",
       "    <tr>\n",
       "      <th>13023</th>\n",
       "      <td>42799904</td>\n",
       "      <td>B0030DEWSK</td>\n",
       "      <td>Intimore Plus B3 Feminine Wash - 7.44 oz</td>\n",
       "      <td>Personal_Care_Appliances</td>\n",
       "      <td>5</td>\n",
       "    </tr>\n",
       "    <tr>\n",
       "      <th>20311</th>\n",
       "      <td>42799904</td>\n",
       "      <td>B008320WGO</td>\n",
       "      <td>INFINITE ALOE SKIN CARE - ORIGINAL - (1 - 8oz jar) + (2 - 0.5oz jars)</td>\n",
       "      <td>Personal_Care_Appliances</td>\n",
       "      <td>3</td>\n",
       "    </tr>\n",
       "    <tr>\n",
       "      <th>51497</th>\n",
       "      <td>42799904</td>\n",
       "      <td>B0047PF5MM</td>\n",
       "      <td>Miele : Dishwasher Conditioner 8.5 oz (06848160 / 09042920)</td>\n",
       "      <td>Major Appliances</td>\n",
       "      <td>5</td>\n",
       "    </tr>\n",
       "    <tr>\n",
       "      <th>54611</th>\n",
       "      <td>42799904</td>\n",
       "      <td>B00DSICT1Y</td>\n",
       "      <td>uComfy Shiatsu Foot Massager</td>\n",
       "      <td>Personal_Care_Appliances</td>\n",
       "      <td>1</td>\n",
       "    </tr>\n",
       "    <tr>\n",
       "      <th>94490</th>\n",
       "      <td>42799904</td>\n",
       "      <td>B000FAR33M</td>\n",
       "      <td>Danby DAR195BL 1.8 cu.ft. All Refrigerator -  Black</td>\n",
       "      <td>Major Appliances</td>\n",
       "      <td>5</td>\n",
       "    </tr>\n",
       "  </tbody>\n",
       "</table>\n",
       "</div>"
      ],
      "text/plain": [
       "       customer_id  product_id  \\\n",
       "13023     42799904  B0030DEWSK   \n",
       "20311     42799904  B008320WGO   \n",
       "51497     42799904  B0047PF5MM   \n",
       "54611     42799904  B00DSICT1Y   \n",
       "94490     42799904  B000FAR33M   \n",
       "\n",
       "                                                               product_title  \\\n",
       "13023                               Intimore Plus B3 Feminine Wash - 7.44 oz   \n",
       "20311  INFINITE ALOE SKIN CARE - ORIGINAL - (1 - 8oz jar) + (2 - 0.5oz jars)   \n",
       "51497            Miele : Dishwasher Conditioner 8.5 oz (06848160 / 09042920)   \n",
       "54611                                           uComfy Shiatsu Foot Massager   \n",
       "94490                    Danby DAR195BL 1.8 cu.ft. All Refrigerator -  Black   \n",
       "\n",
       "               product_category  star_rating  \n",
       "13023  Personal_Care_Appliances            5  \n",
       "20311  Personal_Care_Appliances            3  \n",
       "51497          Major Appliances            5  \n",
       "54611  Personal_Care_Appliances            1  \n",
       "94490          Major Appliances            5  "
      ]
     },
     "execution_count": 28,
     "metadata": {},
     "output_type": "execute_result"
    }
   ],
   "source": [
    "# Select one of the top customers from above.\n",
    "# This customer have records for both product categories.\n",
    "sample_customer = 42799904 # 42799904, 50623001, 16528195, 35178127, 18167714\n",
    "\n",
    "# The existing product ratings given by the selected customer.\n",
    "df[df[\"customer_id\"] == sample_customer]  "
   ]
  },
  {
   "cell_type": "markdown",
   "metadata": {},
   "source": [
    "### Trending Products\n",
    "\n",
    "Trending products are products with most number of unique customers."
   ]
  },
  {
   "cell_type": "code",
   "execution_count": 29,
   "metadata": {
    "execution": {
     "iopub.execute_input": "2021-11-16T05:04:03.743478Z",
     "iopub.status.busy": "2021-11-16T05:04:03.742247Z",
     "iopub.status.idle": "2021-11-16T05:04:03.976206Z",
     "shell.execute_reply": "2021-11-16T05:04:03.975291Z",
     "shell.execute_reply.started": "2021-11-16T05:04:03.743425Z"
    }
   },
   "outputs": [
    {
     "data": {
      "text/html": [
       "<div>\n",
       "<style scoped>\n",
       "    .dataframe tbody tr th:only-of-type {\n",
       "        vertical-align: middle;\n",
       "    }\n",
       "\n",
       "    .dataframe tbody tr th {\n",
       "        vertical-align: top;\n",
       "    }\n",
       "\n",
       "    .dataframe thead th {\n",
       "        text-align: right;\n",
       "    }\n",
       "</style>\n",
       "<table border=\"1\" class=\"dataframe\">\n",
       "  <thead>\n",
       "    <tr style=\"text-align: right;\">\n",
       "      <th></th>\n",
       "      <th>product_id</th>\n",
       "      <th>product_title</th>\n",
       "      <th>product_category</th>\n",
       "      <th>unique_customers</th>\n",
       "    </tr>\n",
       "  </thead>\n",
       "  <tbody>\n",
       "    <tr>\n",
       "      <th>0</th>\n",
       "      <td>B00H9L7VIW</td>\n",
       "      <td>boostULTIMATE - 60 Capsules - Increase Workout Stamina, Muscle Size, Energy &amp; More 1 Month Supply</td>\n",
       "      <td>Personal_Care_Appliances</td>\n",
       "      <td>1937</td>\n",
       "    </tr>\n",
       "    <tr>\n",
       "      <th>1</th>\n",
       "      <td>B0006VJ6TO</td>\n",
       "      <td>Body Back Company’s Body Back Buddy Trigger Point Therapy Self Massage Tool - PARENT</td>\n",
       "      <td>Personal_Care_Appliances</td>\n",
       "      <td>1694</td>\n",
       "    </tr>\n",
       "    <tr>\n",
       "      <th>2</th>\n",
       "      <td>B00KJ07SEM</td>\n",
       "      <td>GE MWF SmartWater Compatible Water Filter Cartridge - Refrigerator</td>\n",
       "      <td>Major Appliances</td>\n",
       "      <td>1164</td>\n",
       "    </tr>\n",
       "    <tr>\n",
       "      <th>3</th>\n",
       "      <td>B00HES9CMS</td>\n",
       "      <td>Viva Naturals #1 Best Selling Certified Organic Cacao Powder from Superior Criollo Beans, 1 LB Bag</td>\n",
       "      <td>Personal_Care_Appliances</td>\n",
       "      <td>946</td>\n",
       "    </tr>\n",
       "    <tr>\n",
       "      <th>4</th>\n",
       "      <td>B000JLNBW4</td>\n",
       "      <td>Koolatron Coke Personal Mini Fridge</td>\n",
       "      <td>Major Appliances</td>\n",
       "      <td>789</td>\n",
       "    </tr>\n",
       "    <tr>\n",
       "      <th>...</th>\n",
       "      <td>...</td>\n",
       "      <td>...</td>\n",
       "      <td>...</td>\n",
       "      <td>...</td>\n",
       "    </tr>\n",
       "    <tr>\n",
       "      <th>20899</th>\n",
       "      <td>B003N4YD8U</td>\n",
       "      <td>Whirlpool Part Number 3608F091-70: TRIM, KICKPLATE</td>\n",
       "      <td>Major Appliances</td>\n",
       "      <td>1</td>\n",
       "    </tr>\n",
       "    <tr>\n",
       "      <th>20900</th>\n",
       "      <td>B003N3S922</td>\n",
       "      <td>Whirlpool Part Number 3385931: PANEL-CNTL</td>\n",
       "      <td>Major Appliances</td>\n",
       "      <td>1</td>\n",
       "    </tr>\n",
       "    <tr>\n",
       "      <th>20901</th>\n",
       "      <td>B003N3N1XO</td>\n",
       "      <td>Whirlpool Part Number 4449751: THERMOSTAT (TOD)</td>\n",
       "      <td>Major Appliances</td>\n",
       "      <td>1</td>\n",
       "    </tr>\n",
       "    <tr>\n",
       "      <th>20902</th>\n",
       "      <td>B003N2NYK0</td>\n",
       "      <td>Whirlpool Part Number 9708175: Planetary (Metallic Chrome)</td>\n",
       "      <td>Major Appliances</td>\n",
       "      <td>1</td>\n",
       "    </tr>\n",
       "    <tr>\n",
       "      <th>20903</th>\n",
       "      <td>0545058236</td>\n",
       "      <td>Kenmore 2-Stage Drinking Water Filter System #38461</td>\n",
       "      <td>Major Appliances</td>\n",
       "      <td>1</td>\n",
       "    </tr>\n",
       "  </tbody>\n",
       "</table>\n",
       "<p>20904 rows × 4 columns</p>\n",
       "</div>"
      ],
      "text/plain": [
       "       product_id  \\\n",
       "0      B00H9L7VIW   \n",
       "1      B0006VJ6TO   \n",
       "2      B00KJ07SEM   \n",
       "3      B00HES9CMS   \n",
       "4      B000JLNBW4   \n",
       "...           ...   \n",
       "20899  B003N4YD8U   \n",
       "20900  B003N3S922   \n",
       "20901  B003N3N1XO   \n",
       "20902  B003N2NYK0   \n",
       "20903  0545058236   \n",
       "\n",
       "                                                                                            product_title  \\\n",
       "0       boostULTIMATE - 60 Capsules - Increase Workout Stamina, Muscle Size, Energy & More 1 Month Supply   \n",
       "1                    Body Back Company’s Body Back Buddy Trigger Point Therapy Self Massage Tool - PARENT   \n",
       "2                                      GE MWF SmartWater Compatible Water Filter Cartridge - Refrigerator   \n",
       "3      Viva Naturals #1 Best Selling Certified Organic Cacao Powder from Superior Criollo Beans, 1 LB Bag   \n",
       "4                                                                     Koolatron Coke Personal Mini Fridge   \n",
       "...                                                                                                   ...   \n",
       "20899                                                  Whirlpool Part Number 3608F091-70: TRIM, KICKPLATE   \n",
       "20900                                                           Whirlpool Part Number 3385931: PANEL-CNTL   \n",
       "20901                                                     Whirlpool Part Number 4449751: THERMOSTAT (TOD)   \n",
       "20902                                          Whirlpool Part Number 9708175: Planetary (Metallic Chrome)   \n",
       "20903                                                 Kenmore 2-Stage Drinking Water Filter System #38461   \n",
       "\n",
       "               product_category  unique_customers  \n",
       "0      Personal_Care_Appliances              1937  \n",
       "1      Personal_Care_Appliances              1694  \n",
       "2              Major Appliances              1164  \n",
       "3      Personal_Care_Appliances               946  \n",
       "4              Major Appliances               789  \n",
       "...                         ...               ...  \n",
       "20899          Major Appliances                 1  \n",
       "20900          Major Appliances                 1  \n",
       "20901          Major Appliances                 1  \n",
       "20902          Major Appliances                 1  \n",
       "20903          Major Appliances                 1  \n",
       "\n",
       "[20904 rows x 4 columns]"
      ]
     },
     "execution_count": 29,
     "metadata": {},
     "output_type": "execute_result"
    }
   ],
   "source": [
    "trending = df.copy()\n",
    "trending = (trending.groupby([\"product_id\", \"product_title\", \"product_category\"])\n",
    "            .nunique()[\"customer_id\"]\n",
    "            .sort_values(ascending=False)\n",
    "            .reset_index()            \n",
    "           )            \n",
    "trending = trending.rename(columns={'customer_id': 'unique_customers'})\n",
    "trending"
   ]
  },
  {
   "cell_type": "markdown",
   "metadata": {},
   "source": [
    "### Pool of Trending Products - Consists of top trending products for each category"
   ]
  },
  {
   "cell_type": "code",
   "execution_count": 37,
   "metadata": {
    "execution": {
     "iopub.execute_input": "2021-11-16T05:04:19.991222Z",
     "iopub.status.busy": "2021-11-16T05:04:19.990939Z",
     "iopub.status.idle": "2021-11-16T05:04:20.018725Z",
     "shell.execute_reply": "2021-11-16T05:04:20.017776Z",
     "shell.execute_reply.started": "2021-11-16T05:04:19.991192Z"
    }
   },
   "outputs": [
    {
     "data": {
      "text/html": [
       "<div>\n",
       "<style scoped>\n",
       "    .dataframe tbody tr th:only-of-type {\n",
       "        vertical-align: middle;\n",
       "    }\n",
       "\n",
       "    .dataframe tbody tr th {\n",
       "        vertical-align: top;\n",
       "    }\n",
       "\n",
       "    .dataframe thead th {\n",
       "        text-align: right;\n",
       "    }\n",
       "</style>\n",
       "<table border=\"1\" class=\"dataframe\">\n",
       "  <thead>\n",
       "    <tr style=\"text-align: right;\">\n",
       "      <th></th>\n",
       "      <th>product_id</th>\n",
       "      <th>product_title</th>\n",
       "      <th>product_category</th>\n",
       "      <th>unique_customers</th>\n",
       "    </tr>\n",
       "  </thead>\n",
       "  <tbody>\n",
       "    <tr>\n",
       "      <th>0</th>\n",
       "      <td>B00H9L7VIW</td>\n",
       "      <td>boostULTIMATE - 60 Capsules - Increase Workout Stamina, Muscle Size, Energy &amp; More 1 Month Supply</td>\n",
       "      <td>Personal_Care_Appliances</td>\n",
       "      <td>1937</td>\n",
       "    </tr>\n",
       "    <tr>\n",
       "      <th>1</th>\n",
       "      <td>B0006VJ6TO</td>\n",
       "      <td>Body Back Company’s Body Back Buddy Trigger Point Therapy Self Massage Tool - PARENT</td>\n",
       "      <td>Personal_Care_Appliances</td>\n",
       "      <td>1694</td>\n",
       "    </tr>\n",
       "    <tr>\n",
       "      <th>3</th>\n",
       "      <td>B00HES9CMS</td>\n",
       "      <td>Viva Naturals #1 Best Selling Certified Organic Cacao Powder from Superior Criollo Beans, 1 LB Bag</td>\n",
       "      <td>Personal_Care_Appliances</td>\n",
       "      <td>946</td>\n",
       "    </tr>\n",
       "    <tr>\n",
       "      <th>8</th>\n",
       "      <td>B000SOQ30E</td>\n",
       "      <td>MedMobile® BATHTUB TRANSFER BENCH / BATH CHAIR WITH BACK, WIDE SEAT, ADJUSTABLE SEAT HEIGHT, SUR...</td>\n",
       "      <td>Personal_Care_Appliances</td>\n",
       "      <td>578</td>\n",
       "    </tr>\n",
       "    <tr>\n",
       "      <th>2</th>\n",
       "      <td>B00KJ07SEM</td>\n",
       "      <td>GE MWF SmartWater Compatible Water Filter Cartridge - Refrigerator</td>\n",
       "      <td>Major Appliances</td>\n",
       "      <td>1164</td>\n",
       "    </tr>\n",
       "    <tr>\n",
       "      <th>4</th>\n",
       "      <td>B000JLNBW4</td>\n",
       "      <td>Koolatron Coke Personal Mini Fridge</td>\n",
       "      <td>Major Appliances</td>\n",
       "      <td>789</td>\n",
       "    </tr>\n",
       "    <tr>\n",
       "      <th>5</th>\n",
       "      <td>B004MX8XO6</td>\n",
       "      <td>SPT Countertop Dishwasher</td>\n",
       "      <td>Major Appliances</td>\n",
       "      <td>604</td>\n",
       "    </tr>\n",
       "    <tr>\n",
       "      <th>6</th>\n",
       "      <td>B002MPLYEW</td>\n",
       "      <td>Danby 120 Can Beverage Center, Stainless Steel DBC120BLS</td>\n",
       "      <td>Major Appliances</td>\n",
       "      <td>603</td>\n",
       "    </tr>\n",
       "  </tbody>\n",
       "</table>\n",
       "</div>"
      ],
      "text/plain": [
       "   product_id  \\\n",
       "0  B00H9L7VIW   \n",
       "1  B0006VJ6TO   \n",
       "3  B00HES9CMS   \n",
       "8  B000SOQ30E   \n",
       "2  B00KJ07SEM   \n",
       "4  B000JLNBW4   \n",
       "5  B004MX8XO6   \n",
       "6  B002MPLYEW   \n",
       "\n",
       "                                                                                         product_title  \\\n",
       "0    boostULTIMATE - 60 Capsules - Increase Workout Stamina, Muscle Size, Energy & More 1 Month Supply   \n",
       "1                 Body Back Company’s Body Back Buddy Trigger Point Therapy Self Massage Tool - PARENT   \n",
       "3   Viva Naturals #1 Best Selling Certified Organic Cacao Powder from Superior Criollo Beans, 1 LB Bag   \n",
       "8  MedMobile® BATHTUB TRANSFER BENCH / BATH CHAIR WITH BACK, WIDE SEAT, ADJUSTABLE SEAT HEIGHT, SUR...   \n",
       "2                                   GE MWF SmartWater Compatible Water Filter Cartridge - Refrigerator   \n",
       "4                                                                  Koolatron Coke Personal Mini Fridge   \n",
       "5                                                                            SPT Countertop Dishwasher   \n",
       "6                                             Danby 120 Can Beverage Center, Stainless Steel DBC120BLS   \n",
       "\n",
       "           product_category  unique_customers  \n",
       "0  Personal_Care_Appliances              1937  \n",
       "1  Personal_Care_Appliances              1694  \n",
       "3  Personal_Care_Appliances               946  \n",
       "8  Personal_Care_Appliances               578  \n",
       "2          Major Appliances              1164  \n",
       "4          Major Appliances               789  \n",
       "5          Major Appliances               604  \n",
       "6          Major Appliances               603  "
      ]
     },
     "execution_count": 37,
     "metadata": {},
     "output_type": "execute_result"
    }
   ],
   "source": [
    "# Select 4 trending products for each category.\n",
    "tr1 = trending[trending[\"product_category\"]==\"Personal_Care_Appliances\"].head(4)\n",
    "tr2 = trending[trending[\"product_category\"]==\"Major Appliances\"].head(4)\n",
    "trending_pool = pd.concat([tr1, tr2], axis=0)\n",
    "trending_pool"
   ]
  },
  {
   "cell_type": "markdown",
   "metadata": {},
   "source": [
    "### Prepare data for inference\n",
    "\n",
    "Pick the sample customer to be used for inference."
   ]
  },
  {
   "cell_type": "code",
   "execution_count": 38,
   "metadata": {
    "execution": {
     "iopub.execute_input": "2021-11-16T05:04:33.764526Z",
     "iopub.status.busy": "2021-11-16T05:04:33.763841Z",
     "iopub.status.idle": "2021-11-16T05:04:33.778765Z",
     "shell.execute_reply": "2021-11-16T05:04:33.777051Z",
     "shell.execute_reply.started": "2021-11-16T05:04:33.764487Z"
    }
   },
   "outputs": [
    {
     "data": {
      "text/html": [
       "<div>\n",
       "<style scoped>\n",
       "    .dataframe tbody tr th:only-of-type {\n",
       "        vertical-align: middle;\n",
       "    }\n",
       "\n",
       "    .dataframe tbody tr th {\n",
       "        vertical-align: top;\n",
       "    }\n",
       "\n",
       "    .dataframe thead th {\n",
       "        text-align: right;\n",
       "    }\n",
       "</style>\n",
       "<table border=\"1\" class=\"dataframe\">\n",
       "  <thead>\n",
       "    <tr style=\"text-align: right;\">\n",
       "      <th></th>\n",
       "      <th>product_id</th>\n",
       "      <th>product_title</th>\n",
       "      <th>product_category</th>\n",
       "      <th>unique_customers</th>\n",
       "      <th>customer_id</th>\n",
       "    </tr>\n",
       "  </thead>\n",
       "  <tbody>\n",
       "    <tr>\n",
       "      <th>0</th>\n",
       "      <td>B00H9L7VIW</td>\n",
       "      <td>boostULTIMATE - 60 Capsules - Increase Workout Stamina, Muscle Size, Energy &amp; More 1 Month Supply</td>\n",
       "      <td>Personal_Care_Appliances</td>\n",
       "      <td>1937</td>\n",
       "      <td>42799904</td>\n",
       "    </tr>\n",
       "    <tr>\n",
       "      <th>1</th>\n",
       "      <td>B0006VJ6TO</td>\n",
       "      <td>Body Back Company’s Body Back Buddy Trigger Point Therapy Self Massage Tool - PARENT</td>\n",
       "      <td>Personal_Care_Appliances</td>\n",
       "      <td>1694</td>\n",
       "      <td>42799904</td>\n",
       "    </tr>\n",
       "    <tr>\n",
       "      <th>3</th>\n",
       "      <td>B00HES9CMS</td>\n",
       "      <td>Viva Naturals #1 Best Selling Certified Organic Cacao Powder from Superior Criollo Beans, 1 LB Bag</td>\n",
       "      <td>Personal_Care_Appliances</td>\n",
       "      <td>946</td>\n",
       "      <td>42799904</td>\n",
       "    </tr>\n",
       "    <tr>\n",
       "      <th>8</th>\n",
       "      <td>B000SOQ30E</td>\n",
       "      <td>MedMobile® BATHTUB TRANSFER BENCH / BATH CHAIR WITH BACK, WIDE SEAT, ADJUSTABLE SEAT HEIGHT, SUR...</td>\n",
       "      <td>Personal_Care_Appliances</td>\n",
       "      <td>578</td>\n",
       "      <td>42799904</td>\n",
       "    </tr>\n",
       "    <tr>\n",
       "      <th>2</th>\n",
       "      <td>B00KJ07SEM</td>\n",
       "      <td>GE MWF SmartWater Compatible Water Filter Cartridge - Refrigerator</td>\n",
       "      <td>Major Appliances</td>\n",
       "      <td>1164</td>\n",
       "      <td>42799904</td>\n",
       "    </tr>\n",
       "    <tr>\n",
       "      <th>4</th>\n",
       "      <td>B000JLNBW4</td>\n",
       "      <td>Koolatron Coke Personal Mini Fridge</td>\n",
       "      <td>Major Appliances</td>\n",
       "      <td>789</td>\n",
       "      <td>42799904</td>\n",
       "    </tr>\n",
       "    <tr>\n",
       "      <th>5</th>\n",
       "      <td>B004MX8XO6</td>\n",
       "      <td>SPT Countertop Dishwasher</td>\n",
       "      <td>Major Appliances</td>\n",
       "      <td>604</td>\n",
       "      <td>42799904</td>\n",
       "    </tr>\n",
       "    <tr>\n",
       "      <th>6</th>\n",
       "      <td>B002MPLYEW</td>\n",
       "      <td>Danby 120 Can Beverage Center, Stainless Steel DBC120BLS</td>\n",
       "      <td>Major Appliances</td>\n",
       "      <td>603</td>\n",
       "      <td>42799904</td>\n",
       "    </tr>\n",
       "  </tbody>\n",
       "</table>\n",
       "</div>"
      ],
      "text/plain": [
       "   product_id  \\\n",
       "0  B00H9L7VIW   \n",
       "1  B0006VJ6TO   \n",
       "3  B00HES9CMS   \n",
       "8  B000SOQ30E   \n",
       "2  B00KJ07SEM   \n",
       "4  B000JLNBW4   \n",
       "5  B004MX8XO6   \n",
       "6  B002MPLYEW   \n",
       "\n",
       "                                                                                         product_title  \\\n",
       "0    boostULTIMATE - 60 Capsules - Increase Workout Stamina, Muscle Size, Energy & More 1 Month Supply   \n",
       "1                 Body Back Company’s Body Back Buddy Trigger Point Therapy Self Massage Tool - PARENT   \n",
       "3   Viva Naturals #1 Best Selling Certified Organic Cacao Powder from Superior Criollo Beans, 1 LB Bag   \n",
       "8  MedMobile® BATHTUB TRANSFER BENCH / BATH CHAIR WITH BACK, WIDE SEAT, ADJUSTABLE SEAT HEIGHT, SUR...   \n",
       "2                                   GE MWF SmartWater Compatible Water Filter Cartridge - Refrigerator   \n",
       "4                                                                  Koolatron Coke Personal Mini Fridge   \n",
       "5                                                                            SPT Countertop Dishwasher   \n",
       "6                                             Danby 120 Can Beverage Center, Stainless Steel DBC120BLS   \n",
       "\n",
       "           product_category  unique_customers  customer_id  \n",
       "0  Personal_Care_Appliances              1937     42799904  \n",
       "1  Personal_Care_Appliances              1694     42799904  \n",
       "3  Personal_Care_Appliances               946     42799904  \n",
       "8  Personal_Care_Appliances               578     42799904  \n",
       "2          Major Appliances              1164     42799904  \n",
       "4          Major Appliances               789     42799904  \n",
       "5          Major Appliances               604     42799904  \n",
       "6          Major Appliances               603     42799904  "
      ]
     },
     "execution_count": 38,
     "metadata": {},
     "output_type": "execute_result"
    }
   ],
   "source": [
    "trending_pool[\"customer_id\"] = sample_customer\n",
    "trending_pool"
   ]
  },
  {
   "cell_type": "code",
   "execution_count": 39,
   "metadata": {
    "execution": {
     "iopub.execute_input": "2021-11-16T05:04:57.245136Z",
     "iopub.status.busy": "2021-11-16T05:04:57.244844Z",
     "iopub.status.idle": "2021-11-16T05:04:57.315887Z",
     "shell.execute_reply": "2021-11-16T05:04:57.315236Z",
     "shell.execute_reply.started": "2021-11-16T05:04:57.245106Z"
    }
   },
   "outputs": [
    {
     "data": {
      "text/plain": [
       "<8x147967 sparse matrix of type '<class 'numpy.float64'>'\n",
       "\twith 24 stored elements in Compressed Sparse Row format>"
      ]
     },
     "execution_count": 39,
     "metadata": {},
     "output_type": "execute_result"
    }
   ],
   "source": [
    "ohe = OneHotEncoder(handle_unknown = \"ignore\")\n",
    "ohe_cols = [\"customer_id\", \"product_id\", \"product_category\"]\n",
    "ohe.fit(df[ohe_cols])\n",
    "ohe_features = ohe.transform(trending_pool[ohe_cols])\n",
    "ohe_features"
   ]
  },
  {
   "cell_type": "code",
   "execution_count": 40,
   "metadata": {
    "execution": {
     "iopub.execute_input": "2021-11-16T05:05:01.103648Z",
     "iopub.status.busy": "2021-11-16T05:05:01.102843Z",
     "iopub.status.idle": "2021-11-16T05:05:01.534064Z",
     "shell.execute_reply": "2021-11-16T05:05:01.533025Z",
     "shell.execute_reply.started": "2021-11-16T05:05:01.103606Z"
    }
   },
   "outputs": [
    {
     "data": {
      "text/plain": [
       "<8x8671 sparse matrix of type '<class 'numpy.float64'>'\n",
       "\twith 76 stored elements in Compressed Sparse Row format>"
      ]
     },
     "execution_count": 40,
     "metadata": {},
     "output_type": "execute_result"
    }
   ],
   "source": [
    "vectorizer = TfidfVectorizer(min_df=2)  # Ignore terms that appear in less than 2 documents.\n",
    "vectorizer.fit(df[\"product_title\"].unique())\n",
    "tfidf_features = vectorizer.transform(trending_pool[\"product_title\"])\n",
    "tfidf_features"
   ]
  },
  {
   "cell_type": "code",
   "execution_count": 41,
   "metadata": {
    "execution": {
     "iopub.execute_input": "2021-11-16T05:05:03.638383Z",
     "iopub.status.busy": "2021-11-16T05:05:03.637905Z",
     "iopub.status.idle": "2021-11-16T05:05:03.647253Z",
     "shell.execute_reply": "2021-11-16T05:05:03.646591Z",
     "shell.execute_reply.started": "2021-11-16T05:05:03.638335Z"
    }
   },
   "outputs": [
    {
     "data": {
      "text/plain": [
       "<8x156638 sparse matrix of type '<class 'numpy.float32'>'\n",
       "\twith 100 stored elements in Compressed Sparse Row format>"
      ]
     },
     "execution_count": 41,
     "metadata": {},
     "output_type": "execute_result"
    }
   ],
   "source": [
    "X_trending = hstack([ohe_features, tfidf_features], format=\"csr\", dtype=\"float32\")\n",
    "X_trending"
   ]
  },
  {
   "cell_type": "code",
   "execution_count": 42,
   "metadata": {
    "execution": {
     "iopub.execute_input": "2021-11-16T05:05:05.840106Z",
     "iopub.status.busy": "2021-11-16T05:05:05.839551Z",
     "iopub.status.idle": "2021-11-16T05:05:05.849656Z",
     "shell.execute_reply": "2021-11-16T05:05:05.848492Z",
     "shell.execute_reply.started": "2021-11-16T05:05:05.840070Z"
    }
   },
   "outputs": [
    {
     "data": {
      "text/plain": [
       "array([[0., 0., 0., ..., 0., 0., 0.],\n",
       "       [0., 0., 0., ..., 0., 0., 0.],\n",
       "       [0., 0., 0., ..., 0., 0., 0.],\n",
       "       ...,\n",
       "       [0., 0., 0., ..., 0., 0., 0.],\n",
       "       [0., 0., 0., ..., 0., 0., 0.],\n",
       "       [0., 0., 0., ..., 0., 0., 0.]], dtype=float32)"
      ]
     },
     "execution_count": 42,
     "metadata": {},
     "output_type": "execute_result"
    }
   ],
   "source": [
    "X_trending.toarray()"
   ]
  },
  {
   "cell_type": "markdown",
   "metadata": {},
   "source": [
    "## Get recommendation for the selected customer from the pool of trending products"
   ]
  },
  {
   "cell_type": "code",
   "execution_count": 43,
   "metadata": {
    "execution": {
     "iopub.status.busy": "2021-11-16T05:02:45.179825Z",
     "iopub.status.idle": "2021-11-16T05:02:45.180802Z",
     "shell.execute_reply": "2021-11-16T05:02:45.180613Z",
     "shell.execute_reply.started": "2021-11-16T05:02:45.180589Z"
    }
   },
   "outputs": [
    {
     "data": {
      "text/plain": [
       "{'predictions': [{'score': 1.9962997436523438},\n",
       "  {'score': 2.53277587890625},\n",
       "  {'score': 3.1168642044067383},\n",
       "  {'score': 2.2905712127685547},\n",
       "  {'score': 4.798834800720215},\n",
       "  {'score': 4.610613822937012},\n",
       "  {'score': 4.791792869567871},\n",
       "  {'score': 4.648616790771484}]}"
      ]
     },
     "execution_count": 43,
     "metadata": {},
     "output_type": "execute_result"
    }
   ],
   "source": [
    "result = predictor.predict(X_trending.toarray())\n",
    "result"
   ]
  },
  {
   "cell_type": "code",
   "execution_count": 44,
   "metadata": {
    "execution": {
     "iopub.status.busy": "2021-11-16T05:02:45.181887Z",
     "iopub.status.idle": "2021-11-16T05:02:45.182225Z",
     "shell.execute_reply": "2021-11-16T05:02:45.182068Z",
     "shell.execute_reply.started": "2021-11-16T05:02:45.182046Z"
    }
   },
   "outputs": [
    {
     "data": {
      "text/plain": [
       "[1.9962997436523438,\n",
       " 2.53277587890625,\n",
       " 3.1168642044067383,\n",
       " 2.2905712127685547,\n",
       " 4.798834800720215,\n",
       " 4.610613822937012,\n",
       " 4.791792869567871,\n",
       " 4.648616790771484]"
      ]
     },
     "execution_count": 44,
     "metadata": {},
     "output_type": "execute_result"
    }
   ],
   "source": [
    "predictions = [i[\"score\"] for i in result[\"predictions\"]]\n",
    "predictions"
   ]
  },
  {
   "cell_type": "code",
   "execution_count": 45,
   "metadata": {
    "execution": {
     "iopub.status.busy": "2021-11-16T05:02:45.183698Z",
     "iopub.status.idle": "2021-11-16T05:02:45.184510Z",
     "shell.execute_reply": "2021-11-16T05:02:45.184308Z",
     "shell.execute_reply.started": "2021-11-16T05:02:45.184253Z"
    }
   },
   "outputs": [
    {
     "data": {
      "text/plain": [
       "array([0, 3, 1, 2, 5, 7, 6, 4])"
      ]
     },
     "execution_count": 45,
     "metadata": {},
     "output_type": "execute_result"
    }
   ],
   "source": [
    "# argsort: smaller values are in front, bigger values are behind.\n",
    "\n",
    "index_array = np.array(predictions).argsort()\n",
    "index_array"
   ]
  },
  {
   "cell_type": "code",
   "execution_count": 47,
   "metadata": {
    "execution": {
     "iopub.status.busy": "2021-11-16T05:02:45.185926Z",
     "iopub.status.idle": "2021-11-16T05:02:45.186319Z",
     "shell.execute_reply": "2021-11-16T05:02:45.186120Z",
     "shell.execute_reply.started": "2021-11-16T05:02:45.186096Z"
    }
   },
   "outputs": [
    {
     "data": {
      "text/plain": [
       "array(['B00H9L7VIW', 'B0006VJ6TO', 'B00HES9CMS', 'B000SOQ30E',\n",
       "       'B00KJ07SEM', 'B000JLNBW4', 'B004MX8XO6', 'B002MPLYEW'],\n",
       "      dtype=object)"
      ]
     },
     "execution_count": 47,
     "metadata": {},
     "output_type": "execute_result"
    }
   ],
   "source": [
    "products = ohe.inverse_transform(ohe_features)[:, 1]\n",
    "products"
   ]
  },
  {
   "cell_type": "markdown",
   "metadata": {},
   "source": [
    "## Top 3 recommendations for the customer"
   ]
  },
  {
   "cell_type": "code",
   "execution_count": 48,
   "metadata": {
    "execution": {
     "iopub.status.busy": "2021-11-16T05:02:45.187293Z",
     "iopub.status.idle": "2021-11-16T05:02:45.187638Z",
     "shell.execute_reply": "2021-11-16T05:02:45.187484Z",
     "shell.execute_reply.started": "2021-11-16T05:02:45.187460Z"
    }
   },
   "outputs": [
    {
     "data": {
      "text/plain": [
       "array(['B00KJ07SEM', 'B004MX8XO6', 'B002MPLYEW'], dtype=object)"
      ]
     },
     "execution_count": 48,
     "metadata": {},
     "output_type": "execute_result"
    }
   ],
   "source": [
    "# Top 3 recommendations means take the biggest values from behind. \n",
    "# (i.e. index 4 followed by index 6, and 7).\n",
    "\n",
    "top_3_recommended = np.take_along_axis(products, index_array, axis=0)[: -3 - 1 : -1]\n",
    "top_3_recommended"
   ]
  },
  {
   "cell_type": "code",
   "execution_count": 84,
   "metadata": {},
   "outputs": [
    {
     "data": {
      "text/html": [
       "<div>\n",
       "<style scoped>\n",
       "    .dataframe tbody tr th:only-of-type {\n",
       "        vertical-align: middle;\n",
       "    }\n",
       "\n",
       "    .dataframe tbody tr th {\n",
       "        vertical-align: top;\n",
       "    }\n",
       "\n",
       "    .dataframe thead th {\n",
       "        text-align: right;\n",
       "    }\n",
       "</style>\n",
       "<table border=\"1\" class=\"dataframe\">\n",
       "  <thead>\n",
       "    <tr style=\"text-align: right;\">\n",
       "      <th></th>\n",
       "      <th>product_id</th>\n",
       "    </tr>\n",
       "  </thead>\n",
       "  <tbody>\n",
       "    <tr>\n",
       "      <th>0</th>\n",
       "      <td>B00KJ07SEM</td>\n",
       "    </tr>\n",
       "    <tr>\n",
       "      <th>1</th>\n",
       "      <td>B004MX8XO6</td>\n",
       "    </tr>\n",
       "    <tr>\n",
       "      <th>2</th>\n",
       "      <td>B002MPLYEW</td>\n",
       "    </tr>\n",
       "  </tbody>\n",
       "</table>\n",
       "</div>"
      ],
      "text/plain": [
       "   product_id\n",
       "0  B00KJ07SEM\n",
       "1  B004MX8XO6\n",
       "2  B002MPLYEW"
      ]
     },
     "execution_count": 84,
     "metadata": {},
     "output_type": "execute_result"
    }
   ],
   "source": [
    "# Convert the array to dataframe.\n",
    "df_3 = pd.DataFrame(top_3_recommended, columns=[\"product_id\"])\n",
    "df_3"
   ]
  },
  {
   "cell_type": "code",
   "execution_count": 87,
   "metadata": {},
   "outputs": [
    {
     "data": {
      "text/html": [
       "<div>\n",
       "<style scoped>\n",
       "    .dataframe tbody tr th:only-of-type {\n",
       "        vertical-align: middle;\n",
       "    }\n",
       "\n",
       "    .dataframe tbody tr th {\n",
       "        vertical-align: top;\n",
       "    }\n",
       "\n",
       "    .dataframe thead th {\n",
       "        text-align: right;\n",
       "    }\n",
       "</style>\n",
       "<table border=\"1\" class=\"dataframe\">\n",
       "  <thead>\n",
       "    <tr style=\"text-align: right;\">\n",
       "      <th></th>\n",
       "      <th>product_id</th>\n",
       "      <th>product_title</th>\n",
       "      <th>product_category</th>\n",
       "    </tr>\n",
       "  </thead>\n",
       "  <tbody>\n",
       "    <tr>\n",
       "      <th>0</th>\n",
       "      <td>B00KJ07SEM</td>\n",
       "      <td>GE MWF SmartWater Compatible Water Filter Cartridge - Refrigerator</td>\n",
       "      <td>Major Appliances</td>\n",
       "    </tr>\n",
       "    <tr>\n",
       "      <th>1</th>\n",
       "      <td>B004MX8XO6</td>\n",
       "      <td>SPT Countertop Dishwasher</td>\n",
       "      <td>Major Appliances</td>\n",
       "    </tr>\n",
       "    <tr>\n",
       "      <th>2</th>\n",
       "      <td>B002MPLYEW</td>\n",
       "      <td>Danby 120 Can Beverage Center, Stainless Steel DBC120BLS</td>\n",
       "      <td>Major Appliances</td>\n",
       "    </tr>\n",
       "  </tbody>\n",
       "</table>\n",
       "</div>"
      ],
      "text/plain": [
       "   product_id  \\\n",
       "0  B00KJ07SEM   \n",
       "1  B004MX8XO6   \n",
       "2  B002MPLYEW   \n",
       "\n",
       "                                                        product_title  \\\n",
       "0  GE MWF SmartWater Compatible Water Filter Cartridge - Refrigerator   \n",
       "1                                           SPT Countertop Dishwasher   \n",
       "2            Danby 120 Can Beverage Center, Stainless Steel DBC120BLS   \n",
       "\n",
       "   product_category  \n",
       "0  Major Appliances  \n",
       "1  Major Appliances  \n",
       "2  Major Appliances  "
      ]
     },
     "execution_count": 87,
     "metadata": {},
     "output_type": "execute_result"
    }
   ],
   "source": [
    "# Map the dataframe's product_id to get product_title and product_category.\n",
    "# These are the top-3 recommended products for the selected customer.\n",
    "\n",
    "df_recommend = pd.merge(df_3, trending_pool, on=\"product_id\")\n",
    "columns = [\"product_id\", \"product_title\", \"product_category\"]\n",
    "df_recommend = df_recommend[columns]\n",
    "df_recommend"
   ]
  },
  {
   "cell_type": "code",
   "execution_count": 50,
   "metadata": {},
   "outputs": [],
   "source": [
    "predictor.delete_endpoint()"
   ]
  }
 ],
 "metadata": {
  "kernelspec": {
   "display_name": "Python 3",
   "language": "python",
   "name": "python3"
  },
  "language_info": {
   "codemirror_mode": {
    "name": "ipython",
    "version": 3
   },
   "file_extension": ".py",
   "mimetype": "text/x-python",
   "name": "python",
   "nbconvert_exporter": "python",
   "pygments_lexer": "ipython3",
   "version": "3.7.9"
  }
 },
 "nbformat": 4,
 "nbformat_minor": 4
}
